{
 "cells": [
  {
   "cell_type": "code",
   "execution_count": 1,
   "metadata": {},
   "outputs": [],
   "source": [
    "import numpy as np\n",
    "import scipy as sp\n",
    "import pandas as pd\n",
    "from scipy import stats\n",
    "import matplotlib.pyplot as plt\n",
    "import time\n",
    "import amt.method as md\n",
    "import amt.data_loader as dl\n",
    "import pickle\n",
    "\n",
    "%matplotlib inline\n",
    "%load_ext autoreload\n",
    "%autoreload 2"
   ]
  },
  {
   "cell_type": "markdown",
   "metadata": {},
   "source": [
    "# Load the data"
   ]
  },
  {
   "cell_type": "code",
   "execution_count": 13,
   "metadata": {},
   "outputs": [
    {
     "name": "stderr",
     "output_type": "stream",
     "text": [
      "/home/martin/anaconda3/lib/python3.6/site-packages/IPython/core/interactiveshell.py:2698: DtypeWarning: Columns (0) have mixed types. Specify dtype option on import or set low_memory=False.\n",
      "  interactivity=interactivity, compiler=compiler, result=result)\n"
     ]
    }
   ],
   "source": [
    "output_folder = '../../results/GWAS'\n",
    "output_file = output_folder + '/small_GWAS_chr1.pickle'\n",
    "with open('../../parkinsons/parkinsons.pickle', 'rb') as f:\n",
    "    X = pickle.load(f)\n",
    "    y = pickle.load(f)\n",
    "    miss_prop = pickle.load(f)\n",
    "y = y-1\n",
    "file_map = '../../parkinsons/parkinsons.map'\n",
    "df_map = pd.read_csv(file_map, delimiter='\\t', \n",
    "                     names=['chromosome', 'snp', 'start', 'end'])\n",
    "n_sample, n_snp = X.shape\n",
    "ind_small = np.array(df_map['chromosome']==1, dtype=bool)\n",
    "ind_snp = np.array(miss_prop[ind_small]<0.05, dtype=bool)\n",
    "n_hypothesis = np.sum(ind_snp)"
   ]
  },
  {
   "cell_type": "code",
   "execution_count": 3,
   "metadata": {},
   "outputs": [],
   "source": [
    "# Compute the expected observations\n",
    "Exp = np.zeros([8, n_snp], dtype=float)\n",
    "for iy in range(2):\n",
    "    for ix in range(4):\n",
    "        Exp[iy*4+ix,:] = np.mean(y==iy) * np.mean(X==ix,axis=0)\n",
    "Exp = Exp*n_sample\n",
    "r_Exp = 1/Exp.clip(min=1e-6)*(Exp>0)\n",
    "chi2_obs = md.compute_chi2(y, X, Exp, r_Exp)\n",
    "data_gwas = {'X':X, 'y':y, 'Exp':Exp, 'r_Exp':r_Exp, 'chi2_obs':chi2_obs}"
   ]
  },
  {
   "cell_type": "markdown",
   "metadata": {},
   "source": [
    "# Compute fMC p-values"
   ]
  },
  {
   "cell_type": "code",
   "execution_count": 4,
   "metadata": {},
   "outputs": [],
   "source": [
    "n_fMC = int(2.5e5)\n",
    "# n_fMC = int(5e5)\n",
    "data_gwas_small = {'X':X[:,ind_small], 'y':y, 'Exp':Exp[:,ind_small],\n",
    "                   'r_Exp':r_Exp[:,ind_small], 'chi2_obs':chi2_obs[ind_small]}"
   ]
  },
  {
   "cell_type": "code",
   "execution_count": 5,
   "metadata": {},
   "outputs": [
    {
     "name": "stdout",
     "output_type": "stream",
     "text": [
      "# Time=3147.6s\n"
     ]
    }
   ],
   "source": [
    "np.random.seed(0)\n",
    "start_time = time.time()\n",
    "B = md.permute_chi2_batch_ncore(data_gwas_small['y'],\n",
    "                                data_gwas_small['X'],\n",
    "                                data_gwas_small['Exp'],\n",
    "                                data_gwas_small['r_Exp'],\n",
    "                                data_gwas_small['chi2_obs'], n_fMC,\n",
    "                                verbose=True,\n",
    "                                n_core=32)\n",
    "p_fmc = (np.sum(B, axis=0)+1)/(n_fMC+1)\n",
    "print('# Time=%0.1fs'%(time.time()-start_time))\n",
    "time_fMC = time.time()-start_time\n",
    "res_fMC = {'time':time.time()-start_time,\n",
    "           'p_fmc': p_fmc,\n",
    "           'B1':B[0:80000,:],\n",
    "           'B2':B[80000:160000:,:],\n",
    "           'B3':B[160000:,:]}\n",
    "with open(output_file, \"wb\") as f:\n",
    "    pickle.dump(res_fMC, f)    "
   ]
  },
  {
   "cell_type": "code",
   "execution_count": 6,
   "metadata": {},
   "outputs": [],
   "source": [
    "res_fMC = {'time':time.time()-start_time,\n",
    "           'p_fmc': p_fmc,\n",
    "           'B1':B[0:80000,:],\n",
    "           'B2':B[80000:160000:,:],\n",
    "           'B3':B[160000:,:]}\n",
    "with open(output_file, \"wb\") as f:\n",
    "    pickle.dump(res_fMC, f)    "
   ]
  },
  {
   "cell_type": "markdown",
   "metadata": {},
   "source": [
    "# Result analysis"
   ]
  },
  {
   "cell_type": "code",
   "execution_count": 7,
   "metadata": {},
   "outputs": [],
   "source": [
    "with open(output_file, 'rb')as f:\n",
    "    res_dic = pickle.load(f)\n",
    "B = np.concatenate([res_dic['B1'], res_dic['B2']], axis=0)\n",
    "B = np.concatenate([B, res_dic['B3']], axis=0)\n",
    "p_fmc = res_dic['p_fmc']"
   ]
  },
  {
   "cell_type": "code",
   "execution_count": 8,
   "metadata": {
    "scrolled": true
   },
   "outputs": [
    {
     "name": "stdout",
     "output_type": "stream",
     "text": [
      "25\n",
      "###\n",
      "      chromosome       snp  start       end\n",
      "10385          1  rs988421      0  72261857\n",
      "decision [ True]\n",
      "miss_prop=0.0019, p_fmc= [3.5999856e-05]\n",
      "\n",
      "###\n",
      "      chromosome        snp  start        end\n",
      "22113          1  rs1887279      0  180641817\n",
      "decision [ True]\n",
      "miss_prop=0.0000, p_fmc= [4.3999824e-05]\n",
      "\n",
      "###\n",
      "      chromosome        snp  start        end\n",
      "22108          1  rs2986574      0  180638271\n",
      "decision [ True]\n",
      "miss_prop=0.0019, p_fmc= [4.3999824e-05]\n",
      "\n",
      "###\n",
      "      chromosome        snp  start        end\n",
      "22111          1  rs3010040      0  180639879\n",
      "decision [ True]\n",
      "miss_prop=0.0000, p_fmc= [5.999976e-05]\n",
      "\n",
      "###\n",
      "      chromosome        snp  start        end\n",
      "22112          1  rs2296713      0  180641374\n",
      "decision [ True]\n",
      "miss_prop=0.0000, p_fmc= [5.999976e-05]\n",
      "\n"
     ]
    }
   ],
   "source": [
    "snp_list = ['rs10501570', 'rs281357', 'rs2242330', 'rs1480597', 'rs6826751', 'rs4888984',\n",
    "            'rs4862792', 'rs3775866', 'rs2235617', 'rs988421', 'rs7097094', 'rs999473',\n",
    "            'rs1912373', 'rs1887279', 'rs2986574', 'rs11090762', 'rs6125829', 'rs7796855',\n",
    "            'rs355477', 'rs3010040', 'rs2296713', 'rs355461', 'rs355506', 'rs355464',\n",
    "            'rs1497430', 'rs11946612']\n",
    "tau_fmc = md.bh(p_fmc[ind_snp], alpha=0.1)\n",
    "h_fmc = (p_fmc[ind_snp] <= tau_fmc)\n",
    "print(np.sum(h_fmc))\n",
    "df_map_c4 = df_map.loc[ind_small]\n",
    "for snp in snp_list:\n",
    "    temp = df_map_c4['snp']==snp\n",
    "    if np.sum(temp)>0:\n",
    "        print('###')\n",
    "        print(df_map_c4.loc[temp])\n",
    "        print('decision', h_fmc[temp[ind_snp]])\n",
    "        print('miss_prop=%0.4f, p_fmc='%(miss_prop[ind_small][temp]),\n",
    "                                        p_fmc[temp])\n",
    "        print('')"
   ]
  },
  {
   "cell_type": "markdown",
   "metadata": {},
   "source": [
    "# Corresponding AMT result"
   ]
  },
  {
   "cell_type": "code",
   "execution_count": 9,
   "metadata": {},
   "outputs": [],
   "source": [
    "temp_B = B[:,ind_snp]"
   ]
  },
  {
   "cell_type": "code",
   "execution_count": 10,
   "metadata": {},
   "outputs": [
    {
     "name": "stdout",
     "output_type": "stream",
     "text": [
      "# Initialization parameters\n",
      "# n_hypothesis=31164, n_fMC=250000, alpha=0.10, increment=1.10\n",
      "# delta 0.001\n",
      "# delta_CI 2.581683873925082e-09\n",
      "# r_hat=31164, tau_hat=0.1000\n",
      "# batch_size [  100   111   122   134   147   162   178   195   215   236   260   286\n",
      "   314   346   380   418   460   506   556   612   673   741   815   896\n",
      "   985  1084  1192  1311  1443  1587  1745  1920  2112  2323  2555  2811\n",
      "  3092  3401  3741  4115  4526  4979  5477  6025  6627  7290  8018  8820\n",
      "  9702 10672 11740 12913 14205 15625 17188 18906 20797 22210]\n",
      "# sum of batch size = 250000\n",
      "# Initialization completed: time=-0.004s\n",
      "# 0, avg_sample=100.0, tau=0.01540, r_hat=4798, n_u=4798, n_g=26366, n_l=0\n",
      "# 1, avg_sample=117.1, tau=0.00982, r_hat=3059, n_u=3059, n_g=28105, n_l=0\n",
      "# 2, avg_sample=129.1, tau=0.00696, r_hat=2169, n_u=2169, n_g=28995, n_l=0\n",
      "# 3, avg_sample=138.4, tau=0.00535, r_hat=1668, n_u=1668, n_g=29496, n_l=0\n",
      "# 4, avg_sample=146.3, tau=0.00447, r_hat=1392, n_u=1392, n_g=29772, n_l=0\n",
      "# 5, avg_sample=153.5, tau=0.00366, r_hat=1141, n_u=1141, n_g=30023, n_l=0\n",
      "# 6, avg_sample=160.0, tau=0.00319, r_hat=995, n_u=995, n_g=30169, n_l=0\n",
      "# 7, avg_sample=166.2, tau=0.00287, r_hat=894, n_u=894, n_g=30270, n_l=0\n",
      "# 8, avg_sample=172.4, tau=0.00253, r_hat=787, n_u=787, n_g=30377, n_l=0\n",
      "# 9, avg_sample=178.4, tau=0.00220, r_hat=687, n_u=687, n_g=30477, n_l=0\n",
      "# 10, avg_sample=184.1, tau=0.00198, r_hat=617, n_u=617, n_g=30547, n_l=0\n",
      "# 11, avg_sample=189.8, tau=0.00177, r_hat=552, n_u=552, n_g=30612, n_l=0\n",
      "# 12, avg_sample=195.3, tau=0.00157, r_hat=489, n_u=489, n_g=30675, n_l=0\n",
      "# 13, avg_sample=200.8, tau=0.00144, r_hat=450, n_u=450, n_g=30714, n_l=0\n",
      "# 14, avg_sample=206.2, tau=0.00129, r_hat=403, n_u=403, n_g=30761, n_l=0\n",
      "# 15, avg_sample=211.6, tau=0.00116, r_hat=360, n_u=360, n_g=30804, n_l=0\n",
      "# 16, avg_sample=217.0, tau=0.00104, r_hat=324, n_u=324, n_g=30840, n_l=0\n",
      "# 17, avg_sample=222.2, tau=0.00100, r_hat=312, n_u=312, n_g=30852, n_l=0\n",
      "# 18, avg_sample=227.8, tau=0.00091, r_hat=284, n_u=284, n_g=30880, n_l=0\n",
      "# 19, avg_sample=233.4, tau=0.00085, r_hat=265, n_u=265, n_g=30899, n_l=0\n",
      "# 20, avg_sample=239.1, tau=0.00081, r_hat=253, n_u=253, n_g=30911, n_l=0\n",
      "# 21, avg_sample=245.1, tau=0.00078, r_hat=243, n_u=243, n_g=30921, n_l=0\n",
      "# 22, avg_sample=251.5, tau=0.00072, r_hat=225, n_u=225, n_g=30939, n_l=0\n",
      "# 23, avg_sample=257.9, tau=0.00067, r_hat=209, n_u=209, n_g=30955, n_l=0\n",
      "# 24, avg_sample=264.5, tau=0.00063, r_hat=196, n_u=196, n_g=30968, n_l=0\n",
      "# 25, avg_sample=271.3, tau=0.00059, r_hat=183, n_u=183, n_g=30981, n_l=0\n",
      "# 26, avg_sample=278.3, tau=0.00055, r_hat=172, n_u=172, n_g=30992, n_l=0\n",
      "# 27, avg_sample=285.6, tau=0.00052, r_hat=163, n_u=163, n_g=31001, n_l=0\n",
      "# 28, avg_sample=293.1, tau=0.00051, r_hat=159, n_u=159, n_g=31005, n_l=0\n",
      "# 29, avg_sample=301.2, tau=0.00049, r_hat=153, n_u=153, n_g=31011, n_l=0\n",
      "# 30, avg_sample=309.8, tau=0.00047, r_hat=147, n_u=147, n_g=31017, n_l=0\n",
      "# 31, avg_sample=318.9, tau=0.00045, r_hat=140, n_u=140, n_g=31024, n_l=0\n",
      "# 32, avg_sample=328.3, tau=0.00044, r_hat=137, n_u=137, n_g=31027, n_l=0\n",
      "# 33, avg_sample=338.6, tau=0.00043, r_hat=133, n_u=133, n_g=31031, n_l=0\n",
      "# 34, avg_sample=349.5, tau=0.00042, r_hat=130, n_u=130, n_g=31034, n_l=0\n",
      "# 35, avg_sample=361.2, tau=0.00040, r_hat=126, n_u=126, n_g=31038, n_l=0\n",
      "# 36, avg_sample=373.7, tau=0.00040, r_hat=124, n_u=124, n_g=31040, n_l=0\n",
      "# 37, avg_sample=387.2, tau=0.00039, r_hat=120, n_u=120, n_g=31044, n_l=0\n",
      "# 38, avg_sample=401.6, tau=0.00038, r_hat=118, n_u=118, n_g=31046, n_l=0\n",
      "# 39, avg_sample=417.2, tau=0.00035, r_hat=109, n_u=109, n_g=31055, n_l=0\n",
      "# 40, avg_sample=433.0, tau=0.00033, r_hat=104, n_u=104, n_g=31060, n_l=0\n",
      "# 41, avg_sample=449.6, tau=0.00030, r_hat=94, n_u=94, n_g=31070, n_l=0\n",
      "# 42, avg_sample=466.2, tau=0.00028, r_hat=86, n_u=86, n_g=31078, n_l=0\n",
      "# 43, avg_sample=482.8, tau=0.00028, r_hat=86, n_u=86, n_g=31078, n_l=0\n",
      "# 44, avg_sample=501.1, tau=0.00027, r_hat=85, n_u=85, n_g=31079, n_l=0\n",
      "# 45, avg_sample=521.0, tau=0.00026, r_hat=82, n_u=82, n_g=31082, n_l=0\n",
      "# 46, avg_sample=542.1, tau=0.00026, r_hat=80, n_u=80, n_g=31084, n_l=0\n",
      "# 47, avg_sample=564.7, tau=0.00025, r_hat=78, n_u=78, n_g=31086, n_l=0\n",
      "# 48, avg_sample=589.0, tau=0.00024, r_hat=75, n_u=75, n_g=31089, n_l=0\n",
      "# 49, avg_sample=614.7, tau=0.00022, r_hat=68, n_u=68, n_g=31096, n_l=0\n",
      "# 50, avg_sample=640.3, tau=0.00021, r_hat=65, n_u=65, n_g=31099, n_l=0\n",
      "# 51, avg_sample=667.2, tau=0.00020, r_hat=63, n_u=63, n_g=31101, n_l=0\n",
      "# 52, avg_sample=695.9, tau=0.00020, r_hat=63, n_u=63, n_g=31101, n_l=0\n",
      "# 53, avg_sample=727.5, tau=0.00020, r_hat=63, n_u=63, n_g=31101, n_l=0\n",
      "# 54, avg_sample=762.3, tau=0.00019, r_hat=58, n_u=58, n_g=31106, n_l=0\n",
      "# 55, avg_sample=797.5, tau=0.00018, r_hat=56, n_u=56, n_g=31108, n_l=0\n",
      "# 56, avg_sample=834.8, tau=0.00018, r_hat=55, n_u=55, n_g=31109, n_l=0\n",
      "# 57, avg_sample=874.0, tau=0.00008, r_hat=25, n_u=0, n_g=31139, n_l=25\n",
      "# AMT: avg. MC samples = 874.0, time=0.70s\n",
      "# D_AMT=25, D_overlap=25, D_fMC=25\n",
      "\n"
     ]
    }
   ],
   "source": [
    "start_time = time.time()\n",
    "p_hat_ub, p_hat_lb, p_hat, tau_hat, n_amt = md.amt(md.f_sample_dummy, temp_B, n_hypothesis,\n",
    "                                         alpha=0.1, n_fMC=n_fMC,\n",
    "                                         verbose=True, delta=0.001)\n",
    "h_amt = (p_hat_ub <= tau_hat)\n",
    "print('# AMT: avg. MC samples = %0.1f, time=%0.2fs'%(np.mean(n_amt),\n",
    "                                                     time.time()-start_time))\n",
    "print('# D_AMT=%d, D_overlap=%d, D_fMC=%d'%(md.result_compare(h_amt, h_fmc)))\n",
    "print('')"
   ]
  },
  {
   "cell_type": "markdown",
   "metadata": {},
   "source": [
    "# Directly run AMT "
   ]
  },
  {
   "cell_type": "code",
   "execution_count": 11,
   "metadata": {},
   "outputs": [],
   "source": [
    "temp_data = {'X':X[:,ind_small][:, ind_snp], 'y':y, \n",
    "             'Exp':Exp[:,ind_small][:, ind_snp],\n",
    "             'r_Exp':r_Exp[:,ind_small][:, ind_snp],\n",
    "             'chi2_obs':chi2_obs[ind_small][ind_snp]}"
   ]
  },
  {
   "cell_type": "code",
   "execution_count": 12,
   "metadata": {},
   "outputs": [
    {
     "name": "stdout",
     "output_type": "stream",
     "text": [
      "# Initialization parameters\n",
      "# n_hypothesis=31164, n_fMC=250000, alpha=0.10, increment=1.10\n",
      "# delta 0.001\n",
      "# delta_CI 2.581683873925082e-09\n",
      "# r_hat=31164, tau_hat=0.1000\n",
      "# batch_size [  100   111   122   134   147   162   178   195   215   236   260   286\n",
      "   314   346   380   418   460   506   556   612   673   741   815   896\n",
      "   985  1084  1192  1311  1443  1587  1745  1920  2112  2323  2555  2811\n",
      "  3092  3401  3741  4115  4526  4979  5477  6025  6627  7290  8018  8820\n",
      "  9702 10672 11740 12913 14205 15625 17188 18906 20797 22210]\n",
      "# sum of batch size = 250000\n",
      "# Initialization completed: time=-0.003s\n",
      "# 0, avg_sample=100.0, tau=0.01533, r_hat=4776, n_u=4776, n_g=26388, n_l=0\n",
      "# 1, avg_sample=117.0, tau=0.00971, r_hat=3027, n_u=3027, n_g=28137, n_l=0\n",
      "# 2, avg_sample=128.9, tau=0.00700, r_hat=2180, n_u=2180, n_g=28984, n_l=0\n",
      "# 3, avg_sample=138.2, tau=0.00540, r_hat=1684, n_u=1684, n_g=29480, n_l=0\n",
      "# 4, avg_sample=146.2, tau=0.00448, r_hat=1395, n_u=1395, n_g=29769, n_l=0\n",
      "# 5, avg_sample=153.4, tau=0.00371, r_hat=1155, n_u=1155, n_g=30009, n_l=0\n",
      "# 6, avg_sample=160.0, tau=0.00324, r_hat=1011, n_u=1011, n_g=30153, n_l=0\n",
      "# 7, avg_sample=166.4, tau=0.00288, r_hat=898, n_u=898, n_g=30266, n_l=0\n",
      "# 8, avg_sample=172.5, tau=0.00254, r_hat=793, n_u=793, n_g=30371, n_l=0\n",
      "# 9, avg_sample=178.6, tau=0.00218, r_hat=679, n_u=679, n_g=30485, n_l=0\n",
      "# 10, avg_sample=184.2, tau=0.00199, r_hat=621, n_u=621, n_g=30543, n_l=0\n",
      "# 11, avg_sample=189.9, tau=0.00175, r_hat=545, n_u=545, n_g=30619, n_l=0\n",
      "# 12, avg_sample=195.4, tau=0.00155, r_hat=483, n_u=483, n_g=30681, n_l=0\n",
      "# 13, avg_sample=200.8, tau=0.00139, r_hat=432, n_u=432, n_g=30732, n_l=0\n",
      "# 14, avg_sample=206.0, tau=0.00132, r_hat=410, n_u=410, n_g=30754, n_l=0\n",
      "# 15, avg_sample=211.5, tau=0.00115, r_hat=359, n_u=359, n_g=30805, n_l=0\n",
      "# 16, avg_sample=216.8, tau=0.00105, r_hat=326, n_u=326, n_g=30838, n_l=0\n",
      "# 17, avg_sample=222.1, tau=0.00095, r_hat=297, n_u=297, n_g=30867, n_l=0\n",
      "# 18, avg_sample=227.4, tau=0.00090, r_hat=279, n_u=279, n_g=30885, n_l=0\n",
      "# 19, avg_sample=232.9, tau=0.00088, r_hat=274, n_u=274, n_g=30890, n_l=0\n",
      "# 20, avg_sample=238.8, tau=0.00082, r_hat=254, n_u=254, n_g=30910, n_l=0\n",
      "# 21, avg_sample=244.9, tau=0.00079, r_hat=245, n_u=245, n_g=30919, n_l=0\n",
      "# 22, avg_sample=251.3, tau=0.00072, r_hat=223, n_u=223, n_g=30941, n_l=0\n",
      "# 23, avg_sample=257.7, tau=0.00064, r_hat=201, n_u=201, n_g=30963, n_l=0\n",
      "# 24, avg_sample=264.0, tau=0.00062, r_hat=194, n_u=194, n_g=30970, n_l=0\n",
      "# 25, avg_sample=270.8, tau=0.00057, r_hat=179, n_u=179, n_g=30985, n_l=0\n",
      "# 26, avg_sample=277.6, tau=0.00052, r_hat=163, n_u=163, n_g=31001, n_l=0\n",
      "# 27, avg_sample=284.5, tau=0.00049, r_hat=154, n_u=154, n_g=31010, n_l=0\n",
      "# 28, avg_sample=291.6, tau=0.00048, r_hat=149, n_u=149, n_g=31015, n_l=0\n",
      "# 29, avg_sample=299.2, tau=0.00046, r_hat=144, n_u=144, n_g=31020, n_l=0\n",
      "# 30, avg_sample=307.3, tau=0.00045, r_hat=140, n_u=140, n_g=31024, n_l=0\n",
      "# 31, avg_sample=315.9, tau=0.00043, r_hat=134, n_u=134, n_g=31030, n_l=0\n",
      "# 32, avg_sample=325.0, tau=0.00043, r_hat=133, n_u=133, n_g=31031, n_l=0\n",
      "# 33, avg_sample=334.9, tau=0.00042, r_hat=130, n_u=130, n_g=31034, n_l=0\n",
      "# 34, avg_sample=345.5, tau=0.00040, r_hat=126, n_u=126, n_g=31038, n_l=0\n",
      "# 35, avg_sample=356.9, tau=0.00040, r_hat=125, n_u=125, n_g=31039, n_l=0\n",
      "# 36, avg_sample=369.3, tau=0.00039, r_hat=123, n_u=123, n_g=31041, n_l=0\n",
      "# 37, avg_sample=382.7, tau=0.00038, r_hat=118, n_u=118, n_g=31046, n_l=0\n",
      "# 38, avg_sample=396.9, tau=0.00035, r_hat=109, n_u=109, n_g=31055, n_l=0\n",
      "# 39, avg_sample=411.3, tau=0.00035, r_hat=109, n_u=109, n_g=31055, n_l=0\n",
      "# 40, avg_sample=427.1, tau=0.00033, r_hat=104, n_u=104, n_g=31060, n_l=0\n",
      "# 41, avg_sample=443.7, tau=0.00033, r_hat=102, n_u=102, n_g=31062, n_l=0\n",
      "# 42, avg_sample=461.7, tau=0.00030, r_hat=92, n_u=92, n_g=31072, n_l=0\n",
      "# 43, avg_sample=479.5, tau=0.00029, r_hat=90, n_u=90, n_g=31074, n_l=0\n",
      "# 44, avg_sample=498.6, tau=0.00029, r_hat=90, n_u=90, n_g=31074, n_l=0\n",
      "# 45, avg_sample=519.6, tau=0.00028, r_hat=87, n_u=87, n_g=31077, n_l=0\n",
      "# 46, avg_sample=542.0, tau=0.00027, r_hat=83, n_u=83, n_g=31081, n_l=0\n",
      "# 47, avg_sample=565.5, tau=0.00026, r_hat=82, n_u=82, n_g=31082, n_l=0\n",
      "# 48, avg_sample=591.0, tau=0.00025, r_hat=78, n_u=78, n_g=31086, n_l=0\n",
      "# 49, avg_sample=617.8, tau=0.00021, r_hat=67, n_u=67, n_g=31097, n_l=0\n",
      "# 50, avg_sample=643.0, tau=0.00021, r_hat=65, n_u=65, n_g=31099, n_l=0\n",
      "# 51, avg_sample=669.9, tau=0.00020, r_hat=62, n_u=62, n_g=31102, n_l=0\n",
      "# 52, avg_sample=698.2, tau=0.00020, r_hat=62, n_u=62, n_g=31102, n_l=0\n",
      "# 53, avg_sample=729.3, tau=0.00020, r_hat=62, n_u=62, n_g=31102, n_l=0\n",
      "# 54, avg_sample=763.5, tau=0.00020, r_hat=61, n_u=61, n_g=31103, n_l=0\n",
      "# 55, avg_sample=800.5, tau=0.00017, r_hat=54, n_u=54, n_g=31110, n_l=0\n",
      "# 56, avg_sample=836.5, tau=0.00017, r_hat=54, n_u=54, n_g=31110, n_l=0\n",
      "# 57, avg_sample=875.0, tau=0.00006, r_hat=18, n_u=0, n_g=31146, n_l=18\n",
      "# AMT: avg. MC samples = 875.0, time=99.74s\n",
      "# D_AMT=18, D_overlap=18, D_fMC=25\n",
      "\n"
     ]
    }
   ],
   "source": [
    "start_time = time.time()\n",
    "p_hat_ub, p_hat_lb, p_hat, tau_hat, n_amt = md.amt(md.f_sample_chi2, temp_data, n_hypothesis,\n",
    "                                         alpha=0.1, n_fMC=n_fMC,\n",
    "                                         verbose=True, delta=0.001,\n",
    "                                         random_state=0)\n",
    "h_amt = (p_hat_ub <= tau_hat)\n",
    "print('# AMT: avg. MC samples = %0.1f, time=%0.2fs'%(np.mean(n_amt),\n",
    "                                                     time.time()-start_time))\n",
    "print('# D_AMT=%d, D_overlap=%d, D_fMC=%d'%(md.result_compare(h_amt, h_fmc)))\n",
    "print('')"
   ]
  },
  {
   "cell_type": "code",
   "execution_count": null,
   "metadata": {},
   "outputs": [],
   "source": []
  }
 ],
 "metadata": {
  "kernelspec": {
   "display_name": "Python 3",
   "language": "python",
   "name": "python3"
  },
  "language_info": {
   "codemirror_mode": {
    "name": "ipython",
    "version": 3
   },
   "file_extension": ".py",
   "mimetype": "text/x-python",
   "name": "python",
   "nbconvert_exporter": "python",
   "pygments_lexer": "ipython3",
   "version": "3.6.3"
  }
 },
 "nbformat": 4,
 "nbformat_minor": 2
}
