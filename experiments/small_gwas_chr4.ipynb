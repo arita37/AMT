{
 "cells": [
  {
   "cell_type": "code",
   "execution_count": 1,
   "metadata": {},
   "outputs": [],
   "source": [
    "import numpy as np\n",
    "import scipy as sp\n",
    "import pandas as pd\n",
    "from scipy import stats\n",
    "import matplotlib.pyplot as plt\n",
    "import time\n",
    "import amt.method as md\n",
    "import amt.data_loader as dl\n",
    "import pickle\n",
    "\n",
    "%matplotlib inline\n",
    "%load_ext autoreload\n",
    "%autoreload 2"
   ]
  },
  {
   "cell_type": "markdown",
   "metadata": {},
   "source": [
    "# Load the data"
   ]
  },
  {
   "cell_type": "code",
   "execution_count": 2,
   "metadata": {},
   "outputs": [
    {
     "name": "stderr",
     "output_type": "stream",
     "text": [
      "/home/martin/anaconda3/lib/python3.6/site-packages/IPython/core/interactiveshell.py:2698: DtypeWarning: Columns (0) have mixed types. Specify dtype option on import or set low_memory=False.\n",
      "  interactivity=interactivity, compiler=compiler, result=result)\n"
     ]
    }
   ],
   "source": [
    "output_folder = '../../results/GWAS'\n",
    "output_file = output_folder + '/small_GWAS_chr4.pickle'\n",
    "with open('../../parkinsons/parkinsons.pickle', 'rb') as f:\n",
    "    X = pickle.load(f)\n",
    "    y = pickle.load(f)\n",
    "    miss_prop = pickle.load(f)\n",
    "y = y-1\n",
    "file_map = '../../parkinsons/parkinsons.map'\n",
    "df_map = pd.read_csv(file_map, delimiter='\\t', \n",
    "                     names=['chromosome', 'snp', 'start', 'end'])\n",
    "n_sample, n_snp = X.shape\n",
    "ind_small = np.array(df_map['chromosome']==4, dtype=bool)\n",
    "ind_snp = np.array(miss_prop[ind_small]<0.05, dtype=bool)\n",
    "n_hypothesis = np.sum(ind_snp)"
   ]
  },
  {
   "cell_type": "code",
   "execution_count": 3,
   "metadata": {},
   "outputs": [],
   "source": [
    "# Compute the expected observations\n",
    "Exp = np.zeros([8, n_snp], dtype=float)\n",
    "for iy in range(2):\n",
    "    for ix in range(4):\n",
    "        Exp[iy*4+ix,:] = np.mean(y==iy) * np.mean(X==ix,axis=0)\n",
    "Exp = Exp*n_sample\n",
    "r_Exp = 1/Exp.clip(min=1e-6)*(Exp>0)\n",
    "chi2_obs = md.compute_chi2(y, X, Exp, r_Exp)\n",
    "data_gwas = {'X':X, 'y':y, 'Exp':Exp, 'r_Exp':r_Exp, 'chi2_obs':chi2_obs}"
   ]
  },
  {
   "cell_type": "markdown",
   "metadata": {},
   "source": [
    "# Compute fMC p-values"
   ]
  },
  {
   "cell_type": "code",
   "execution_count": 4,
   "metadata": {},
   "outputs": [],
   "source": [
    "n_fMC = int(2.5e5)\n",
    "# n_fMC = int(5e5)\n",
    "data_gwas_small = {'X':X[:,ind_small], 'y':y, 'Exp':Exp[:,ind_small],\n",
    "                   'r_Exp':r_Exp[:,ind_small], 'chi2_obs':chi2_obs[ind_small]}"
   ]
  },
  {
   "cell_type": "code",
   "execution_count": 5,
   "metadata": {},
   "outputs": [
    {
     "name": "stdout",
     "output_type": "stream",
     "text": [
      "# Time=2031.9s\n"
     ]
    }
   ],
   "source": [
    "np.random.seed(0)\n",
    "start_time = time.time()\n",
    "B = md.permute_chi2_batch_ncore(data_gwas_small['y'],\n",
    "                                data_gwas_small['X'],\n",
    "                                data_gwas_small['Exp'],\n",
    "                                data_gwas_small['r_Exp'],\n",
    "                                data_gwas_small['chi2_obs'], n_fMC,\n",
    "                                verbose=True,\n",
    "                                n_core=32)\n",
    "p_fmc = (np.sum(B, axis=0)+1)/(n_fMC+1)\n",
    "print('# Time=%0.1fs'%(time.time()-start_time))\n",
    "time_fMC = time.time()-start_time\n",
    "res_fMC = {'time':time.time()-start_time,\n",
    "           'p_fmc': p_fmc,\n",
    "           'B1':B[0:100000,:],\n",
    "           'B2':B[100000:,:]}\n",
    "with open(output_file, \"wb\") as f:\n",
    "    pickle.dump(res_fMC, f)    "
   ]
  },
  {
   "cell_type": "markdown",
   "metadata": {},
   "source": [
    "# Result analysis"
   ]
  },
  {
   "cell_type": "code",
   "execution_count": 6,
   "metadata": {},
   "outputs": [],
   "source": [
    "with open(output_file, 'rb')as f:\n",
    "    res_dic = pickle.load(f)\n",
    "B = np.concatenate([res_dic['B1'], res_dic['B2']], axis=0)\n",
    "p_fmc = res_dic['p_fmc']"
   ]
  },
  {
   "cell_type": "code",
   "execution_count": 7,
   "metadata": {
    "scrolled": true
   },
   "outputs": [
    {
     "name": "stdout",
     "output_type": "stream",
     "text": [
      "47\n",
      "###\n",
      "       chromosome        snp  start       end\n",
      "100847          4  rs2242330      0  68276015\n",
      "decision [ True]\n",
      "miss_prop=0.0000, p_fmc= [7.999968e-06]\n",
      "\n",
      "###\n",
      "       chromosome        snp  start       end\n",
      "100837          4  rs6826751      0  68262621\n",
      "decision [ True]\n",
      "miss_prop=0.0019, p_fmc= [1.5999936e-05]\n",
      "\n",
      "###\n",
      "       chromosome        snp  start        end\n",
      "115749          4  rs4862792      0  188576499\n",
      "decision [ True]\n",
      "miss_prop=0.0483, p_fmc= [3.999984e-06]\n",
      "\n",
      "###\n",
      "       chromosome        snp  start       end\n",
      "100842          4  rs3775866      0  68272946\n",
      "decision [ True]\n",
      "miss_prop=0.0000, p_fmc= [3.5999856e-05]\n",
      "\n",
      "###\n",
      "       chromosome       snp  start       end\n",
      "100830          4  rs355477      0  68225291\n",
      "decision [ True]\n",
      "miss_prop=0.0074, p_fmc= [7.999968e-05]\n",
      "\n",
      "###\n",
      "       chromosome       snp  start       end\n",
      "100828          4  rs355461      0  68209490\n",
      "decision [ True]\n",
      "miss_prop=0.0000, p_fmc= [7.999968e-05]\n",
      "\n",
      "###\n",
      "       chromosome       snp  start       end\n",
      "100829          4  rs355506      0  68214848\n",
      "decision [ True]\n",
      "miss_prop=0.0000, p_fmc= [7.999968e-05]\n",
      "\n",
      "###\n",
      "       chromosome       snp  start       end\n",
      "100825          4  rs355464      0  68207890\n",
      "decision [ True]\n",
      "miss_prop=0.0112, p_fmc= [0.000132]\n",
      "\n",
      "###\n",
      "       chromosome        snp  start       end\n",
      "100821          4  rs1497430      0  68186580\n",
      "decision [ True]\n",
      "miss_prop=0.0037, p_fmc= [5.1999792e-05]\n",
      "\n",
      "###\n",
      "       chromosome         snp  start       end\n",
      "100819          4  rs11946612      0  68164737\n",
      "decision [ True]\n",
      "miss_prop=0.0037, p_fmc= [4.7999808e-05]\n",
      "\n"
     ]
    }
   ],
   "source": [
    "snp_list = ['rs10501570', 'rs281357', 'rs2242330', 'rs1480597', 'rs6826751', 'rs4888984',\n",
    "            'rs4862792', 'rs3775866', 'rs2235617', 'rs988421', 'rs7097094', 'rs999473',\n",
    "            'rs1912373', 'rs1887279', 'rs2986574', 'rs11090762', 'rs6125829', 'rs7796855',\n",
    "            'rs355477', 'rs3010040', 'rs2296713', 'rs355461', 'rs355506', 'rs355464',\n",
    "            'rs1497430', 'rs11946612']\n",
    "tau_fmc = md.bh(p_fmc[ind_snp], alpha=0.1)\n",
    "h_fmc = (p_fmc[ind_snp] <= tau_fmc)\n",
    "print(np.sum(h_fmc))\n",
    "df_map_c4 = df_map.loc[ind_small]\n",
    "for snp in snp_list:\n",
    "    temp = df_map_c4['snp']==snp\n",
    "    if np.sum(temp)>0:\n",
    "        print('###')\n",
    "        print(df_map_c4.loc[temp])\n",
    "        print('decision', h_fmc[temp[ind_snp]])\n",
    "        print('miss_prop=%0.4f, p_fmc='%(miss_prop[ind_small][temp]),\n",
    "                                        p_fmc[temp])\n",
    "        print('')"
   ]
  },
  {
   "cell_type": "markdown",
   "metadata": {},
   "source": [
    "# Corresponding AMT result"
   ]
  },
  {
   "cell_type": "code",
   "execution_count": 8,
   "metadata": {},
   "outputs": [],
   "source": [
    "temp_B = B[:,ind_snp]"
   ]
  },
  {
   "cell_type": "code",
   "execution_count": 9,
   "metadata": {},
   "outputs": [
    {
     "name": "stdout",
     "output_type": "stream",
     "text": [
      "# Initialization parameters\n",
      "# n_hypothesis=23915, n_fMC=250000, alpha=0.10, increment=1.10\n",
      "# delta 0.001\n",
      "# delta_CI 3.3642314968430376e-09\n",
      "# r_hat=23915, tau_hat=0.1000\n",
      "# batch_size [  100   111   122   134   147   162   178   195   215   236   260   286\n",
      "   314   346   380   418   460   506   556   612   673   741   815   896\n",
      "   985  1084  1192  1311  1443  1587  1745  1920  2112  2323  2555  2811\n",
      "  3092  3401  3741  4115  4526  4979  5477  6025  6627  7290  8018  8820\n",
      "  9702 10672 11740 12913 14205 15625 17188 18906 20797 22210]\n",
      "# sum of batch size = 250000\n",
      "# Initialization completed: time=-0.006s\n",
      "# 0, avg_sample=100.0, tau=0.01632, r_hat=3903, n_u=3903, n_g=20012, n_l=0\n",
      "# 1, avg_sample=118.1, tau=0.01042, r_hat=2491, n_u=2491, n_g=21424, n_l=0\n",
      "# 2, avg_sample=130.8, tau=0.00777, r_hat=1859, n_u=1859, n_g=22056, n_l=0\n",
      "# 3, avg_sample=141.2, tau=0.00619, r_hat=1480, n_u=1480, n_g=22435, n_l=0\n",
      "# 4, avg_sample=150.3, tau=0.00536, r_hat=1283, n_u=1283, n_g=22632, n_l=0\n",
      "# 5, avg_sample=159.0, tau=0.00444, r_hat=1062, n_u=1062, n_g=22853, n_l=0\n",
      "# 6, avg_sample=166.9, tau=0.00391, r_hat=935, n_u=935, n_g=22980, n_l=0\n",
      "# 7, avg_sample=174.6, tau=0.00332, r_hat=794, n_u=794, n_g=23121, n_l=0\n",
      "# 8, avg_sample=181.7, tau=0.00300, r_hat=717, n_u=717, n_g=23198, n_l=0\n",
      "# 9, avg_sample=188.8, tau=0.00274, r_hat=656, n_u=656, n_g=23259, n_l=0\n",
      "# 10, avg_sample=195.9, tau=0.00246, r_hat=588, n_u=588, n_g=23327, n_l=0\n",
      "# 11, avg_sample=202.9, tau=0.00217, r_hat=519, n_u=519, n_g=23396, n_l=0\n",
      "# 12, avg_sample=209.7, tau=0.00200, r_hat=479, n_u=479, n_g=23436, n_l=0\n",
      "# 13, avg_sample=216.7, tau=0.00182, r_hat=435, n_u=435, n_g=23480, n_l=0\n",
      "# 14, avg_sample=223.6, tau=0.00171, r_hat=410, n_u=410, n_g=23505, n_l=0\n",
      "# 15, avg_sample=230.8, tau=0.00155, r_hat=371, n_u=371, n_g=23544, n_l=0\n",
      "# 16, avg_sample=237.9, tau=0.00144, r_hat=345, n_u=345, n_g=23570, n_l=0\n",
      "# 17, avg_sample=245.2, tau=0.00132, r_hat=316, n_u=316, n_g=23599, n_l=0\n",
      "# 18, avg_sample=252.5, tau=0.00125, r_hat=299, n_u=299, n_g=23616, n_l=0\n",
      "# 19, avg_sample=260.2, tau=0.00117, r_hat=281, n_u=281, n_g=23634, n_l=0\n",
      "# 20, avg_sample=268.1, tau=0.00113, r_hat=271, n_u=271, n_g=23644, n_l=0\n",
      "# 21, avg_sample=276.5, tau=0.00107, r_hat=255, n_u=255, n_g=23660, n_l=0\n",
      "# 22, avg_sample=285.2, tau=0.00099, r_hat=236, n_u=236, n_g=23679, n_l=0\n",
      "# 23, avg_sample=294.0, tau=0.00097, r_hat=232, n_u=232, n_g=23683, n_l=0\n",
      "# 24, avg_sample=303.6, tau=0.00089, r_hat=213, n_u=213, n_g=23702, n_l=0\n",
      "# 25, avg_sample=313.2, tau=0.00086, r_hat=206, n_u=206, n_g=23709, n_l=0\n",
      "# 26, avg_sample=323.5, tau=0.00084, r_hat=201, n_u=201, n_g=23714, n_l=0\n",
      "# 27, avg_sample=334.5, tau=0.00082, r_hat=196, n_u=196, n_g=23719, n_l=0\n",
      "# 28, avg_sample=346.3, tau=0.00081, r_hat=193, n_u=193, n_g=23722, n_l=0\n",
      "# 29, avg_sample=359.2, tau=0.00076, r_hat=181, n_u=181, n_g=23734, n_l=0\n",
      "# 30, avg_sample=372.4, tau=0.00073, r_hat=175, n_u=175, n_g=23740, n_l=0\n",
      "# 31, avg_sample=386.4, tau=0.00066, r_hat=159, n_u=159, n_g=23756, n_l=0\n",
      "# 32, avg_sample=400.5, tau=0.00064, r_hat=153, n_u=153, n_g=23762, n_l=0\n",
      "# 33, avg_sample=415.3, tau=0.00060, r_hat=144, n_u=144, n_g=23771, n_l=0\n",
      "# 34, avg_sample=430.7, tau=0.00054, r_hat=129, n_u=129, n_g=23786, n_l=0\n",
      "# 35, avg_sample=445.9, tau=0.00051, r_hat=123, n_u=123, n_g=23792, n_l=0\n",
      "# 36, avg_sample=461.8, tau=0.00050, r_hat=120, n_u=120, n_g=23795, n_l=0\n",
      "# 37, avg_sample=478.8, tau=0.00049, r_hat=116, n_u=116, n_g=23799, n_l=0\n",
      "# 38, avg_sample=497.0, tau=0.00047, r_hat=113, n_u=113, n_g=23802, n_l=0\n",
      "# 39, avg_sample=516.4, tau=0.00047, r_hat=112, n_u=112, n_g=23803, n_l=0\n",
      "# 40, avg_sample=537.6, tau=0.00047, r_hat=112, n_u=112, n_g=23803, n_l=0\n",
      "# 41, avg_sample=560.9, tau=0.00045, r_hat=108, n_u=108, n_g=23807, n_l=0\n",
      "# 42, avg_sample=585.7, tau=0.00044, r_hat=105, n_u=105, n_g=23810, n_l=0\n",
      "# 43, avg_sample=612.1, tau=0.00043, r_hat=102, n_u=102, n_g=23813, n_l=0\n",
      "# 44, avg_sample=640.4, tau=0.00041, r_hat=99, n_u=99, n_g=23816, n_l=0\n",
      "# 45, avg_sample=670.6, tau=0.00041, r_hat=97, n_u=97, n_g=23818, n_l=0\n",
      "# 46, avg_sample=703.1, tau=0.00039, r_hat=94, n_u=94, n_g=23821, n_l=0\n",
      "# 47, avg_sample=737.8, tau=0.00038, r_hat=90, n_u=90, n_g=23825, n_l=0\n",
      "# 48, avg_sample=774.3, tau=0.00036, r_hat=86, n_u=86, n_g=23829, n_l=0\n",
      "# 49, avg_sample=812.6, tau=0.00034, r_hat=82, n_u=82, n_g=23833, n_l=0\n",
      "# 50, avg_sample=852.9, tau=0.00033, r_hat=79, n_u=75, n_g=23836, n_l=4\n",
      "# 51, avg_sample=893.4, tau=0.00033, r_hat=79, n_u=71, n_g=23836, n_l=8\n",
      "# 52, avg_sample=935.6, tau=0.00033, r_hat=79, n_u=63, n_g=23836, n_l=16\n",
      "# 53, avg_sample=976.7, tau=0.00033, r_hat=79, n_u=55, n_g=23836, n_l=24\n",
      "# 54, avg_sample=1016.3, tau=0.00033, r_hat=78, n_u=57, n_g=23837, n_l=21\n",
      "# 55, avg_sample=1060.3, tau=0.00033, r_hat=78, n_u=49, n_g=23837, n_l=29\n",
      "# 56, avg_sample=1102.9, tau=0.00029, r_hat=70, n_u=70, n_g=23845, n_l=0\n",
      "# 57, avg_sample=1161.0, tau=0.00020, r_hat=47, n_u=29, n_g=23868, n_l=18\n",
      "# 58, avg_sample=1182.9, tau=0.00020, r_hat=47, n_u=25, n_g=23868, n_l=22\n",
      "# 59, avg_sample=1202.8, tau=0.00020, r_hat=47, n_u=24, n_g=23868, n_l=23\n",
      "# 60, avg_sample=1223.6, tau=0.00020, r_hat=47, n_u=16, n_g=23868, n_l=31\n",
      "# 61, avg_sample=1237.9, tau=0.00020, r_hat=47, n_u=4, n_g=23868, n_l=43\n",
      "# 62, avg_sample=1241.7, tau=0.00020, r_hat=47, n_u=0, n_g=23868, n_l=47\n",
      "# AMT: avg. MC samples = 1241.7, time=0.94s\n",
      "# D_AMT=47, D_overlap=47, D_fMC=47\n",
      "\n"
     ]
    }
   ],
   "source": [
    "start_time = time.time()\n",
    "p_hat_ub, p_hat_lb, p_hat, tau_hat, n_amt = md.amt(md.f_sample_dummy, temp_B, n_hypothesis,\n",
    "                                         alpha=0.1, n_fMC=n_fMC,\n",
    "                                         verbose=True, delta=0.001)\n",
    "h_amt = (p_hat_ub <= tau_hat)\n",
    "print('# AMT: avg. MC samples = %0.1f, time=%0.2fs'%(np.mean(n_amt),\n",
    "                                                     time.time()-start_time))\n",
    "print('# D_AMT=%d, D_overlap=%d, D_fMC=%d'%(md.result_compare(h_amt, h_fmc)))\n",
    "print('')"
   ]
  },
  {
   "cell_type": "markdown",
   "metadata": {},
   "source": [
    "# Directly run AMT "
   ]
  },
  {
   "cell_type": "code",
   "execution_count": 10,
   "metadata": {},
   "outputs": [],
   "source": [
    "temp_data = {'X':X[:,ind_small][:, ind_snp], 'y':y, \n",
    "             'Exp':Exp[:,ind_small][:, ind_snp],\n",
    "             'r_Exp':r_Exp[:,ind_small][:, ind_snp],\n",
    "             'chi2_obs':chi2_obs[ind_small][ind_snp]}"
   ]
  },
  {
   "cell_type": "code",
   "execution_count": 12,
   "metadata": {},
   "outputs": [
    {
     "name": "stdout",
     "output_type": "stream",
     "text": [
      "# Initialization parameters\n",
      "# n_hypothesis=23915, n_fMC=250000, alpha=0.10, increment=1.10\n",
      "# delta 0.001\n",
      "# delta_CI 3.3642314968430376e-09\n",
      "# r_hat=23915, tau_hat=0.1000\n",
      "# batch_size [  100   111   122   134   147   162   178   195   215   236   260   286\n",
      "   314   346   380   418   460   506   556   612   673   741   815   896\n",
      "   985  1084  1192  1311  1443  1587  1745  1920  2112  2323  2555  2811\n",
      "  3092  3401  3741  4115  4526  4979  5477  6025  6627  7290  8018  8820\n",
      "  9702 10672 11740 12913 14205 15625 17188 18906 20797 22210]\n",
      "# sum of batch size = 250000\n",
      "# Initialization completed: time=-0.004s\n",
      "# 0, avg_sample=100.0, tau=0.01636, r_hat=3913, n_u=3913, n_g=20002, n_l=0\n",
      "# 1, avg_sample=118.2, tau=0.01032, r_hat=2469, n_u=2469, n_g=21446, n_l=0\n",
      "# 2, avg_sample=130.8, tau=0.00771, r_hat=1845, n_u=1845, n_g=22070, n_l=0\n",
      "# 3, avg_sample=141.1, tau=0.00606, r_hat=1450, n_u=1450, n_g=22465, n_l=0\n",
      "# 4, avg_sample=150.0, tau=0.00506, r_hat=1209, n_u=1209, n_g=22706, n_l=0\n",
      "# 5, avg_sample=158.2, tau=0.00436, r_hat=1043, n_u=1043, n_g=22872, n_l=0\n",
      "# 6, avg_sample=166.0, tau=0.00382, r_hat=913, n_u=913, n_g=23002, n_l=0\n",
      "# 7, avg_sample=173.4, tau=0.00324, r_hat=776, n_u=776, n_g=23139, n_l=0\n",
      "# 8, avg_sample=180.4, tau=0.00297, r_hat=711, n_u=711, n_g=23204, n_l=0\n",
      "# 9, avg_sample=187.4, tau=0.00262, r_hat=626, n_u=626, n_g=23289, n_l=0\n",
      "# 10, avg_sample=194.2, tau=0.00242, r_hat=579, n_u=579, n_g=23336, n_l=0\n",
      "# 11, avg_sample=201.1, tau=0.00227, r_hat=543, n_u=543, n_g=23372, n_l=0\n",
      "# 12, avg_sample=208.3, tau=0.00202, r_hat=482, n_u=482, n_g=23433, n_l=0\n",
      "# 13, avg_sample=215.2, tau=0.00183, r_hat=437, n_u=437, n_g=23478, n_l=0\n",
      "# 14, avg_sample=222.2, tau=0.00170, r_hat=406, n_u=406, n_g=23509, n_l=0\n",
      "# 15, avg_sample=229.3, tau=0.00151, r_hat=362, n_u=362, n_g=23553, n_l=0\n",
      "# 16, avg_sample=236.2, tau=0.00138, r_hat=331, n_u=331, n_g=23584, n_l=0\n",
      "# 17, avg_sample=243.2, tau=0.00132, r_hat=315, n_u=315, n_g=23600, n_l=0\n",
      "# 18, avg_sample=250.6, tau=0.00126, r_hat=302, n_u=302, n_g=23613, n_l=0\n",
      "# 19, avg_sample=258.3, tau=0.00120, r_hat=288, n_u=288, n_g=23627, n_l=0\n",
      "# 20, avg_sample=266.4, tau=0.00109, r_hat=260, n_u=260, n_g=23655, n_l=0\n",
      "# 21, avg_sample=274.5, tau=0.00100, r_hat=240, n_u=240, n_g=23675, n_l=0\n",
      "# 22, avg_sample=282.6, tau=0.00097, r_hat=231, n_u=231, n_g=23684, n_l=0\n",
      "# 23, avg_sample=291.3, tau=0.00092, r_hat=220, n_u=220, n_g=23695, n_l=0\n",
      "# 24, avg_sample=300.3, tau=0.00089, r_hat=213, n_u=213, n_g=23702, n_l=0\n",
      "# 25, avg_sample=310.0, tau=0.00084, r_hat=201, n_u=201, n_g=23714, n_l=0\n",
      "# 26, avg_sample=320.0, tau=0.00081, r_hat=194, n_u=194, n_g=23721, n_l=0\n",
      "# 27, avg_sample=330.7, tau=0.00077, r_hat=184, n_u=184, n_g=23731, n_l=0\n",
      "# 28, avg_sample=341.8, tau=0.00074, r_hat=176, n_u=176, n_g=23739, n_l=0\n",
      "# 29, avg_sample=353.4, tau=0.00070, r_hat=167, n_u=167, n_g=23748, n_l=0\n",
      "# 30, avg_sample=365.6, tau=0.00068, r_hat=163, n_u=163, n_g=23752, n_l=0\n",
      "# 31, avg_sample=378.7, tau=0.00064, r_hat=153, n_u=153, n_g=23762, n_l=0\n",
      "# 32, avg_sample=392.2, tau=0.00061, r_hat=147, n_u=147, n_g=23768, n_l=0\n",
      "# 33, avg_sample=406.5, tau=0.00057, r_hat=137, n_u=137, n_g=23778, n_l=0\n",
      "# 34, avg_sample=421.1, tau=0.00056, r_hat=134, n_u=134, n_g=23781, n_l=0\n",
      "# 35, avg_sample=436.9, tau=0.00051, r_hat=123, n_u=123, n_g=23792, n_l=0\n",
      "# 36, avg_sample=452.8, tau=0.00050, r_hat=120, n_u=120, n_g=23795, n_l=0\n",
      "# 37, avg_sample=469.9, tau=0.00049, r_hat=118, n_u=118, n_g=23797, n_l=0\n",
      "# 38, avg_sample=488.3, tau=0.00048, r_hat=115, n_u=115, n_g=23800, n_l=0\n",
      "# 39, avg_sample=508.1, tau=0.00047, r_hat=113, n_u=113, n_g=23802, n_l=0\n",
      "# 40, avg_sample=529.5, tau=0.00047, r_hat=113, n_u=113, n_g=23802, n_l=0\n",
      "# 41, avg_sample=553.0, tau=0.00047, r_hat=112, n_u=112, n_g=23803, n_l=0\n",
      "# 42, avg_sample=578.7, tau=0.00045, r_hat=107, n_u=107, n_g=23808, n_l=0\n",
      "# 43, avg_sample=605.6, tau=0.00044, r_hat=105, n_u=105, n_g=23810, n_l=0\n",
      "# 44, avg_sample=634.7, tau=0.00040, r_hat=96, n_u=96, n_g=23819, n_l=0\n",
      "# 45, avg_sample=664.0, tau=0.00038, r_hat=92, n_u=92, n_g=23823, n_l=0\n",
      "# 46, avg_sample=694.8, tau=0.00038, r_hat=90, n_u=90, n_g=23825, n_l=0\n",
      "# 47, avg_sample=728.0, tau=0.00037, r_hat=89, n_u=89, n_g=23826, n_l=0\n",
      "# 48, avg_sample=764.1, tau=0.00037, r_hat=89, n_u=89, n_g=23826, n_l=0\n",
      "# 49, avg_sample=803.8, tau=0.00037, r_hat=88, n_u=84, n_g=23827, n_l=4\n",
      "# 50, avg_sample=845.1, tau=0.00036, r_hat=85, n_u=82, n_g=23830, n_l=3\n",
      "# 51, avg_sample=889.2, tau=0.00032, r_hat=77, n_u=77, n_g=23838, n_l=0\n",
      "# 52, avg_sample=934.5, tau=0.00032, r_hat=76, n_u=66, n_g=23839, n_l=10\n",
      "# 53, avg_sample=977.5, tau=0.00032, r_hat=76, n_u=60, n_g=23839, n_l=16\n",
      "# 54, avg_sample=1020.6, tau=0.00032, r_hat=76, n_u=57, n_g=23839, n_l=19\n",
      "# 55, avg_sample=1065.7, tau=0.00032, r_hat=76, n_u=50, n_g=23839, n_l=26\n",
      "# 56, avg_sample=1109.2, tau=0.00031, r_hat=75, n_u=50, n_g=23840, n_l=25\n",
      "# 57, avg_sample=1155.2, tau=0.00019, r_hat=46, n_u=27, n_g=23869, n_l=19\n",
      "# 58, avg_sample=1175.1, tau=0.00019, r_hat=46, n_u=26, n_g=23869, n_l=20\n",
      "# 59, avg_sample=1195.9, tau=0.00019, r_hat=46, n_u=19, n_g=23869, n_l=27\n",
      "# 60, avg_sample=1211.4, tau=0.00019, r_hat=46, n_u=14, n_g=23869, n_l=32\n",
      "# 61, avg_sample=1223.3, tau=0.00019, r_hat=46, n_u=12, n_g=23869, n_l=34\n",
      "# 62, avg_sample=1234.1, tau=0.00019, r_hat=46, n_u=2, n_g=23869, n_l=44\n",
      "# 63, avg_sample=1236.0, tau=0.00019, r_hat=46, n_u=0, n_g=23869, n_l=46\n",
      "# AMT: avg. MC samples = 1236.0, time=123.27s\n",
      "# D_AMT=46, D_overlap=45, D_fMC=47\n",
      "\n"
     ]
    }
   ],
   "source": [
    "start_time = time.time()\n",
    "p_hat_ub, p_hat_lb, p_hat, tau_hat, n_amt = md.amt(md.f_sample_chi2, temp_data, n_hypothesis,\n",
    "                                         alpha=0.1, n_fMC=n_fMC,\n",
    "                                         verbose=True, delta=0.001,\n",
    "                                         random_state=0)\n",
    "h_amt = (p_hat_ub <= tau_hat)\n",
    "print('# AMT: avg. MC samples = %0.1f, time=%0.2fs'%(np.mean(n_amt),\n",
    "                                                     time.time()-start_time))\n",
    "print('# D_AMT=%d, D_overlap=%d, D_fMC=%d'%(md.result_compare(h_amt, h_fmc)))\n",
    "print('')"
   ]
  },
  {
   "cell_type": "code",
   "execution_count": null,
   "metadata": {},
   "outputs": [],
   "source": []
  }
 ],
 "metadata": {
  "kernelspec": {
   "display_name": "Python 3",
   "language": "python",
   "name": "python3"
  },
  "language_info": {
   "codemirror_mode": {
    "name": "ipython",
    "version": 3
   },
   "file_extension": ".py",
   "mimetype": "text/x-python",
   "name": "python",
   "nbconvert_exporter": "python",
   "pygments_lexer": "ipython3",
   "version": "3.6.3"
  }
 },
 "nbformat": 4,
 "nbformat_minor": 2
}
