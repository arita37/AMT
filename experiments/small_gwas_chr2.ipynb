{
 "cells": [
  {
   "cell_type": "code",
   "execution_count": 12,
   "metadata": {},
   "outputs": [
    {
     "name": "stdout",
     "output_type": "stream",
     "text": [
      "The autoreload extension is already loaded. To reload it, use:\n",
      "  %reload_ext autoreload\n"
     ]
    }
   ],
   "source": [
    "import numpy as np\n",
    "import scipy as sp\n",
    "import pandas as pd\n",
    "from scipy import stats\n",
    "import matplotlib.pyplot as plt\n",
    "import time\n",
    "import amt.method as md\n",
    "import amt.data_loader as dl\n",
    "import pickle\n",
    "\n",
    "%matplotlib inline\n",
    "%load_ext autoreload\n",
    "%autoreload 2"
   ]
  },
  {
   "cell_type": "markdown",
   "metadata": {},
   "source": [
    "# Load the data"
   ]
  },
  {
   "cell_type": "code",
   "execution_count": 2,
   "metadata": {},
   "outputs": [
    {
     "name": "stderr",
     "output_type": "stream",
     "text": [
      "/home/martin/anaconda3/lib/python3.6/site-packages/IPython/core/interactiveshell.py:2698: DtypeWarning: Columns (0) have mixed types. Specify dtype option on import or set low_memory=False.\n",
      "  interactivity=interactivity, compiler=compiler, result=result)\n"
     ]
    }
   ],
   "source": [
    "output_folder = '../../results/GWAS'\n",
    "output_file = output_folder + '/small_GWAS_chr2.pickle'\n",
    "with open('../../parkinsons/parkinsons.pickle', 'rb') as f:\n",
    "    X = pickle.load(f)\n",
    "    y = pickle.load(f)\n",
    "    miss_prop = pickle.load(f)\n",
    "y = y-1\n",
    "file_map = '../../parkinsons/parkinsons.map'\n",
    "df_map = pd.read_csv(file_map, delimiter='\\t', \n",
    "                     names=['chromosome', 'snp', 'start', 'end'])\n",
    "n_sample, n_snp = X.shape\n",
    "ind_small = np.array(df_map['chromosome']==2, dtype=bool)\n",
    "ind_snp = np.array(miss_prop[ind_small]<0.05, dtype=bool)\n",
    "n_hypothesis = np.sum(ind_snp)"
   ]
  },
  {
   "cell_type": "code",
   "execution_count": 3,
   "metadata": {},
   "outputs": [],
   "source": [
    "# Compute the expected observations\n",
    "Exp = np.zeros([8, n_snp], dtype=float)\n",
    "for iy in range(2):\n",
    "    for ix in range(4):\n",
    "        Exp[iy*4+ix,:] = np.mean(y==iy) * np.mean(X==ix,axis=0)\n",
    "Exp = Exp*n_sample\n",
    "r_Exp = 1/Exp.clip(min=1e-6)*(Exp>0)\n",
    "chi2_obs = md.compute_chi2(y, X, Exp, r_Exp)\n",
    "data_gwas = {'X':X, 'y':y, 'Exp':Exp, 'r_Exp':r_Exp, 'chi2_obs':chi2_obs}"
   ]
  },
  {
   "cell_type": "markdown",
   "metadata": {},
   "source": [
    "# Compute fMC p-values"
   ]
  },
  {
   "cell_type": "code",
   "execution_count": 4,
   "metadata": {},
   "outputs": [],
   "source": [
    "n_fMC = int(2.5e5)\n",
    "# n_fMC = int(5e5)\n",
    "data_gwas_small = {'X':X[:,ind_small], 'y':y, 'Exp':Exp[:,ind_small],\n",
    "                   'r_Exp':r_Exp[:,ind_small], 'chi2_obs':chi2_obs[ind_small]}"
   ]
  },
  {
   "cell_type": "code",
   "execution_count": 5,
   "metadata": {},
   "outputs": [
    {
     "name": "stdout",
     "output_type": "stream",
     "text": [
      "# Time=3505.0s\n"
     ]
    }
   ],
   "source": [
    "np.random.seed(0)\n",
    "start_time = time.time()\n",
    "B = md.permute_chi2_batch_ncore(data_gwas_small['y'],\n",
    "                                data_gwas_small['X'],\n",
    "                                data_gwas_small['Exp'],\n",
    "                                data_gwas_small['r_Exp'],\n",
    "                                data_gwas_small['chi2_obs'], n_fMC,\n",
    "                                verbose=True,\n",
    "                                n_core=32)\n",
    "p_fmc = (np.sum(B, axis=0)+1)/(n_fMC+1)\n",
    "print('# Time=%0.1fs'%(time.time()-start_time))\n",
    "time_fMC = time.time()-start_time\n",
    "res_fMC = {'time':time.time()-start_time,\n",
    "           'p_fmc': p_fmc,\n",
    "           'B1':B[0:80000,:],\n",
    "           'B2':B[80000:160000:,:],\n",
    "           'B3':B[160000:,:]}\n",
    "with open(output_file, \"wb\") as f:\n",
    "    pickle.dump(res_fMC, f)   "
   ]
  },
  {
   "cell_type": "markdown",
   "metadata": {},
   "source": [
    "# Result analysis"
   ]
  },
  {
   "cell_type": "code",
   "execution_count": 6,
   "metadata": {},
   "outputs": [],
   "source": [
    "with open(output_file, 'rb')as f:\n",
    "    res_dic = pickle.load(f)\n",
    "B = np.concatenate([res_dic['B1'], res_dic['B2']], axis=0)\n",
    "B = np.concatenate([B, res_dic['B3']], axis=0)\n",
    "p_fmc = res_dic['p_fmc']"
   ]
  },
  {
   "cell_type": "code",
   "execution_count": 7,
   "metadata": {
    "scrolled": true
   },
   "outputs": [
    {
     "name": "stdout",
     "output_type": "stream",
     "text": [
      "18\n"
     ]
    }
   ],
   "source": [
    "snp_list = ['rs10501570', 'rs281357', 'rs2242330', 'rs1480597', 'rs6826751', 'rs4888984',\n",
    "            'rs4862792', 'rs3775866', 'rs2235617', 'rs988421', 'rs7097094', 'rs999473',\n",
    "            'rs1912373', 'rs1887279', 'rs2986574', 'rs11090762', 'rs6125829', 'rs7796855',\n",
    "            'rs355477', 'rs3010040', 'rs2296713', 'rs355461', 'rs355506', 'rs355464',\n",
    "            'rs1497430', 'rs11946612']\n",
    "tau_fmc = md.bh(p_fmc[ind_snp], alpha=0.1)\n",
    "h_fmc = (p_fmc[ind_snp] <= tau_fmc)\n",
    "print(np.sum(h_fmc))\n",
    "df_map_c4 = df_map.loc[ind_small]\n",
    "for snp in snp_list:\n",
    "    temp = df_map_c4['snp']==snp\n",
    "    if np.sum(temp)>0:\n",
    "        print('###')\n",
    "        print(df_map_c4.loc[temp])\n",
    "        print('decision', h_fmc[temp[ind_snp]])\n",
    "        print('miss_prop=%0.4f, p_fmc='%(miss_prop[ind_small][temp]),\n",
    "                                        p_fmc[temp])\n",
    "        print('')"
   ]
  },
  {
   "cell_type": "markdown",
   "metadata": {},
   "source": [
    "# Corresponding AMT result"
   ]
  },
  {
   "cell_type": "code",
   "execution_count": 8,
   "metadata": {},
   "outputs": [],
   "source": [
    "temp_B = B[:,ind_snp]"
   ]
  },
  {
   "cell_type": "code",
   "execution_count": 9,
   "metadata": {},
   "outputs": [
    {
     "name": "stdout",
     "output_type": "stream",
     "text": [
      "# Initialization parameters\n",
      "# n_hypothesis=32356, n_fMC=250000, alpha=0.10, increment=1.10\n",
      "# delta 0.001\n",
      "# delta_CI 2.486574244251491e-09\n",
      "# r_hat=32356, tau_hat=0.1000\n",
      "# batch_size [  100   111   122   134   147   162   178   195   215   236   260   286\n",
      "   314   346   380   418   460   506   556   612   673   741   815   896\n",
      "   985  1084  1192  1311  1443  1587  1745  1920  2112  2323  2555  2811\n",
      "  3092  3401  3741  4115  4526  4979  5477  6025  6627  7290  8018  8820\n",
      "  9702 10672 11740 12913 14205 15625 17188 18906 20797 22210]\n",
      "# sum of batch size = 250000\n",
      "# Initialization completed: time=-0.006s\n",
      "# 0, avg_sample=100.0, tau=0.01618, r_hat=5234, n_u=5234, n_g=27122, n_l=0\n",
      "# 1, avg_sample=118.0, tau=0.01038, r_hat=3358, n_u=3358, n_g=28998, n_l=0\n",
      "# 2, avg_sample=130.6, tau=0.00756, r_hat=2445, n_u=2445, n_g=29911, n_l=0\n",
      "# 3, avg_sample=140.7, tau=0.00584, r_hat=1889, n_u=1889, n_g=30467, n_l=0\n",
      "# 4, avg_sample=149.3, tau=0.00482, r_hat=1558, n_u=1558, n_g=30798, n_l=0\n",
      "# 5, avg_sample=157.1, tau=0.00414, r_hat=1338, n_u=1338, n_g=31018, n_l=0\n",
      "# 6, avg_sample=164.5, tau=0.00357, r_hat=1156, n_u=1156, n_g=31200, n_l=0\n",
      "# 7, avg_sample=171.5, tau=0.00308, r_hat=996, n_u=996, n_g=31360, n_l=0\n",
      "# 8, avg_sample=178.1, tau=0.00259, r_hat=838, n_u=838, n_g=31518, n_l=0\n",
      "# 9, avg_sample=184.2, tau=0.00236, r_hat=763, n_u=763, n_g=31593, n_l=0\n",
      "# 10, avg_sample=190.3, tau=0.00212, r_hat=686, n_u=686, n_g=31670, n_l=0\n",
      "# 11, avg_sample=196.4, tau=0.00197, r_hat=638, n_u=638, n_g=31718, n_l=0\n",
      "# 12, avg_sample=202.6, tau=0.00179, r_hat=578, n_u=578, n_g=31778, n_l=0\n",
      "# 13, avg_sample=208.8, tau=0.00167, r_hat=539, n_u=539, n_g=31817, n_l=0\n",
      "# 14, avg_sample=215.1, tau=0.00152, r_hat=491, n_u=491, n_g=31865, n_l=0\n",
      "# 15, avg_sample=221.4, tau=0.00145, r_hat=468, n_u=468, n_g=31888, n_l=0\n",
      "# 16, avg_sample=228.1, tau=0.00129, r_hat=417, n_u=417, n_g=31939, n_l=0\n",
      "# 17, avg_sample=234.6, tau=0.00117, r_hat=380, n_u=380, n_g=31976, n_l=0\n",
      "# 18, avg_sample=241.1, tau=0.00109, r_hat=352, n_u=352, n_g=32004, n_l=0\n",
      "# 19, avg_sample=247.8, tau=0.00100, r_hat=322, n_u=322, n_g=32034, n_l=0\n",
      "# 20, avg_sample=254.5, tau=0.00090, r_hat=292, n_u=292, n_g=32064, n_l=0\n",
      "# 21, avg_sample=261.2, tau=0.00085, r_hat=276, n_u=276, n_g=32080, n_l=0\n",
      "# 22, avg_sample=268.1, tau=0.00077, r_hat=249, n_u=249, n_g=32107, n_l=0\n",
      "# 23, avg_sample=275.0, tau=0.00069, r_hat=223, n_u=223, n_g=32133, n_l=0\n",
      "# 24, avg_sample=281.8, tau=0.00065, r_hat=210, n_u=210, n_g=32146, n_l=0\n",
      "# 25, avg_sample=288.8, tau=0.00060, r_hat=194, n_u=194, n_g=32162, n_l=0\n",
      "# 26, avg_sample=296.0, tau=0.00059, r_hat=190, n_u=190, n_g=32166, n_l=0\n",
      "# 27, avg_sample=303.7, tau=0.00054, r_hat=175, n_u=175, n_g=32181, n_l=0\n",
      "# 28, avg_sample=311.5, tau=0.00050, r_hat=162, n_u=162, n_g=32194, n_l=0\n",
      "# 29, avg_sample=319.4, tau=0.00048, r_hat=156, n_u=156, n_g=32200, n_l=0\n",
      "# 30, avg_sample=327.9, tau=0.00044, r_hat=142, n_u=142, n_g=32214, n_l=0\n",
      "# 31, avg_sample=336.3, tau=0.00042, r_hat=135, n_u=135, n_g=32221, n_l=0\n",
      "# 32, avg_sample=345.1, tau=0.00040, r_hat=130, n_u=130, n_g=32226, n_l=0\n",
      "# 33, avg_sample=354.4, tau=0.00038, r_hat=124, n_u=124, n_g=32232, n_l=0\n",
      "# 34, avg_sample=364.2, tau=0.00036, r_hat=118, n_u=118, n_g=32238, n_l=0\n",
      "# 35, avg_sample=374.5, tau=0.00034, r_hat=111, n_u=111, n_g=32245, n_l=0\n",
      "# 36, avg_sample=385.1, tau=0.00031, r_hat=100, n_u=100, n_g=32256, n_l=0\n",
      "# 37, avg_sample=395.6, tau=0.00029, r_hat=93, n_u=93, n_g=32263, n_l=0\n",
      "# 38, avg_sample=406.3, tau=0.00028, r_hat=92, n_u=92, n_g=32264, n_l=0\n",
      "# 39, avg_sample=418.0, tau=0.00027, r_hat=88, n_u=88, n_g=32268, n_l=0\n",
      "# 40, avg_sample=430.3, tau=0.00026, r_hat=83, n_u=83, n_g=32273, n_l=0\n",
      "# 41, avg_sample=443.1, tau=0.00023, r_hat=73, n_u=73, n_g=32283, n_l=0\n",
      "# 42, avg_sample=455.5, tau=0.00022, r_hat=72, n_u=72, n_g=32284, n_l=0\n",
      "# 43, avg_sample=468.9, tau=0.00020, r_hat=66, n_u=66, n_g=32290, n_l=0\n",
      "# 44, avg_sample=482.4, tau=0.00019, r_hat=63, n_u=63, n_g=32293, n_l=0\n",
      "# 45, avg_sample=496.6, tau=0.00019, r_hat=62, n_u=62, n_g=32294, n_l=0\n",
      "# 46, avg_sample=512.0, tau=0.00019, r_hat=62, n_u=62, n_g=32294, n_l=0\n",
      "# 47, avg_sample=528.9, tau=0.00019, r_hat=62, n_u=62, n_g=32294, n_l=0\n",
      "# 48, avg_sample=547.5, tau=0.00019, r_hat=62, n_u=62, n_g=32294, n_l=0\n",
      "# 49, avg_sample=567.9, tau=0.00019, r_hat=61, n_u=61, n_g=32295, n_l=0\n",
      "# 50, avg_sample=590.0, tau=0.00018, r_hat=58, n_u=58, n_g=32298, n_l=0\n",
      "# 51, avg_sample=613.2, tau=0.00018, r_hat=58, n_u=58, n_g=32298, n_l=0\n",
      "# 52, avg_sample=638.6, tau=0.00017, r_hat=54, n_u=54, n_g=32302, n_l=0\n",
      "# 53, avg_sample=664.7, tau=0.00017, r_hat=54, n_u=54, n_g=32302, n_l=0\n",
      "# 54, avg_sample=693.4, tau=0.00017, r_hat=54, n_u=54, n_g=32302, n_l=0\n",
      "# 55, avg_sample=725.0, tau=0.00017, r_hat=54, n_u=54, n_g=32302, n_l=0\n",
      "# 56, avg_sample=759.7, tau=0.00017, r_hat=54, n_u=54, n_g=32302, n_l=0\n",
      "# 57, avg_sample=796.7, tau=0.00006, r_hat=18, n_u=0, n_g=32338, n_l=18\n",
      "# AMT: avg. MC samples = 796.7, time=0.76s\n",
      "# D_AMT=18, D_overlap=18, D_fMC=18\n",
      "\n"
     ]
    }
   ],
   "source": [
    "start_time = time.time()\n",
    "p_hat_ub, p_hat_lb, p_hat, tau_hat, n_amt = md.amt(md.f_sample_dummy, temp_B, n_hypothesis,\n",
    "                                         alpha=0.1, n_fMC=n_fMC,\n",
    "                                         verbose=True, delta=0.001)\n",
    "h_amt = (p_hat_ub <= tau_hat)\n",
    "print('# AMT: avg. MC samples = %0.1f, time=%0.2fs'%(np.mean(n_amt),\n",
    "                                                     time.time()-start_time))\n",
    "print('# D_AMT=%d, D_overlap=%d, D_fMC=%d'%(md.result_compare(h_amt, h_fmc)))\n",
    "print('')"
   ]
  },
  {
   "cell_type": "markdown",
   "metadata": {},
   "source": [
    "# Directly run AMT "
   ]
  },
  {
   "cell_type": "code",
   "execution_count": 10,
   "metadata": {},
   "outputs": [],
   "source": [
    "temp_data = {'X':X[:,ind_small][:, ind_snp], 'y':y, \n",
    "             'Exp':Exp[:,ind_small][:, ind_snp],\n",
    "             'r_Exp':r_Exp[:,ind_small][:, ind_snp],\n",
    "             'chi2_obs':chi2_obs[ind_small][ind_snp]}"
   ]
  },
  {
   "cell_type": "code",
   "execution_count": 11,
   "metadata": {},
   "outputs": [
    {
     "name": "stdout",
     "output_type": "stream",
     "text": [
      "# Initialization parameters\n",
      "# n_hypothesis=32356, n_fMC=250000, alpha=0.05, increment=1.10\n",
      "# delta 0.001\n",
      "# delta_CI 2.486574244251491e-09\n",
      "# r_hat=32356, tau_hat=0.0500\n",
      "# batch_size [  100   111   122   134   147   162   178   195   215   236   260   286\n",
      "   314   346   380   418   460   506   556   612   673   741   815   896\n",
      "   985  1084  1192  1311  1443  1587  1745  1920  2112  2323  2555  2811\n",
      "  3092  3401  3741  4115  4526  4979  5477  6025  6627  7290  8018  8820\n",
      "  9702 10672 11740 12913 14205 15625 17188 18906 20797 22210]\n",
      "# sum of batch size = 250000\n",
      "# Initialization completed: time=-0.002s\n",
      "# 0, avg_sample=100.0, tau=0.00702, r_hat=4543, n_u=4543, n_g=27813, n_l=0\n",
      "# 1, avg_sample=115.6, tau=0.00467, r_hat=3021, n_u=3021, n_g=29335, n_l=0\n",
      "# 2, avg_sample=127.0, tau=0.00333, r_hat=2152, n_u=2152, n_g=30204, n_l=0\n",
      "# 3, avg_sample=135.9, tau=0.00257, r_hat=1665, n_u=1665, n_g=30691, n_l=0\n",
      "# 4, avg_sample=143.5, tau=0.00215, r_hat=1392, n_u=1392, n_g=30964, n_l=0\n",
      "# 5, avg_sample=150.4, tau=0.00183, r_hat=1187, n_u=1187, n_g=31169, n_l=0\n",
      "# 6, avg_sample=157.0, tau=0.00154, r_hat=999, n_u=999, n_g=31357, n_l=0\n",
      "# 7, avg_sample=163.0, tau=0.00130, r_hat=843, n_u=843, n_g=31513, n_l=0\n",
      "# 8, avg_sample=168.6, tau=0.00119, r_hat=767, n_u=767, n_g=31589, n_l=0\n",
      "# 9, avg_sample=174.2, tau=0.00104, r_hat=676, n_u=676, n_g=31680, n_l=0\n",
      "# 10, avg_sample=179.6, tau=0.00091, r_hat=592, n_u=592, n_g=31764, n_l=0\n",
      "# 11, avg_sample=184.8, tau=0.00083, r_hat=536, n_u=536, n_g=31820, n_l=0\n",
      "# 12, avg_sample=190.0, tau=0.00075, r_hat=483, n_u=483, n_g=31873, n_l=0\n",
      "# 13, avg_sample=195.2, tau=0.00069, r_hat=447, n_u=447, n_g=31909, n_l=0\n",
      "# 14, avg_sample=200.5, tau=0.00063, r_hat=408, n_u=408, n_g=31948, n_l=0\n",
      "# 15, avg_sample=205.7, tau=0.00058, r_hat=374, n_u=374, n_g=31982, n_l=0\n",
      "# 16, avg_sample=211.0, tau=0.00053, r_hat=340, n_u=340, n_g=32016, n_l=0\n",
      "# 17, avg_sample=216.4, tau=0.00049, r_hat=317, n_u=317, n_g=32039, n_l=0\n",
      "# 18, avg_sample=221.8, tau=0.00046, r_hat=295, n_u=295, n_g=32061, n_l=0\n",
      "# 19, avg_sample=227.4, tau=0.00041, r_hat=268, n_u=268, n_g=32088, n_l=0\n",
      "# 20, avg_sample=233.0, tau=0.00037, r_hat=239, n_u=239, n_g=32117, n_l=0\n",
      "# 21, avg_sample=238.4, tau=0.00034, r_hat=220, n_u=220, n_g=32136, n_l=0\n",
      "# 22, avg_sample=244.0, tau=0.00032, r_hat=207, n_u=207, n_g=32149, n_l=0\n",
      "# 23, avg_sample=249.7, tau=0.00029, r_hat=187, n_u=187, n_g=32169, n_l=0\n",
      "# 24, avg_sample=255.4, tau=0.00027, r_hat=176, n_u=176, n_g=32180, n_l=0\n",
      "# 25, avg_sample=261.3, tau=0.00026, r_hat=170, n_u=170, n_g=32186, n_l=0\n",
      "# 26, avg_sample=267.6, tau=0.00025, r_hat=162, n_u=162, n_g=32194, n_l=0\n",
      "# 27, avg_sample=274.1, tau=0.00023, r_hat=149, n_u=149, n_g=32207, n_l=0\n",
      "# 28, avg_sample=280.8, tau=0.00022, r_hat=144, n_u=144, n_g=32212, n_l=0\n",
      "# 29, avg_sample=287.8, tau=0.00021, r_hat=136, n_u=136, n_g=32220, n_l=0\n",
      "# 30, avg_sample=295.2, tau=0.00019, r_hat=124, n_u=124, n_g=32232, n_l=0\n",
      "# 31, avg_sample=302.5, tau=0.00017, r_hat=113, n_u=113, n_g=32243, n_l=0\n",
      "# 32, avg_sample=309.9, tau=0.00017, r_hat=111, n_u=111, n_g=32245, n_l=0\n",
      "# 33, avg_sample=317.9, tau=0.00015, r_hat=100, n_u=100, n_g=32256, n_l=0\n",
      "# 34, avg_sample=325.8, tau=0.00015, r_hat=95, n_u=95, n_g=32261, n_l=0\n",
      "# 35, avg_sample=334.0, tau=0.00014, r_hat=88, n_u=88, n_g=32268, n_l=0\n",
      "# 36, avg_sample=342.4, tau=0.00012, r_hat=80, n_u=80, n_g=32276, n_l=0\n",
      "# 37, avg_sample=350.8, tau=0.00012, r_hat=78, n_u=78, n_g=32278, n_l=0\n",
      "# 38, avg_sample=359.9, tau=0.00011, r_hat=74, n_u=74, n_g=32282, n_l=0\n",
      "# 39, avg_sample=369.3, tau=0.00011, r_hat=72, n_u=72, n_g=32284, n_l=0\n",
      "# 40, avg_sample=379.3, tau=0.00010, r_hat=67, n_u=67, n_g=32289, n_l=0\n",
      "# 41, avg_sample=389.6, tau=0.00010, r_hat=63, n_u=63, n_g=32293, n_l=0\n",
      "# 42, avg_sample=400.3, tau=0.00010, r_hat=62, n_u=62, n_g=32294, n_l=0\n",
      "# 43, avg_sample=411.9, tau=0.00009, r_hat=60, n_u=60, n_g=32296, n_l=0\n",
      "# 44, avg_sample=424.1, tau=0.00009, r_hat=57, n_u=57, n_g=32299, n_l=0\n",
      "# 45, avg_sample=437.0, tau=0.00009, r_hat=56, n_u=56, n_g=32300, n_l=0\n",
      "# 46, avg_sample=450.9, tau=0.00008, r_hat=55, n_u=55, n_g=32301, n_l=0\n",
      "# 47, avg_sample=465.9, tau=0.00008, r_hat=55, n_u=55, n_g=32301, n_l=0\n",
      "# 48, avg_sample=482.3, tau=0.00008, r_hat=52, n_u=52, n_g=32304, n_l=0\n",
      "# 49, avg_sample=499.5, tau=0.00008, r_hat=50, n_u=50, n_g=32306, n_l=0\n",
      "# 50, avg_sample=517.6, tau=0.00007, r_hat=44, n_u=44, n_g=32312, n_l=0\n",
      "# 51, avg_sample=535.2, tau=0.00007, r_hat=43, n_u=43, n_g=32313, n_l=0\n",
      "# 52, avg_sample=554.1, tau=0.00006, r_hat=36, n_u=36, n_g=32320, n_l=0\n",
      "# 53, avg_sample=571.5, tau=0.00006, r_hat=36, n_u=36, n_g=32320, n_l=0\n",
      "# 54, avg_sample=590.6, tau=0.00005, r_hat=34, n_u=34, n_g=32322, n_l=0\n",
      "# 55, avg_sample=610.5, tau=0.00005, r_hat=34, n_u=34, n_g=32322, n_l=0\n",
      "# 56, avg_sample=632.3, tau=0.00005, r_hat=34, n_u=34, n_g=32322, n_l=0\n",
      "# 57, avg_sample=655.6, tau=0.00000, r_hat=3, n_u=0, n_g=32353, n_l=3\n",
      "# AMT: avg. MC samples = 655.6, time=90.23s\n",
      "# D_AMT=3, D_overlap=3, D_fMC=18\n",
      "\n"
     ]
    }
   ],
   "source": [
    "start_time = time.time()\n",
    "p_hat_ub, p_hat_lb, p_hat, tau_hat, n_amt = md.amt(md.f_sample_chi2, temp_data, n_hypothesis,\n",
    "                                         alpha=0.05, n_fMC=n_fMC,\n",
    "                                         verbose=True, delta=0.001,\n",
    "                                         random_state=0)\n",
    "h_amt = (p_hat_ub <= tau_hat)\n",
    "print('# AMT: avg. MC samples = %0.1f, time=%0.2fs'%(np.mean(n_amt),\n",
    "                                                     time.time()-start_time))\n",
    "print('# D_AMT=%d, D_overlap=%d, D_fMC=%d'%(md.result_compare(h_amt, h_fmc)))\n",
    "print('')"
   ]
  },
  {
   "cell_type": "code",
   "execution_count": null,
   "metadata": {},
   "outputs": [],
   "source": []
  }
 ],
 "metadata": {
  "kernelspec": {
   "display_name": "Python 3",
   "language": "python",
   "name": "python3"
  },
  "language_info": {
   "codemirror_mode": {
    "name": "ipython",
    "version": 3
   },
   "file_extension": ".py",
   "mimetype": "text/x-python",
   "name": "python",
   "nbconvert_exporter": "python",
   "pygments_lexer": "ipython3",
   "version": "3.6.3"
  }
 },
 "nbformat": 4,
 "nbformat_minor": 2
}
