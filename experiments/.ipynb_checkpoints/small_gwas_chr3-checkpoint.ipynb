{
 "cells": [
  {
   "cell_type": "code",
   "execution_count": 1,
   "metadata": {},
   "outputs": [],
   "source": [
    "import numpy as np\n",
    "import scipy as sp\n",
    "import pandas as pd\n",
    "from scipy import stats\n",
    "import matplotlib.pyplot as plt\n",
    "import time\n",
    "import amt.method as md\n",
    "import amt.data_loader as dl\n",
    "import pickle\n",
    "\n",
    "%matplotlib inline\n",
    "%load_ext autoreload\n",
    "%autoreload 2"
   ]
  },
  {
   "cell_type": "markdown",
   "metadata": {},
   "source": [
    "# Load the data"
   ]
  },
  {
   "cell_type": "code",
   "execution_count": 2,
   "metadata": {},
   "outputs": [
    {
     "name": "stderr",
     "output_type": "stream",
     "text": [
      "/home/martin/anaconda3/lib/python3.6/site-packages/IPython/core/interactiveshell.py:2698: DtypeWarning: Columns (0) have mixed types. Specify dtype option on import or set low_memory=False.\n",
      "  interactivity=interactivity, compiler=compiler, result=result)\n"
     ]
    }
   ],
   "source": [
    "output_folder = '/home/martin/adapative_MC_test/results/GWAS'\n",
    "output_file = output_folder + '/small_GWAS_chr3.pickle'\n",
    "with open('../../parkinsons/parkinsons.pickle', 'rb') as f:\n",
    "    X = pickle.load(f)\n",
    "    y = pickle.load(f)\n",
    "    miss_prop = pickle.load(f)\n",
    "y = y-1\n",
    "file_map = '../../parkinsons/parkinsons.map'\n",
    "df_map = pd.read_csv(file_map, delimiter='\\t', \n",
    "                     names=['chromosome', 'snp', 'start', 'end'])\n",
    "n_sample, n_snp = X.shape\n",
    "ind_small = np.array(df_map['chromosome']==3, dtype=bool)\n",
    "ind_snp = np.array(miss_prop[ind_small]<0.05, dtype=bool)\n",
    "n_hypothesis = np.sum(ind_snp)"
   ]
  },
  {
   "cell_type": "code",
   "execution_count": 3,
   "metadata": {},
   "outputs": [],
   "source": [
    "# Compute the expected observations\n",
    "Exp = np.zeros([8, n_snp], dtype=float)\n",
    "for iy in range(2):\n",
    "    for ix in range(4):\n",
    "        Exp[iy*4+ix,:] = np.mean(y==iy) * np.mean(X==ix,axis=0)\n",
    "Exp = Exp*n_sample\n",
    "r_Exp = 1/Exp.clip(min=1e-6)*(Exp>0)\n",
    "chi2_obs = md.compute_chi2(y, X, Exp, r_Exp)\n",
    "data_gwas = {'X':X, 'y':y, 'Exp':Exp, 'r_Exp':r_Exp, 'chi2_obs':chi2_obs}"
   ]
  },
  {
   "cell_type": "markdown",
   "metadata": {},
   "source": [
    "# Compute fMC p-values"
   ]
  },
  {
   "cell_type": "code",
   "execution_count": 4,
   "metadata": {},
   "outputs": [],
   "source": [
    "n_fMC = int(2.5e5)\n",
    "# n_fMC = int(5e5)\n",
    "data_gwas_small = {'X':X[:,ind_small], 'y':y, 'Exp':Exp[:,ind_small],\n",
    "                   'r_Exp':r_Exp[:,ind_small], 'chi2_obs':chi2_obs[ind_small]}"
   ]
  },
  {
   "cell_type": "code",
   "execution_count": 5,
   "metadata": {},
   "outputs": [
    {
     "name": "stdout",
     "output_type": "stream",
     "text": [
      "# Time=4092.8s\n"
     ]
    }
   ],
   "source": [
    "np.random.seed(0)\n",
    "start_time = time.time()\n",
    "B = md.permute_chi2_batch_ncore(data_gwas_small['y'],\n",
    "                                data_gwas_small['X'],\n",
    "                                data_gwas_small['Exp'],\n",
    "                                data_gwas_small['r_Exp'],\n",
    "                                data_gwas_small['chi2_obs'], n_fMC,\n",
    "                                verbose=True,\n",
    "                                n_core=32)\n",
    "p_fmc = (np.sum(B, axis=0)+1)/(n_fMC+1)\n",
    "print('# Time=%0.1fs'%(time.time()-start_time))\n",
    "time_fMC = time.time()-start_time\n",
    "res_fMC = {'time':time.time()-start_time,\n",
    "           'p_fmc': p_fmc,\n",
    "           'B1':B[0:80000,:],\n",
    "           'B2':B[80000:160000:,:],\n",
    "           'B3':B[160000:,:]}\n",
    "with open(output_file, \"wb\") as f:\n",
    "    pickle.dump(res_fMC, f)    "
   ]
  },
  {
   "cell_type": "markdown",
   "metadata": {},
   "source": [
    "# Result analysis"
   ]
  },
  {
   "cell_type": "code",
   "execution_count": 21,
   "metadata": {},
   "outputs": [],
   "source": [
    "with open(output_file, 'rb')as f:\n",
    "    res_dic = pickle.load(f)\n",
    "B = np.concatenate([res_dic['B1'], res_dic['B2']], axis=0)\n",
    "B = np.concatenate([B, res_dic['B3']], axis=0)\n",
    "p_fmc = res_dic['p_fmc']"
   ]
  },
  {
   "cell_type": "code",
   "execution_count": 6,
   "metadata": {
    "scrolled": true
   },
   "outputs": [
    {
     "name": "stdout",
     "output_type": "stream",
     "text": [
      "23\n"
     ]
    }
   ],
   "source": [
    "snp_list = ['rs10501570', 'rs281357', 'rs2242330', 'rs1480597', 'rs6826751', 'rs4888984',\n",
    "            'rs4862792', 'rs3775866', 'rs2235617', 'rs988421', 'rs7097094', 'rs999473',\n",
    "            'rs1912373', 'rs1887279', 'rs2986574', 'rs11090762', 'rs6125829', 'rs7796855',\n",
    "            'rs355477', 'rs3010040', 'rs2296713', 'rs355461', 'rs355506', 'rs355464',\n",
    "            'rs1497430', 'rs11946612']\n",
    "tau_fmc = md.bh(p_fmc[ind_snp], alpha=0.1)\n",
    "h_fmc = (p_fmc[ind_snp] <= tau_fmc)\n",
    "print(np.sum(h_fmc))\n",
    "df_map_c4 = df_map.loc[ind_small]\n",
    "for snp in snp_list:\n",
    "    temp = df_map_c4['snp']==snp\n",
    "    if np.sum(temp)>0:\n",
    "        print('###')\n",
    "        print(df_map_c4.loc[temp])\n",
    "        print('decision', h_fmc[temp[ind_snp]])\n",
    "        print('miss_prop=%0.4f, p_fmc='%(miss_prop[ind_small][temp]),\n",
    "                                        p_fmc[temp])\n",
    "        print('')"
   ]
  },
  {
   "cell_type": "markdown",
   "metadata": {},
   "source": [
    "# Corresponding AMT result"
   ]
  },
  {
   "cell_type": "code",
   "execution_count": 8,
   "metadata": {},
   "outputs": [],
   "source": [
    "temp_B = B[:,ind_snp]"
   ]
  },
  {
   "cell_type": "code",
   "execution_count": 9,
   "metadata": {},
   "outputs": [
    {
     "name": "stdout",
     "output_type": "stream",
     "text": [
      "# Initialization parameters\n",
      "# n_hypothesis=27386, n_fMC=250000, alpha=0.10, increment=1.10\n",
      "# delta 0.001\n",
      "# delta_CI 2.9378367139049603e-09\n",
      "# r_hat=27386, tau_hat=0.1000\n",
      "# batch_size [  100   111   122   134   147   162   178   195   215   236   260   286\n",
      "   314   346   380   418   460   506   556   612   673   741   815   896\n",
      "   985  1084  1192  1311  1443  1587  1745  1920  2112  2323  2555  2811\n",
      "  3092  3401  3741  4115  4526  4979  5477  6025  6627  7290  8018  8820\n",
      "  9702 10672 11740 12913 14205 15625 17188 18906 20797 22210]\n",
      "# sum of batch size = 250000\n",
      "# Initialization completed: time=-0.006s\n",
      "# 0, avg_sample=100.0, tau=0.01615, r_hat=4424, n_u=4424, n_g=22962, n_l=0\n",
      "# 1, avg_sample=117.9, tau=0.01026, r_hat=2809, n_u=2809, n_g=24577, n_l=0\n",
      "# 2, avg_sample=130.4, tau=0.00767, r_hat=2100, n_u=2100, n_g=25286, n_l=0\n",
      "# 3, avg_sample=140.7, tau=0.00607, r_hat=1663, n_u=1663, n_g=25723, n_l=0\n",
      "# 4, avg_sample=149.6, tau=0.00501, r_hat=1372, n_u=1372, n_g=26014, n_l=0\n",
      "# 5, avg_sample=157.8, tau=0.00429, r_hat=1175, n_u=1175, n_g=26211, n_l=0\n",
      "# 6, avg_sample=165.4, tau=0.00377, r_hat=1033, n_u=1033, n_g=26353, n_l=0\n",
      "# 7, avg_sample=172.8, tau=0.00323, r_hat=884, n_u=884, n_g=26502, n_l=0\n",
      "# 8, avg_sample=179.7, tau=0.00292, r_hat=799, n_u=799, n_g=26587, n_l=0\n",
      "# 9, avg_sample=186.6, tau=0.00252, r_hat=690, n_u=690, n_g=26696, n_l=0\n",
      "# 10, avg_sample=193.1, tau=0.00237, r_hat=650, n_u=650, n_g=26736, n_l=0\n",
      "# 11, avg_sample=199.9, tau=0.00211, r_hat=579, n_u=579, n_g=26807, n_l=0\n",
      "# 12, avg_sample=206.6, tau=0.00192, r_hat=526, n_u=526, n_g=26860, n_l=0\n",
      "# 13, avg_sample=213.2, tau=0.00176, r_hat=482, n_u=482, n_g=26904, n_l=0\n",
      "# 14, avg_sample=219.9, tau=0.00166, r_hat=455, n_u=455, n_g=26931, n_l=0\n",
      "# 15, avg_sample=226.8, tau=0.00149, r_hat=407, n_u=407, n_g=26979, n_l=0\n",
      "# 16, avg_sample=233.7, tau=0.00134, r_hat=366, n_u=366, n_g=27020, n_l=0\n",
      "# 17, avg_sample=240.4, tau=0.00126, r_hat=344, n_u=344, n_g=27042, n_l=0\n",
      "# 18, avg_sample=247.4, tau=0.00115, r_hat=314, n_u=314, n_g=27072, n_l=0\n",
      "# 19, avg_sample=254.4, tau=0.00109, r_hat=299, n_u=299, n_g=27087, n_l=0\n",
      "# 20, avg_sample=261.8, tau=0.00102, r_hat=280, n_u=280, n_g=27106, n_l=0\n",
      "# 21, avg_sample=269.4, tau=0.00096, r_hat=264, n_u=264, n_g=27122, n_l=0\n",
      "# 22, avg_sample=277.2, tau=0.00087, r_hat=238, n_u=238, n_g=27148, n_l=0\n",
      "# 23, avg_sample=285.0, tau=0.00083, r_hat=228, n_u=228, n_g=27158, n_l=0\n",
      "# 24, avg_sample=293.2, tau=0.00077, r_hat=211, n_u=211, n_g=27175, n_l=0\n",
      "# 25, avg_sample=301.6, tau=0.00073, r_hat=201, n_u=201, n_g=27185, n_l=0\n",
      "# 26, avg_sample=310.3, tau=0.00071, r_hat=194, n_u=194, n_g=27192, n_l=0\n",
      "# 27, avg_sample=319.6, tau=0.00069, r_hat=188, n_u=188, n_g=27198, n_l=0\n",
      "# 28, avg_sample=329.5, tau=0.00067, r_hat=184, n_u=184, n_g=27202, n_l=0\n",
      "# 29, avg_sample=340.2, tau=0.00064, r_hat=175, n_u=175, n_g=27211, n_l=0\n",
      "# 30, avg_sample=351.3, tau=0.00063, r_hat=172, n_u=172, n_g=27214, n_l=0\n",
      "# 31, avg_sample=363.4, tau=0.00060, r_hat=165, n_u=165, n_g=27221, n_l=0\n",
      "# 32, avg_sample=376.1, tau=0.00056, r_hat=152, n_u=152, n_g=27234, n_l=0\n",
      "# 33, avg_sample=389.0, tau=0.00051, r_hat=140, n_u=140, n_g=27246, n_l=0\n",
      "# 34, avg_sample=402.0, tau=0.00047, r_hat=130, n_u=130, n_g=27256, n_l=0\n",
      "# 35, avg_sample=415.4, tau=0.00045, r_hat=122, n_u=122, n_g=27264, n_l=0\n",
      "# 36, avg_sample=429.2, tau=0.00043, r_hat=118, n_u=118, n_g=27268, n_l=0\n",
      "# 37, avg_sample=443.8, tau=0.00042, r_hat=114, n_u=114, n_g=27272, n_l=0\n",
      "# 38, avg_sample=459.4, tau=0.00038, r_hat=103, n_u=103, n_g=27283, n_l=0\n",
      "# 39, avg_sample=474.9, tau=0.00036, r_hat=98, n_u=98, n_g=27288, n_l=0\n",
      "# 40, avg_sample=491.1, tau=0.00035, r_hat=97, n_u=97, n_g=27289, n_l=0\n",
      "# 41, avg_sample=508.7, tau=0.00035, r_hat=96, n_u=96, n_g=27290, n_l=0\n",
      "# 42, avg_sample=527.9, tau=0.00032, r_hat=88, n_u=88, n_g=27298, n_l=0\n",
      "# 43, avg_sample=547.3, tau=0.00031, r_hat=85, n_u=85, n_g=27301, n_l=0\n",
      "# 44, avg_sample=567.8, tau=0.00030, r_hat=82, n_u=82, n_g=27304, n_l=0\n",
      "# 45, avg_sample=589.7, tau=0.00030, r_hat=82, n_u=82, n_g=27304, n_l=0\n",
      "# 46, avg_sample=613.7, tau=0.00028, r_hat=76, n_u=76, n_g=27310, n_l=0\n",
      "# 47, avg_sample=638.1, tau=0.00027, r_hat=73, n_u=73, n_g=27313, n_l=0\n",
      "# 48, avg_sample=664.0, tau=0.00026, r_hat=71, n_u=71, n_g=27315, n_l=0\n",
      "# 49, avg_sample=691.7, tau=0.00025, r_hat=68, n_u=68, n_g=27318, n_l=0\n",
      "# 50, avg_sample=720.8, tau=0.00025, r_hat=68, n_u=68, n_g=27318, n_l=0\n",
      "# 51, avg_sample=752.9, tau=0.00024, r_hat=66, n_u=66, n_g=27320, n_l=0\n",
      "# 52, avg_sample=787.1, tau=0.00023, r_hat=64, n_u=64, n_g=27322, n_l=0\n",
      "# 53, avg_sample=823.6, tau=0.00022, r_hat=59, n_u=59, n_g=27327, n_l=0\n",
      "# 54, avg_sample=860.7, tau=0.00018, r_hat=48, n_u=48, n_g=27338, n_l=0\n",
      "# 55, avg_sample=893.8, tau=0.00017, r_hat=47, n_u=47, n_g=27339, n_l=0\n",
      "# 56, avg_sample=929.5, tau=0.00016, r_hat=43, n_u=43, n_g=27343, n_l=0\n",
      "# 57, avg_sample=964.4, tau=0.00008, r_hat=23, n_u=0, n_g=27363, n_l=23\n"
     ]
    },
    {
     "ename": "ValueError",
     "evalue": "too many values to unpack (expected 4)",
     "output_type": "error",
     "traceback": [
      "\u001b[0;31m---------------------------------------------------------------------------\u001b[0m",
      "\u001b[0;31mValueError\u001b[0m                                Traceback (most recent call last)",
      "\u001b[0;32m<ipython-input-9-6b1719066f2c>\u001b[0m in \u001b[0;36m<module>\u001b[0;34m()\u001b[0m\n\u001b[1;32m      2\u001b[0m p_hat_ub, p_hat, tau_hat, n_amt = md.amt(md.f_sample_dummy, temp_B, n_hypothesis,\n\u001b[1;32m      3\u001b[0m                                          \u001b[0malpha\u001b[0m\u001b[0;34m=\u001b[0m\u001b[0;36m0.1\u001b[0m\u001b[0;34m,\u001b[0m \u001b[0mn_fMC\u001b[0m\u001b[0;34m=\u001b[0m\u001b[0mn_fMC\u001b[0m\u001b[0;34m,\u001b[0m\u001b[0;34m\u001b[0m\u001b[0m\n\u001b[0;32m----> 4\u001b[0;31m                                          verbose=True, delta=0.001)\n\u001b[0m\u001b[1;32m      5\u001b[0m \u001b[0mh_amt\u001b[0m \u001b[0;34m=\u001b[0m \u001b[0;34m(\u001b[0m\u001b[0mp_hat_ub\u001b[0m \u001b[0;34m<=\u001b[0m \u001b[0mtau_hat\u001b[0m\u001b[0;34m)\u001b[0m\u001b[0;34m\u001b[0m\u001b[0m\n\u001b[1;32m      6\u001b[0m print('# AMT: avg. MC samples = %0.1f, time=%0.2fs'%(np.mean(n_amt),\n",
      "\u001b[0;31mValueError\u001b[0m: too many values to unpack (expected 4)"
     ]
    }
   ],
   "source": [
    "start_time = time.time()\n",
    "p_hat_ub, p_hat_lb, p_hat, tau_hat, n_amt = md.amt(md.f_sample_dummy, temp_B, n_hypothesis,\n",
    "                                         alpha=0.1, n_fMC=n_fMC,\n",
    "                                         verbose=True, delta=0.001)\n",
    "h_amt = (p_hat_ub <= tau_hat)\n",
    "print('# AMT: avg. MC samples = %0.1f, time=%0.2fs'%(np.mean(n_amt),\n",
    "                                                     time.time()-start_time))\n",
    "print('# D_AMT=%d, D_overlap=%d, D_fMC=%d'%(md.result_compare(h_amt, h_fmc)))\n",
    "print('')"
   ]
  },
  {
   "cell_type": "markdown",
   "metadata": {},
   "source": [
    "# Directly run AMT "
   ]
  },
  {
   "cell_type": "code",
   "execution_count": 20,
   "metadata": {},
   "outputs": [],
   "source": [
    "temp_data = {'X':X[:,ind_small][:, ind_snp], 'y':y, \n",
    "             'Exp':Exp[:,ind_small][:, ind_snp],\n",
    "             'r_Exp':r_Exp[:,ind_small][:, ind_snp],\n",
    "             'chi2_obs':chi2_obs[ind_small][ind_snp]}"
   ]
  },
  {
   "cell_type": "code",
   "execution_count": 25,
   "metadata": {},
   "outputs": [
    {
     "name": "stdout",
     "output_type": "stream",
     "text": [
      "# Initialization parameters\n",
      "# n_hypothesis=23915, n_fMC=250000, alpha=0.05, increment=1.10\n",
      "# delta 0.001\n",
      "# delta_CI 3.3642314968430376e-09\n",
      "# r_hat=23915, tau_hat=0.0500\n",
      "# batch_size [  100   111   122   134   147   162   178   195   215   236   260   286\n",
      "   314   346   380   418   460   506   556   612   673   741   815   896\n",
      "   985  1084  1192  1311  1443  1587  1745  1920  2112  2323  2555  2811\n",
      "  3092  3401  3741  4115  4526  4979  5477  6025  6627  7290  8018  8820\n",
      "  9702 10672 11740 12913 14205 15625 17188 18906 20797 22210]\n",
      "# sum of batch size = 250000\n",
      "# Initialization completed: time=-0.006s\n",
      "# 0, avg_sample=100.0, tau=0.00719, r_hat=3438, n_u=3438, n_g=20477, n_l=0\n",
      "# 1, avg_sample=116.0, tau=0.00463, r_hat=2216, n_u=2216, n_g=21699, n_l=0\n",
      "# 2, avg_sample=127.3, tau=0.00340, r_hat=1628, n_u=1628, n_g=22287, n_l=0\n",
      "# 3, avg_sample=136.4, tau=0.00266, r_hat=1271, n_u=1271, n_g=22644, n_l=0\n",
      "# 4, avg_sample=144.2, tau=0.00229, r_hat=1096, n_u=1096, n_g=22819, n_l=0\n",
      "# 5, avg_sample=151.6, tau=0.00186, r_hat=888, n_u=888, n_g=23027, n_l=0\n",
      "# 6, avg_sample=158.2, tau=0.00166, r_hat=792, n_u=792, n_g=23123, n_l=0\n",
      "# 7, avg_sample=164.7, tau=0.00146, r_hat=697, n_u=697, n_g=23218, n_l=0\n",
      "# 8, avg_sample=171.0, tau=0.00132, r_hat=630, n_u=630, n_g=23285, n_l=0\n",
      "# 9, avg_sample=177.2, tau=0.00117, r_hat=560, n_u=560, n_g=23355, n_l=0\n",
      "# 10, avg_sample=183.3, tau=0.00103, r_hat=494, n_u=494, n_g=23421, n_l=0\n",
      "# 11, avg_sample=189.2, tau=0.00092, r_hat=442, n_u=442, n_g=23473, n_l=0\n",
      "# 12, avg_sample=195.0, tau=0.00085, r_hat=406, n_u=406, n_g=23509, n_l=0\n",
      "# 13, avg_sample=200.8, tau=0.00077, r_hat=366, n_u=366, n_g=23549, n_l=0\n",
      "# 14, avg_sample=206.7, tau=0.00070, r_hat=335, n_u=335, n_g=23580, n_l=0\n",
      "# 15, avg_sample=212.5, tau=0.00064, r_hat=306, n_u=306, n_g=23609, n_l=0\n",
      "# 16, avg_sample=218.4, tau=0.00058, r_hat=279, n_u=279, n_g=23636, n_l=0\n",
      "# 17, avg_sample=224.3, tau=0.00056, r_hat=268, n_u=268, n_g=23647, n_l=0\n",
      "# 18, avg_sample=230.5, tau=0.00053, r_hat=253, n_u=253, n_g=23662, n_l=0\n",
      "# 19, avg_sample=237.0, tau=0.00049, r_hat=234, n_u=234, n_g=23681, n_l=0\n",
      "# 20, avg_sample=243.6, tau=0.00047, r_hat=226, n_u=226, n_g=23689, n_l=0\n",
      "# 21, avg_sample=250.6, tau=0.00045, r_hat=214, n_u=214, n_g=23701, n_l=0\n",
      "# 22, avg_sample=257.9, tau=0.00044, r_hat=210, n_u=210, n_g=23705, n_l=0\n",
      "# 23, avg_sample=265.8, tau=0.00041, r_hat=196, n_u=196, n_g=23719, n_l=0\n",
      "# 24, avg_sample=273.8, tau=0.00037, r_hat=178, n_u=178, n_g=23737, n_l=0\n",
      "# 25, avg_sample=281.9, tau=0.00034, r_hat=164, n_u=164, n_g=23751, n_l=0\n",
      "# 26, avg_sample=290.1, tau=0.00033, r_hat=160, n_u=160, n_g=23755, n_l=0\n",
      "# 27, avg_sample=298.8, tau=0.00031, r_hat=147, n_u=147, n_g=23768, n_l=0\n",
      "# 28, avg_sample=307.7, tau=0.00029, r_hat=137, n_u=137, n_g=23778, n_l=0\n",
      "# 29, avg_sample=316.8, tau=0.00028, r_hat=133, n_u=133, n_g=23782, n_l=0\n",
      "# 30, avg_sample=326.5, tau=0.00027, r_hat=128, n_u=128, n_g=23787, n_l=0\n",
      "# 31, avg_sample=336.8, tau=0.00026, r_hat=126, n_u=126, n_g=23789, n_l=0\n",
      "# 32, avg_sample=347.9, tau=0.00024, r_hat=115, n_u=115, n_g=23800, n_l=0\n",
      "# 33, avg_sample=359.1, tau=0.00023, r_hat=111, n_u=111, n_g=23804, n_l=0\n",
      "# 34, avg_sample=370.9, tau=0.00022, r_hat=103, n_u=103, n_g=23812, n_l=0\n",
      "# 35, avg_sample=383.1, tau=0.00021, r_hat=100, n_u=100, n_g=23815, n_l=0\n",
      "# 36, avg_sample=396.0, tau=0.00020, r_hat=98, n_u=98, n_g=23817, n_l=0\n",
      "# 37, avg_sample=409.9, tau=0.00019, r_hat=91, n_u=91, n_g=23824, n_l=0\n",
      "# 38, avg_sample=424.2, tau=0.00019, r_hat=89, n_u=89, n_g=23826, n_l=0\n",
      "# 39, avg_sample=439.5, tau=0.00018, r_hat=88, n_u=88, n_g=23827, n_l=0\n",
      "# 40, avg_sample=456.1, tau=0.00017, r_hat=82, n_u=82, n_g=23833, n_l=0\n",
      "# 41, avg_sample=473.2, tau=0.00016, r_hat=78, n_u=78, n_g=23837, n_l=0\n",
      "# 42, avg_sample=491.1, tau=0.00016, r_hat=77, n_u=77, n_g=23838, n_l=0\n",
      "# 43, avg_sample=510.5, tau=0.00016, r_hat=76, n_u=76, n_g=23839, n_l=0\n",
      "# 44, avg_sample=531.5, tau=0.00015, r_hat=74, n_u=74, n_g=23841, n_l=0\n",
      "# 45, avg_sample=554.1, tau=0.00014, r_hat=68, n_u=68, n_g=23847, n_l=0\n",
      "# 46, avg_sample=576.9, tau=0.00013, r_hat=60, n_u=60, n_g=23855, n_l=0\n",
      "# 47, avg_sample=599.0, tau=0.00013, r_hat=60, n_u=60, n_g=23855, n_l=0\n",
      "# 48, avg_sample=623.3, tau=0.00012, r_hat=59, n_u=59, n_g=23856, n_l=0\n",
      "# 49, avg_sample=649.7, tau=0.00012, r_hat=58, n_u=58, n_g=23857, n_l=0\n",
      "# 50, avg_sample=678.1, tau=0.00012, r_hat=58, n_u=58, n_g=23857, n_l=0\n",
      "# 51, avg_sample=709.5, tau=0.00012, r_hat=58, n_u=58, n_g=23857, n_l=0\n",
      "# 52, avg_sample=743.9, tau=0.00011, r_hat=54, n_u=54, n_g=23861, n_l=0\n",
      "# 53, avg_sample=779.2, tau=0.00011, r_hat=53, n_u=53, n_g=23862, n_l=0\n",
      "# 54, avg_sample=817.3, tau=0.00011, r_hat=51, n_u=51, n_g=23864, n_l=0\n",
      "# 55, avg_sample=857.6, tau=0.00010, r_hat=47, n_u=47, n_g=23868, n_l=0\n",
      "# 56, avg_sample=898.5, tau=0.00010, r_hat=46, n_u=46, n_g=23869, n_l=0\n",
      "# 57, avg_sample=941.2, tau=0.00004, r_hat=18, n_u=0, n_g=23897, n_l=18\n",
      "# AMT: avg. MC samples = 941.2, time=76.89s\n",
      "# D_AMT=18, D_overlap=18, D_fMC=25\n",
      "\n"
     ]
    }
   ],
   "source": [
    "start_time = time.time()\n",
    "p_hat_ub, p_hat_lb, p_hat, tau_hat, n_amt = md.amt(md.f_sample_chi2, temp_data, n_hypothesis,\n",
    "                                         alpha=0.05, n_fMC=n_fMC,\n",
    "                                         verbose=True, delta=0.001,\n",
    "                                         random_state=0)\n",
    "h_amt = (p_hat_ub <= tau_hat)\n",
    "print('# AMT: avg. MC samples = %0.1f, time=%0.2fs'%(np.mean(n_amt),\n",
    "                                                     time.time()-start_time))\n",
    "print('# D_AMT=%d, D_overlap=%d, D_fMC=%d'%(md.result_compare(h_amt, h_fmc)))\n",
    "print('')"
   ]
  },
  {
   "cell_type": "code",
   "execution_count": null,
   "metadata": {},
   "outputs": [],
   "source": []
  }
 ],
 "metadata": {
  "kernelspec": {
   "display_name": "Python 3",
   "language": "python",
   "name": "python3"
  },
  "language_info": {
   "codemirror_mode": {
    "name": "ipython",
    "version": 3
   },
   "file_extension": ".py",
   "mimetype": "text/x-python",
   "name": "python",
   "nbconvert_exporter": "python",
   "pygments_lexer": "ipython3",
   "version": "3.6.3"
  }
 },
 "nbformat": 4,
 "nbformat_minor": 2
}
