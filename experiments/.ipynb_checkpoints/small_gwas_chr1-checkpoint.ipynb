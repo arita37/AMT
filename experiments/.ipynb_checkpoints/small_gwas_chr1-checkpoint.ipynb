{
 "cells": [
  {
   "cell_type": "code",
   "execution_count": 1,
   "metadata": {},
   "outputs": [],
   "source": [
    "import numpy as np\n",
    "import scipy as sp\n",
    "import pandas as pd\n",
    "from scipy import stats\n",
    "import matplotlib.pyplot as plt\n",
    "import time\n",
    "import amt.method as md\n",
    "import amt.data_loader as dl\n",
    "import pickle\n",
    "\n",
    "%matplotlib inline\n",
    "%load_ext autoreload\n",
    "%autoreload 2"
   ]
  },
  {
   "cell_type": "markdown",
   "metadata": {},
   "source": [
    "# Load the data"
   ]
  },
  {
   "cell_type": "code",
   "execution_count": 2,
   "metadata": {},
   "outputs": [
    {
     "name": "stderr",
     "output_type": "stream",
     "text": [
      "/home/martin/anaconda3/lib/python3.6/site-packages/IPython/core/interactiveshell.py:2698: DtypeWarning: Columns (0) have mixed types. Specify dtype option on import or set low_memory=False.\n",
      "  interactivity=interactivity, compiler=compiler, result=result)\n"
     ]
    }
   ],
   "source": [
    "output_folder = '/home/martin/adapative_MC_test/results/GWAS'\n",
    "output_file = output_folder + '/small_GWAS_chr1.pickle'\n",
    "with open('../../parkinsons/parkinsons.pickle', 'rb') as f:\n",
    "    X = pickle.load(f)\n",
    "    y = pickle.load(f)\n",
    "    miss_prop = pickle.load(f)\n",
    "y = y-1\n",
    "file_map = '../../parkinsons/parkinsons.map'\n",
    "df_map = pd.read_csv(file_map, delimiter='\\t', \n",
    "                     names=['chromosome', 'snp', 'start', 'end'])\n",
    "n_sample, n_snp = X.shape\n",
    "ind_small = np.array(df_map['chromosome']==1, dtype=bool)\n",
    "ind_snp = np.array(miss_prop[ind_small]<0.05, dtype=bool)\n",
    "n_hypothesis = np.sum(ind_snp)"
   ]
  },
  {
   "cell_type": "code",
   "execution_count": 3,
   "metadata": {},
   "outputs": [],
   "source": [
    "# Compute the expected observations\n",
    "Exp = np.zeros([8, n_snp], dtype=float)\n",
    "for iy in range(2):\n",
    "    for ix in range(4):\n",
    "        Exp[iy*4+ix,:] = np.mean(y==iy) * np.mean(X==ix,axis=0)\n",
    "Exp = Exp*n_sample\n",
    "r_Exp = 1/Exp.clip(min=1e-6)*(Exp>0)\n",
    "chi2_obs = md.compute_chi2(y, X, Exp, r_Exp)\n",
    "data_gwas = {'X':X, 'y':y, 'Exp':Exp, 'r_Exp':r_Exp, 'chi2_obs':chi2_obs}"
   ]
  },
  {
   "cell_type": "markdown",
   "metadata": {},
   "source": [
    "# Compute fMC p-values"
   ]
  },
  {
   "cell_type": "code",
   "execution_count": 4,
   "metadata": {},
   "outputs": [],
   "source": [
    "n_fMC = int(2.5e5)\n",
    "# n_fMC = int(5e5)\n",
    "data_gwas_small = {'X':X[:,ind_small], 'y':y, 'Exp':Exp[:,ind_small],\n",
    "                   'r_Exp':r_Exp[:,ind_small], 'chi2_obs':chi2_obs[ind_small]}"
   ]
  },
  {
   "cell_type": "code",
   "execution_count": 5,
   "metadata": {},
   "outputs": [
    {
     "name": "stdout",
     "output_type": "stream",
     "text": [
      "# Time=3734.6s\n"
     ]
    },
    {
     "ename": "OverflowError",
     "evalue": "cannot serialize a bytes object larger than 4 GiB",
     "output_type": "error",
     "traceback": [
      "\u001b[0;31m---------------------------------------------------------------------------\u001b[0m",
      "\u001b[0;31mOverflowError\u001b[0m                             Traceback (most recent call last)",
      "\u001b[0;32m<ipython-input-5-fc1c54d3facf>\u001b[0m in \u001b[0;36m<module>\u001b[0;34m()\u001b[0m\n\u001b[1;32m     16\u001b[0m            'B2':B[100000:,:]}\n\u001b[1;32m     17\u001b[0m \u001b[0;32mwith\u001b[0m \u001b[0mopen\u001b[0m\u001b[0;34m(\u001b[0m\u001b[0moutput_file\u001b[0m\u001b[0;34m,\u001b[0m \u001b[0;34m\"wb\"\u001b[0m\u001b[0;34m)\u001b[0m \u001b[0;32mas\u001b[0m \u001b[0mf\u001b[0m\u001b[0;34m:\u001b[0m\u001b[0;34m\u001b[0m\u001b[0m\n\u001b[0;32m---> 18\u001b[0;31m     \u001b[0mpickle\u001b[0m\u001b[0;34m.\u001b[0m\u001b[0mdump\u001b[0m\u001b[0;34m(\u001b[0m\u001b[0mres_fMC\u001b[0m\u001b[0;34m,\u001b[0m \u001b[0mf\u001b[0m\u001b[0;34m)\u001b[0m\u001b[0;34m\u001b[0m\u001b[0m\n\u001b[0m",
      "\u001b[0;31mOverflowError\u001b[0m: cannot serialize a bytes object larger than 4 GiB"
     ]
    }
   ],
   "source": [
    "np.random.seed(0)\n",
    "start_time = time.time()\n",
    "B = md.permute_chi2_batch_ncore(data_gwas_small['y'],\n",
    "                                data_gwas_small['X'],\n",
    "                                data_gwas_small['Exp'],\n",
    "                                data_gwas_small['r_Exp'],\n",
    "                                data_gwas_small['chi2_obs'], n_fMC,\n",
    "                                verbose=True,\n",
    "                                n_core=32)\n",
    "p_fmc = (np.sum(B, axis=0)+1)/(n_fMC+1)\n",
    "print('# Time=%0.1fs'%(time.time()-start_time))\n",
    "time_fMC = time.time()-start_time\n",
    "res_fMC = {'time':time.time()-start_time,\n",
    "           'p_fmc': p_fmc,\n",
    "           'B1':B[0:80000,:],\n",
    "           'B2':B[80000:160000:,:],\n",
    "           'B3':B[160000:,:]}\n",
    "with open(output_file, \"wb\") as f:\n",
    "    pickle.dump(res_fMC, f)    "
   ]
  },
  {
   "cell_type": "code",
   "execution_count": 10,
   "metadata": {},
   "outputs": [],
   "source": [
    "res_fMC = {'time':time.time()-start_time,\n",
    "           'p_fmc': p_fmc,\n",
    "           'B1':B[0:80000,:],\n",
    "           'B2':B[80000:160000:,:],\n",
    "           'B3':B[160000:,:]}\n",
    "with open(output_file, \"wb\") as f:\n",
    "    pickle.dump(res_fMC, f)    "
   ]
  },
  {
   "cell_type": "markdown",
   "metadata": {},
   "source": [
    "# Result analysis"
   ]
  },
  {
   "cell_type": "code",
   "execution_count": 21,
   "metadata": {},
   "outputs": [],
   "source": [
    "with open(output_file, 'rb')as f:\n",
    "    res_dic = pickle.load(f)\n",
    "B = np.concatenate([res_dic['B1'], res_dic['B2']], axis=0)\n",
    "B = np.concatenate([B, res_dic['B3']], axis=0)\n",
    "p_fmc = res_dic['p_fmc']"
   ]
  },
  {
   "cell_type": "code",
   "execution_count": 7,
   "metadata": {
    "scrolled": true
   },
   "outputs": [
    {
     "name": "stdout",
     "output_type": "stream",
     "text": [
      "25\n",
      "###\n",
      "      chromosome       snp  start       end\n",
      "10385          1  rs988421      0  72261857\n",
      "decision [ True]\n",
      "miss_prop=0.0019, p_fmc= [3.5999856e-05]\n",
      "\n",
      "###\n",
      "      chromosome        snp  start        end\n",
      "22113          1  rs1887279      0  180641817\n",
      "decision [ True]\n",
      "miss_prop=0.0000, p_fmc= [4.3999824e-05]\n",
      "\n",
      "###\n",
      "      chromosome        snp  start        end\n",
      "22108          1  rs2986574      0  180638271\n",
      "decision [ True]\n",
      "miss_prop=0.0019, p_fmc= [4.3999824e-05]\n",
      "\n",
      "###\n",
      "      chromosome        snp  start        end\n",
      "22111          1  rs3010040      0  180639879\n",
      "decision [ True]\n",
      "miss_prop=0.0000, p_fmc= [5.999976e-05]\n",
      "\n",
      "###\n",
      "      chromosome        snp  start        end\n",
      "22112          1  rs2296713      0  180641374\n",
      "decision [ True]\n",
      "miss_prop=0.0000, p_fmc= [5.999976e-05]\n",
      "\n"
     ]
    }
   ],
   "source": [
    "snp_list = ['rs10501570', 'rs281357', 'rs2242330', 'rs1480597', 'rs6826751', 'rs4888984',\n",
    "            'rs4862792', 'rs3775866', 'rs2235617', 'rs988421', 'rs7097094', 'rs999473',\n",
    "            'rs1912373', 'rs1887279', 'rs2986574', 'rs11090762', 'rs6125829', 'rs7796855',\n",
    "            'rs355477', 'rs3010040', 'rs2296713', 'rs355461', 'rs355506', 'rs355464',\n",
    "            'rs1497430', 'rs11946612']\n",
    "tau_fmc = md.bh(p_fmc[ind_snp], alpha=0.1)\n",
    "h_fmc = (p_fmc[ind_snp] <= tau_fmc)\n",
    "print(np.sum(h_fmc))\n",
    "df_map_c4 = df_map.loc[ind_small]\n",
    "for snp in snp_list:\n",
    "    temp = df_map_c4['snp']==snp\n",
    "    if np.sum(temp)>0:\n",
    "        print('###')\n",
    "        print(df_map_c4.loc[temp])\n",
    "        print('decision', h_fmc[temp[ind_snp]])\n",
    "        print('miss_prop=%0.4f, p_fmc='%(miss_prop[ind_small][temp]),\n",
    "                                        p_fmc[temp])\n",
    "        print('')"
   ]
  },
  {
   "cell_type": "markdown",
   "metadata": {},
   "source": [
    "# Corresponding AMT result"
   ]
  },
  {
   "cell_type": "code",
   "execution_count": 9,
   "metadata": {},
   "outputs": [],
   "source": [
    "temp_B = B[:,ind_snp]"
   ]
  },
  {
   "cell_type": "code",
   "execution_count": 13,
   "metadata": {},
   "outputs": [
    {
     "name": "stdout",
     "output_type": "stream",
     "text": [
      "# Initialization parameters\n",
      "# n_hypothesis=31164, n_fMC=250000, alpha=0.10, increment=1.10\n",
      "# delta 0.001\n",
      "# delta_CI 2.581683873925082e-09\n",
      "# r_hat=31164, tau_hat=0.1000\n",
      "# batch_size [  100   111   122   134   147   162   178   195   215   236   260   286\n",
      "   314   346   380   418   460   506   556   612   673   741   815   896\n",
      "   985  1084  1192  1311  1443  1587  1745  1920  2112  2323  2555  2811\n",
      "  3092  3401  3741  4115  4526  4979  5477  6025  6627  7290  8018  8820\n",
      "  9702 10672 11740 12913 14205 15625 17188 18906 20797 22210]\n",
      "# sum of batch size = 250000\n",
      "# Initialization completed: time=-0.004s\n",
      "# 0, avg_sample=100.0, tau=0.01540, r_hat=4798, n_u=4798, n_g=26366, n_l=0\n",
      "# 1, avg_sample=117.1, tau=0.00982, r_hat=3059, n_u=3059, n_g=28105, n_l=0\n",
      "# 2, avg_sample=129.1, tau=0.00696, r_hat=2169, n_u=2169, n_g=28995, n_l=0\n",
      "# 3, avg_sample=138.4, tau=0.00535, r_hat=1668, n_u=1668, n_g=29496, n_l=0\n",
      "# 4, avg_sample=146.3, tau=0.00447, r_hat=1392, n_u=1392, n_g=29772, n_l=0\n",
      "# 5, avg_sample=153.5, tau=0.00366, r_hat=1141, n_u=1141, n_g=30023, n_l=0\n",
      "# 6, avg_sample=160.0, tau=0.00319, r_hat=995, n_u=995, n_g=30169, n_l=0\n",
      "# 7, avg_sample=166.2, tau=0.00287, r_hat=894, n_u=894, n_g=30270, n_l=0\n",
      "# 8, avg_sample=172.4, tau=0.00253, r_hat=787, n_u=787, n_g=30377, n_l=0\n",
      "# 9, avg_sample=178.4, tau=0.00220, r_hat=687, n_u=687, n_g=30477, n_l=0\n",
      "# 10, avg_sample=184.1, tau=0.00198, r_hat=617, n_u=617, n_g=30547, n_l=0\n",
      "# 11, avg_sample=189.8, tau=0.00177, r_hat=552, n_u=552, n_g=30612, n_l=0\n",
      "# 12, avg_sample=195.3, tau=0.00157, r_hat=489, n_u=489, n_g=30675, n_l=0\n",
      "# 13, avg_sample=200.8, tau=0.00144, r_hat=450, n_u=450, n_g=30714, n_l=0\n",
      "# 14, avg_sample=206.2, tau=0.00129, r_hat=403, n_u=403, n_g=30761, n_l=0\n",
      "# 15, avg_sample=211.6, tau=0.00116, r_hat=360, n_u=360, n_g=30804, n_l=0\n",
      "# 16, avg_sample=217.0, tau=0.00104, r_hat=324, n_u=324, n_g=30840, n_l=0\n",
      "# 17, avg_sample=222.2, tau=0.00100, r_hat=312, n_u=312, n_g=30852, n_l=0\n",
      "# 18, avg_sample=227.8, tau=0.00091, r_hat=284, n_u=284, n_g=30880, n_l=0\n",
      "# 19, avg_sample=233.4, tau=0.00085, r_hat=265, n_u=265, n_g=30899, n_l=0\n",
      "# 20, avg_sample=239.1, tau=0.00081, r_hat=253, n_u=253, n_g=30911, n_l=0\n",
      "# 21, avg_sample=245.1, tau=0.00078, r_hat=243, n_u=243, n_g=30921, n_l=0\n",
      "# 22, avg_sample=251.5, tau=0.00072, r_hat=225, n_u=225, n_g=30939, n_l=0\n",
      "# 23, avg_sample=257.9, tau=0.00067, r_hat=209, n_u=209, n_g=30955, n_l=0\n",
      "# 24, avg_sample=264.5, tau=0.00063, r_hat=196, n_u=196, n_g=30968, n_l=0\n",
      "# 25, avg_sample=271.3, tau=0.00059, r_hat=183, n_u=183, n_g=30981, n_l=0\n",
      "# 26, avg_sample=278.3, tau=0.00055, r_hat=172, n_u=172, n_g=30992, n_l=0\n",
      "# 27, avg_sample=285.6, tau=0.00052, r_hat=163, n_u=163, n_g=31001, n_l=0\n",
      "# 28, avg_sample=293.1, tau=0.00051, r_hat=159, n_u=159, n_g=31005, n_l=0\n",
      "# 29, avg_sample=301.2, tau=0.00049, r_hat=153, n_u=153, n_g=31011, n_l=0\n",
      "# 30, avg_sample=309.8, tau=0.00047, r_hat=147, n_u=147, n_g=31017, n_l=0\n",
      "# 31, avg_sample=318.9, tau=0.00045, r_hat=140, n_u=140, n_g=31024, n_l=0\n",
      "# 32, avg_sample=328.3, tau=0.00044, r_hat=137, n_u=137, n_g=31027, n_l=0\n",
      "# 33, avg_sample=338.6, tau=0.00043, r_hat=133, n_u=133, n_g=31031, n_l=0\n",
      "# 34, avg_sample=349.5, tau=0.00042, r_hat=130, n_u=130, n_g=31034, n_l=0\n",
      "# 35, avg_sample=361.2, tau=0.00040, r_hat=126, n_u=126, n_g=31038, n_l=0\n",
      "# 36, avg_sample=373.7, tau=0.00040, r_hat=124, n_u=124, n_g=31040, n_l=0\n",
      "# 37, avg_sample=387.2, tau=0.00039, r_hat=120, n_u=120, n_g=31044, n_l=0\n",
      "# 38, avg_sample=401.6, tau=0.00038, r_hat=118, n_u=118, n_g=31046, n_l=0\n",
      "# 39, avg_sample=417.2, tau=0.00035, r_hat=109, n_u=109, n_g=31055, n_l=0\n",
      "# 40, avg_sample=433.0, tau=0.00033, r_hat=104, n_u=104, n_g=31060, n_l=0\n",
      "# 41, avg_sample=449.6, tau=0.00030, r_hat=94, n_u=94, n_g=31070, n_l=0\n",
      "# 42, avg_sample=466.2, tau=0.00028, r_hat=86, n_u=86, n_g=31078, n_l=0\n",
      "# 43, avg_sample=482.8, tau=0.00028, r_hat=86, n_u=86, n_g=31078, n_l=0\n",
      "# 44, avg_sample=501.1, tau=0.00027, r_hat=85, n_u=85, n_g=31079, n_l=0\n",
      "# 45, avg_sample=521.0, tau=0.00026, r_hat=82, n_u=82, n_g=31082, n_l=0\n",
      "# 46, avg_sample=542.1, tau=0.00026, r_hat=80, n_u=80, n_g=31084, n_l=0\n",
      "# 47, avg_sample=564.7, tau=0.00025, r_hat=78, n_u=78, n_g=31086, n_l=0\n",
      "# 48, avg_sample=589.0, tau=0.00024, r_hat=75, n_u=75, n_g=31089, n_l=0\n",
      "# 49, avg_sample=614.7, tau=0.00022, r_hat=68, n_u=68, n_g=31096, n_l=0\n",
      "# 50, avg_sample=640.3, tau=0.00021, r_hat=65, n_u=65, n_g=31099, n_l=0\n",
      "# 51, avg_sample=667.2, tau=0.00020, r_hat=63, n_u=63, n_g=31101, n_l=0\n",
      "# 52, avg_sample=695.9, tau=0.00020, r_hat=63, n_u=63, n_g=31101, n_l=0\n",
      "# 53, avg_sample=727.5, tau=0.00020, r_hat=63, n_u=63, n_g=31101, n_l=0\n",
      "# 54, avg_sample=762.3, tau=0.00019, r_hat=58, n_u=58, n_g=31106, n_l=0\n",
      "# 55, avg_sample=797.5, tau=0.00018, r_hat=56, n_u=56, n_g=31108, n_l=0\n",
      "# 56, avg_sample=834.8, tau=0.00018, r_hat=55, n_u=55, n_g=31109, n_l=0\n",
      "# 57, avg_sample=874.0, tau=0.00008, r_hat=25, n_u=0, n_g=31139, n_l=25\n",
      "# AMT: avg. MC samples = 874.0, time=0.93s\n",
      "# D_AMT=25, D_overlap=25, D_fMC=25\n",
      "\n"
     ]
    }
   ],
   "source": [
    "start_time = time.time()\n",
    "p_hat_ub, p_hat_lb, p_hat, tau_hat, n_amt = md.amt(md.f_sample_dummy, temp_B, n_hypothesis,\n",
    "                                         alpha=0.1, n_fMC=n_fMC,\n",
    "                                         verbose=True, delta=0.001)\n",
    "h_amt = (p_hat_ub <= tau_hat)\n",
    "print('# AMT: avg. MC samples = %0.1f, time=%0.2fs'%(np.mean(n_amt),\n",
    "                                                     time.time()-start_time))\n",
    "print('# D_AMT=%d, D_overlap=%d, D_fMC=%d'%(md.result_compare(h_amt, h_fmc)))\n",
    "print('')"
   ]
  },
  {
   "cell_type": "markdown",
   "metadata": {},
   "source": [
    "# Directly run AMT "
   ]
  },
  {
   "cell_type": "code",
   "execution_count": 14,
   "metadata": {},
   "outputs": [],
   "source": [
    "temp_data = {'X':X[:,ind_small][:, ind_snp], 'y':y, \n",
    "             'Exp':Exp[:,ind_small][:, ind_snp],\n",
    "             'r_Exp':r_Exp[:,ind_small][:, ind_snp],\n",
    "             'chi2_obs':chi2_obs[ind_small][ind_snp]}"
   ]
  },
  {
   "cell_type": "code",
   "execution_count": 15,
   "metadata": {},
   "outputs": [
    {
     "name": "stdout",
     "output_type": "stream",
     "text": [
      "# Initialization parameters\n",
      "# n_hypothesis=31164, n_fMC=250000, alpha=0.05, increment=1.10\n",
      "# delta 0.001\n",
      "# delta_CI 2.581683873925082e-09\n",
      "# r_hat=31164, tau_hat=0.0500\n",
      "# batch_size [  100   111   122   134   147   162   178   195   215   236   260   286\n",
      "   314   346   380   418   460   506   556   612   673   741   815   896\n",
      "   985  1084  1192  1311  1443  1587  1745  1920  2112  2323  2555  2811\n",
      "  3092  3401  3741  4115  4526  4979  5477  6025  6627  7290  8018  8820\n",
      "  9702 10672 11740 12913 14205 15625 17188 18906 20797 22210]\n",
      "# sum of batch size = 250000\n",
      "# Initialization completed: time=-0.003s\n",
      "# 0, avg_sample=100.0, tau=0.00665, r_hat=4144, n_u=4144, n_g=27020, n_l=0\n",
      "# 1, avg_sample=114.8, tau=0.00432, r_hat=2694, n_u=2694, n_g=28470, n_l=0\n",
      "# 2, avg_sample=125.3, tau=0.00300, r_hat=1872, n_u=1872, n_g=29292, n_l=0\n",
      "# 3, avg_sample=133.4, tau=0.00237, r_hat=1475, n_u=1475, n_g=29689, n_l=0\n",
      "# 4, avg_sample=140.3, tau=0.00197, r_hat=1228, n_u=1228, n_g=29936, n_l=0\n",
      "# 5, avg_sample=146.7, tau=0.00163, r_hat=1018, n_u=1018, n_g=30146, n_l=0\n",
      "# 6, avg_sample=152.5, tau=0.00147, r_hat=914, n_u=914, n_g=30250, n_l=0\n",
      "# 7, avg_sample=158.2, tau=0.00124, r_hat=771, n_u=771, n_g=30393, n_l=0\n",
      "# 8, avg_sample=163.5, tau=0.00108, r_hat=671, n_u=671, n_g=30493, n_l=0\n",
      "# 9, avg_sample=168.6, tau=0.00097, r_hat=604, n_u=604, n_g=30560, n_l=0\n",
      "# 10, avg_sample=173.7, tau=0.00085, r_hat=529, n_u=529, n_g=30635, n_l=0\n",
      "# 11, avg_sample=178.5, tau=0.00074, r_hat=463, n_u=463, n_g=30701, n_l=0\n",
      "# 12, avg_sample=183.2, tau=0.00068, r_hat=423, n_u=423, n_g=30741, n_l=0\n",
      "# 13, avg_sample=187.9, tau=0.00060, r_hat=377, n_u=377, n_g=30787, n_l=0\n",
      "# 14, avg_sample=192.5, tau=0.00054, r_hat=336, n_u=336, n_g=30828, n_l=0\n",
      "# 15, avg_sample=197.0, tau=0.00048, r_hat=302, n_u=302, n_g=30862, n_l=0\n",
      "# 16, avg_sample=201.4, tau=0.00046, r_hat=289, n_u=289, n_g=30875, n_l=0\n",
      "# 17, avg_sample=206.1, tau=0.00043, r_hat=270, n_u=270, n_g=30894, n_l=0\n",
      "# 18, avg_sample=211.0, tau=0.00041, r_hat=253, n_u=253, n_g=30911, n_l=0\n",
      "# 19, avg_sample=215.9, tau=0.00038, r_hat=238, n_u=238, n_g=30926, n_l=0\n",
      "# 20, avg_sample=221.1, tau=0.00034, r_hat=213, n_u=213, n_g=30951, n_l=0\n",
      "# 21, avg_sample=226.1, tau=0.00031, r_hat=194, n_u=194, n_g=30970, n_l=0\n",
      "# 22, avg_sample=231.2, tau=0.00029, r_hat=182, n_u=182, n_g=30982, n_l=0\n",
      "# 23, avg_sample=236.4, tau=0.00027, r_hat=170, n_u=170, n_g=30994, n_l=0\n",
      "# 24, avg_sample=241.8, tau=0.00026, r_hat=161, n_u=161, n_g=31003, n_l=0\n",
      "# 25, avg_sample=247.4, tau=0.00025, r_hat=153, n_u=153, n_g=31011, n_l=0\n",
      "# 26, avg_sample=253.3, tau=0.00024, r_hat=149, n_u=149, n_g=31015, n_l=0\n",
      "# 27, avg_sample=259.5, tau=0.00023, r_hat=141, n_u=141, n_g=31023, n_l=0\n",
      "# 28, avg_sample=266.1, tau=0.00021, r_hat=133, n_u=133, n_g=31031, n_l=0\n",
      "# 29, avg_sample=272.8, tau=0.00021, r_hat=129, n_u=129, n_g=31035, n_l=0\n",
      "# 30, avg_sample=280.1, tau=0.00020, r_hat=123, n_u=123, n_g=31041, n_l=0\n",
      "# 31, avg_sample=287.6, tau=0.00019, r_hat=121, n_u=121, n_g=31043, n_l=0\n",
      "# 32, avg_sample=295.8, tau=0.00018, r_hat=113, n_u=113, n_g=31051, n_l=0\n",
      "# 33, avg_sample=304.3, tau=0.00017, r_hat=108, n_u=108, n_g=31056, n_l=0\n",
      "# 34, avg_sample=313.1, tau=0.00017, r_hat=105, n_u=105, n_g=31059, n_l=0\n",
      "# 35, avg_sample=322.6, tau=0.00016, r_hat=100, n_u=100, n_g=31064, n_l=0\n",
      "# 36, avg_sample=332.5, tau=0.00015, r_hat=96, n_u=96, n_g=31068, n_l=0\n",
      "# 37, avg_sample=343.0, tau=0.00014, r_hat=89, n_u=89, n_g=31075, n_l=0\n",
      "# 38, avg_sample=353.7, tau=0.00014, r_hat=88, n_u=88, n_g=31076, n_l=0\n",
      "# 39, avg_sample=365.3, tau=0.00013, r_hat=82, n_u=82, n_g=31082, n_l=0\n",
      "# 40, avg_sample=377.2, tau=0.00013, r_hat=78, n_u=78, n_g=31086, n_l=0\n",
      "# 41, avg_sample=389.7, tau=0.00012, r_hat=74, n_u=74, n_g=31090, n_l=0\n",
      "# 42, avg_sample=402.7, tau=0.00011, r_hat=68, n_u=68, n_g=31096, n_l=0\n",
      "# 43, avg_sample=415.8, tau=0.00010, r_hat=62, n_u=62, n_g=31102, n_l=0\n",
      "# 44, avg_sample=429.0, tau=0.00010, r_hat=61, n_u=61, n_g=31103, n_l=0\n",
      "# 45, avg_sample=443.3, tau=0.00009, r_hat=54, n_u=54, n_g=31110, n_l=0\n",
      "# 46, avg_sample=457.2, tau=0.00008, r_hat=52, n_u=52, n_g=31112, n_l=0\n",
      "# 47, avg_sample=471.9, tau=0.00008, r_hat=50, n_u=50, n_g=31114, n_l=0\n",
      "# 48, avg_sample=487.4, tau=0.00008, r_hat=50, n_u=50, n_g=31114, n_l=0\n",
      "# 49, avg_sample=504.6, tau=0.00008, r_hat=48, n_u=48, n_g=31116, n_l=0\n",
      "# 50, avg_sample=522.6, tau=0.00008, r_hat=48, n_u=48, n_g=31116, n_l=0\n",
      "# 51, avg_sample=542.5, tau=0.00007, r_hat=46, n_u=46, n_g=31118, n_l=0\n",
      "# 52, avg_sample=563.5, tau=0.00007, r_hat=44, n_u=44, n_g=31120, n_l=0\n",
      "# 53, avg_sample=585.6, tau=0.00007, r_hat=43, n_u=43, n_g=31121, n_l=0\n",
      "# 54, avg_sample=609.3, tau=0.00006, r_hat=40, n_u=40, n_g=31124, n_l=0\n",
      "# 55, avg_sample=633.5, tau=0.00006, r_hat=39, n_u=39, n_g=31125, n_l=0\n",
      "# 56, avg_sample=659.6, tau=0.00006, r_hat=39, n_u=39, n_g=31125, n_l=0\n",
      "# 57, avg_sample=687.4, tau=0.00002, r_hat=10, n_u=0, n_g=31154, n_l=10\n",
      "# AMT: avg. MC samples = 687.4, time=128.19s\n",
      "# D_AMT=10, D_overlap=10, D_fMC=25\n",
      "\n"
     ]
    }
   ],
   "source": [
    "start_time = time.time()\n",
    "p_hat_ub, p_hat_lb, p_hat, tau_hat, n_amt = md.amt(md.f_sample_chi2, temp_data, n_hypothesis,\n",
    "                                         alpha=0.1, n_fMC=n_fMC,\n",
    "                                         verbose=True, delta=0.001,\n",
    "                                         random_state=0)\n",
    "h_amt = (p_hat_ub <= tau_hat)\n",
    "print('# AMT: avg. MC samples = %0.1f, time=%0.2fs'%(np.mean(n_amt),\n",
    "                                                     time.time()-start_time))\n",
    "print('# D_AMT=%d, D_overlap=%d, D_fMC=%d'%(md.result_compare(h_amt, h_fmc)))\n",
    "print('')"
   ]
  },
  {
   "cell_type": "code",
   "execution_count": null,
   "metadata": {},
   "outputs": [],
   "source": []
  }
 ],
 "metadata": {
  "kernelspec": {
   "display_name": "Python 3",
   "language": "python",
   "name": "python3"
  },
  "language_info": {
   "codemirror_mode": {
    "name": "ipython",
    "version": 3
   },
   "file_extension": ".py",
   "mimetype": "text/x-python",
   "name": "python",
   "nbconvert_exporter": "python",
   "pygments_lexer": "ipython3",
   "version": "3.6.3"
  }
 },
 "nbformat": 4,
 "nbformat_minor": 2
}
