{
 "cells": [
  {
   "cell_type": "code",
   "execution_count": 1,
   "metadata": {},
   "outputs": [],
   "source": [
    "import numpy as np\n",
    "import scipy as sp\n",
    "import pandas as pd\n",
    "from scipy import stats\n",
    "import matplotlib.pyplot as plt\n",
    "import time\n",
    "import amt.method as md\n",
    "import amt.data_loader as dl\n",
    "import pickle\n",
    "\n",
    "%matplotlib inline\n",
    "%load_ext autoreload\n",
    "%autoreload 2"
   ]
  },
  {
   "cell_type": "markdown",
   "metadata": {},
   "source": [
    "# Load the data "
   ]
  },
  {
   "cell_type": "code",
   "execution_count": 9,
   "metadata": {},
   "outputs": [
    {
     "name": "stderr",
     "output_type": "stream",
     "text": [
      "/home/martin/anaconda3/lib/python3.6/site-packages/IPython/core/interactiveshell.py:2698: DtypeWarning: Columns (0) have mixed types. Specify dtype option on import or set low_memory=False.\n",
      "  interactivity=interactivity, compiler=compiler, result=result)\n"
     ]
    }
   ],
   "source": [
    "output_folder = '/home/martin/adapative_MC_test/results/GWAS'\n",
    "output_file = output_folder + '/small_GWAS.pickle'\n",
    "with open('/home/martin/adapative_MC_test/parkinsons/parkinsons.pickle', 'rb') as f:\n",
    "    X = pickle.load(f)\n",
    "    y = pickle.load(f)\n",
    "    miss_prop = pickle.load(f)\n",
    "y = y-1\n",
    "file_map = '/home/martin/adapative_MC_test/parkinsons/parkinsons.map'\n",
    "df_map = pd.read_csv(file_map, delimiter='\\t', \n",
    "                     names=['chromosome', 'snp', 'start', 'end'])\n",
    "n_sample, n_snp = X.shape\n",
    "ind_small = np.array(df_map['chromosome']==4, dtype=bool)\n",
    "ind_snp = np.array(miss_prop[ind_small]<0.05, dtype=bool)\n",
    "n_hypothesis = np.sum(ind_snp)"
   ]
  },
  {
   "cell_type": "code",
   "execution_count": 11,
   "metadata": {},
   "outputs": [],
   "source": [
    "# Compute the expected observations\n",
    "Exp = np.zeros([8, n_snp], dtype=float)\n",
    "for iy in range(2):\n",
    "    for ix in range(4):\n",
    "        Exp[iy*4+ix,:] = np.mean(y==iy) * np.mean(X==ix,axis=0)\n",
    "Exp = Exp*n_sample\n",
    "r_Exp = 1/Exp.clip(min=1e-6)*(Exp>0)\n",
    "chi2_obs = md.compute_chi2(y, X, Exp, r_Exp)\n",
    "data_gwas = {'X':X, 'y':y, 'Exp':Exp, 'r_Exp':r_Exp, 'chi2_obs':chi2_obs}"
   ]
  },
  {
   "cell_type": "markdown",
   "metadata": {},
   "source": [
    "# fMC MC sample generation"
   ]
  },
  {
   "cell_type": "code",
   "execution_count": 5,
   "metadata": {},
   "outputs": [],
   "source": [
    "# alpha = 0.05\n",
    "# ind_small = np.zeros([n_snp], dtype=bool)\n",
    "# ind_small[0:100] = True\n",
    "# n_hypothesis = np.sum(ind_small)\n",
    "# n_fMC = int(2.5e5)\n",
    "n_fMC = int(5e5)\n",
    "data_gwas_small = {'X':X[:,ind_small], 'y':y, 'Exp':Exp[:,ind_small],\n",
    "                   'r_Exp':r_Exp[:,ind_small], 'chi2_obs':chi2_obs[ind_small]}"
   ]
  },
  {
   "cell_type": "code",
   "execution_count": 6,
   "metadata": {},
   "outputs": [
    {
     "name": "stdout",
     "output_type": "stream",
     "text": [
      "# Time=7.5s\n"
     ]
    }
   ],
   "source": [
    "start_time = time.time()\n",
    "B = md.permute_chi2_batch_ncore(data_gwas_small['y'],\n",
    "                                data_gwas_small['X'],\n",
    "                                data_gwas_small['Exp'],\n",
    "                                data_gwas_small['r_Exp'],\n",
    "                                data_gwas_small['chi2_obs'], n_fMC,\n",
    "                                verbose=True)\n",
    "p_fmc = (np.sum(B, axis=0)+1)/(n_fMC+1)\n",
    "print('# Time=%0.1fs'%(time.time()-start_time))\n",
    "time_fMC = time.time()-start_time\n",
    "res_fMC = {'time':time.time()-start_time,\n",
    "           'p_fmc': p_fmc,\n",
    "           'B1':B[0:100000,:],\n",
    "           'B2':B[100000:,:]}\n",
    "with open(output_file, \"wb\") as f:\n",
    "    pickle.dump(res_fMC, f)    "
   ]
  },
  {
   "cell_type": "markdown",
   "metadata": {},
   "source": [
    "# Result analysis"
   ]
  },
  {
   "cell_type": "code",
   "execution_count": 9,
   "metadata": {},
   "outputs": [],
   "source": [
    "with open(output_file, 'rb')as f:\n",
    "    res_dic = pickle.load(f)\n",
    "B = np.concatenate([res_dic['B1'], res_dic['B2']], axis=0)\n",
    "p_fmc = res_dic['p_fmc']"
   ]
  },
  {
   "cell_type": "code",
   "execution_count": 34,
   "metadata": {},
   "outputs": [
    {
     "data": {
      "text/plain": [
       "(23915,)"
      ]
     },
     "execution_count": 34,
     "metadata": {},
     "output_type": "execute_result"
    }
   ],
   "source": [
    "h_amt.shape"
   ]
  },
  {
   "cell_type": "code",
   "execution_count": null,
   "metadata": {},
   "outputs": [],
   "source": []
  },
  {
   "cell_type": "code",
   "execution_count": 32,
   "metadata": {},
   "outputs": [
    {
     "name": "stdout",
     "output_type": "stream",
     "text": [
      "47\n",
      "###\n",
      "       chromosome        snp  start       end\n",
      "100847          4  rs2242330      0  68276015\n",
      "decision [ True]\n",
      "miss_prop=0.0000, p_fmc= [7.999968e-06]\n",
      "\n",
      "###\n",
      "       chromosome        snp  start       end\n",
      "100837          4  rs6826751      0  68262621\n",
      "decision [ True]\n",
      "miss_prop=0.0019, p_fmc= [1.5999936e-05]\n",
      "\n",
      "###\n",
      "       chromosome        snp  start        end\n",
      "115749          4  rs4862792      0  188576499\n",
      "decision [ True]\n",
      "miss_prop=0.0483, p_fmc= [3.999984e-06]\n",
      "\n",
      "###\n",
      "       chromosome        snp  start       end\n",
      "100842          4  rs3775866      0  68272946\n",
      "decision [ True]\n",
      "miss_prop=0.0000, p_fmc= [3.5999856e-05]\n",
      "\n",
      "###\n",
      "       chromosome       snp  start       end\n",
      "100830          4  rs355477      0  68225291\n",
      "decision [ True]\n",
      "miss_prop=0.0074, p_fmc= [7.999968e-05]\n",
      "\n",
      "###\n",
      "       chromosome       snp  start       end\n",
      "100828          4  rs355461      0  68209490\n",
      "decision [ True]\n",
      "miss_prop=0.0000, p_fmc= [7.999968e-05]\n",
      "\n",
      "###\n",
      "       chromosome       snp  start       end\n",
      "100829          4  rs355506      0  68214848\n",
      "decision [ True]\n",
      "miss_prop=0.0000, p_fmc= [7.999968e-05]\n",
      "\n",
      "###\n",
      "       chromosome       snp  start       end\n",
      "100825          4  rs355464      0  68207890\n",
      "decision [ True]\n",
      "miss_prop=0.0112, p_fmc= [0.000132]\n",
      "\n",
      "###\n",
      "       chromosome        snp  start       end\n",
      "100821          4  rs1497430      0  68186580\n",
      "decision [ True]\n",
      "miss_prop=0.0037, p_fmc= [5.1999792e-05]\n",
      "\n",
      "###\n",
      "       chromosome         snp  start       end\n",
      "100819          4  rs11946612      0  68164737\n",
      "decision [ True]\n",
      "miss_prop=0.0037, p_fmc= [4.7999808e-05]\n",
      "\n"
     ]
    }
   ],
   "source": [
    "snp_list = ['rs10501570', 'rs281357', 'rs2242330', 'rs1480597', 'rs6826751', 'rs4888984',\n",
    "            'rs4862792', 'rs3775866', 'rs2235617', 'rs988421', 'rs7097094', 'rs999473',\n",
    "            'rs1912373', 'rs1887279', 'rs2986574', 'rs11090762', 'rs6125829', 'rs7796855',\n",
    "            'rs355477', 'rs3010040', 'rs2296713', 'rs355461', 'rs355506', 'rs355464',\n",
    "            'rs1497430', 'rs11946612']\n",
    "tau_fmc = md.bh(p_fmc[ind_snp], alpha=0.1)\n",
    "h_fmc = (p_fmc[ind_snp] <= tau_fmc)\n",
    "print(np.sum(h_fmc))\n",
    "df_map_c4 = df_map.loc[ind_small]\n",
    "for snp in snp_list:\n",
    "    temp = df_map_c4['snp']==snp\n",
    "    if np.sum(temp)>0:\n",
    "        print('###')\n",
    "        print(df_map_c4.loc[temp])\n",
    "        print('decision', h_fmc[temp[ind_snp]])\n",
    "        print('miss_prop=%0.4f, p_fmc='%(miss_prop[ind_small][temp]),\n",
    "                                        p_fmc[temp])\n",
    "        print('')"
   ]
  },
  {
   "cell_type": "code",
   "execution_count": 27,
   "metadata": {},
   "outputs": [
    {
     "data": {
      "text/plain": [
       "23915"
      ]
     },
     "execution_count": 27,
     "metadata": {},
     "output_type": "execute_result"
    }
   ],
   "source": [
    "np.sum(ind_snp)"
   ]
  },
  {
   "cell_type": "code",
   "execution_count": null,
   "metadata": {},
   "outputs": [],
   "source": []
  },
  {
   "cell_type": "code",
   "execution_count": null,
   "metadata": {},
   "outputs": [],
   "source": []
  },
  {
   "cell_type": "markdown",
   "metadata": {},
   "source": [
    "# Corresponding AMT result"
   ]
  },
  {
   "cell_type": "code",
   "execution_count": 15,
   "metadata": {},
   "outputs": [],
   "source": [
    "temp_B = B[:,ind_snp]"
   ]
  },
  {
   "cell_type": "code",
   "execution_count": 28,
   "metadata": {},
   "outputs": [
    {
     "name": "stdout",
     "output_type": "stream",
     "text": [
      "# Initialization parameters\n",
      "# n_hypothesis=23915, n_fMC=250000, alpha=0.05, increment=1.10\n",
      "# delta 0.001\n",
      "# delta_CI 3.3642314968430376e-09\n",
      "# r_hat=23915, tau_hat=0.0500\n",
      "# batch_size [  100   111   122   134   147   162   178   195   215   236   260   286\n",
      "   314   346   380   418   460   506   556   612   673   741   815   896\n",
      "   985  1084  1192  1311  1443  1587  1745  1920  2112  2323  2555  2811\n",
      "  3092  3401  3741  4115  4526  4979  5477  6025  6627  7290  8018  8820\n",
      "  9702 10672 11740 12913 14205 15625 17188 18906 20797 22210]\n",
      "# sum of batch size = 250000\n",
      "# Initialization completed: time=-0.006s\n",
      "# 0, avg_sample=100.0, tau=0.00706, r_hat=3379, n_u=3379, n_g=20536, n_l=0\n",
      "# 1, avg_sample=115.7, tau=0.00468, r_hat=2240, n_u=2240, n_g=21675, n_l=0\n",
      "# 2, avg_sample=127.1, tau=0.00346, r_hat=1656, n_u=1656, n_g=22259, n_l=0\n",
      "# 3, avg_sample=136.4, tau=0.00273, r_hat=1307, n_u=1307, n_g=22608, n_l=0\n",
      "# 4, avg_sample=144.4, tau=0.00230, r_hat=1101, n_u=1101, n_g=22814, n_l=0\n",
      "# 5, avg_sample=151.9, tau=0.00198, r_hat=949, n_u=949, n_g=22966, n_l=0\n",
      "# 6, avg_sample=158.9, tau=0.00167, r_hat=801, n_u=801, n_g=23114, n_l=0\n",
      "# 7, avg_sample=165.5, tau=0.00144, r_hat=688, n_u=688, n_g=23227, n_l=0\n",
      "# 8, avg_sample=171.7, tau=0.00131, r_hat=626, n_u=626, n_g=23289, n_l=0\n",
      "# 9, avg_sample=177.8, tau=0.00116, r_hat=553, n_u=553, n_g=23362, n_l=0\n",
      "# 10, avg_sample=183.9, tau=0.00104, r_hat=497, n_u=497, n_g=23418, n_l=0\n",
      "# 11, avg_sample=189.8, tau=0.00092, r_hat=442, n_u=442, n_g=23473, n_l=0\n",
      "# 12, avg_sample=195.6, tau=0.00084, r_hat=404, n_u=404, n_g=23511, n_l=0\n",
      "# 13, avg_sample=201.4, tau=0.00079, r_hat=379, n_u=379, n_g=23536, n_l=0\n",
      "# 14, avg_sample=207.5, tau=0.00072, r_hat=345, n_u=345, n_g=23570, n_l=0\n",
      "# 15, avg_sample=213.5, tau=0.00065, r_hat=313, n_u=313, n_g=23602, n_l=0\n",
      "# 16, avg_sample=219.5, tau=0.00062, r_hat=295, n_u=295, n_g=23620, n_l=0\n",
      "# 17, avg_sample=225.8, tau=0.00057, r_hat=274, n_u=274, n_g=23641, n_l=0\n",
      "# 18, avg_sample=232.1, tau=0.00052, r_hat=251, n_u=251, n_g=23664, n_l=0\n",
      "# 19, avg_sample=238.6, tau=0.00049, r_hat=232, n_u=232, n_g=23683, n_l=0\n",
      "# 20, avg_sample=245.1, tau=0.00047, r_hat=226, n_u=226, n_g=23689, n_l=0\n",
      "# 21, avg_sample=252.1, tau=0.00045, r_hat=213, n_u=213, n_g=23702, n_l=0\n",
      "# 22, avg_sample=259.3, tau=0.00042, r_hat=201, n_u=201, n_g=23714, n_l=0\n",
      "# 23, avg_sample=266.9, tau=0.00040, r_hat=193, n_u=193, n_g=23722, n_l=0\n",
      "# 24, avg_sample=274.8, tau=0.00038, r_hat=183, n_u=183, n_g=23732, n_l=0\n",
      "# 25, avg_sample=283.1, tau=0.00037, r_hat=178, n_u=178, n_g=23737, n_l=0\n",
      "# 26, avg_sample=292.0, tau=0.00035, r_hat=166, n_u=166, n_g=23749, n_l=0\n",
      "# 27, avg_sample=301.1, tau=0.00032, r_hat=151, n_u=151, n_g=23764, n_l=0\n",
      "# 28, avg_sample=310.2, tau=0.00030, r_hat=144, n_u=144, n_g=23771, n_l=0\n",
      "# 29, avg_sample=319.8, tau=0.00029, r_hat=138, n_u=138, n_g=23777, n_l=0\n",
      "# 30, avg_sample=329.8, tau=0.00026, r_hat=126, n_u=126, n_g=23789, n_l=0\n",
      "# 31, avg_sample=339.9, tau=0.00024, r_hat=114, n_u=114, n_g=23801, n_l=0\n",
      "# 32, avg_sample=350.0, tau=0.00024, r_hat=114, n_u=114, n_g=23801, n_l=0\n",
      "# 33, avg_sample=361.1, tau=0.00023, r_hat=112, n_u=112, n_g=23803, n_l=0\n",
      "# 34, avg_sample=373.0, tau=0.00022, r_hat=105, n_u=105, n_g=23810, n_l=0\n",
      "# 35, avg_sample=385.4, tau=0.00021, r_hat=102, n_u=102, n_g=23813, n_l=0\n",
      "# 36, avg_sample=398.6, tau=0.00021, r_hat=101, n_u=101, n_g=23814, n_l=0\n",
      "# 37, avg_sample=412.9, tau=0.00019, r_hat=92, n_u=92, n_g=23823, n_l=0\n",
      "# 38, avg_sample=427.3, tau=0.00019, r_hat=91, n_u=91, n_g=23824, n_l=0\n",
      "# 39, avg_sample=443.0, tau=0.00018, r_hat=87, n_u=87, n_g=23828, n_l=0\n",
      "# 40, avg_sample=459.5, tau=0.00018, r_hat=85, n_u=85, n_g=23830, n_l=0\n",
      "# 41, avg_sample=477.2, tau=0.00017, r_hat=79, n_u=79, n_g=23836, n_l=0\n",
      "# 42, avg_sample=495.2, tau=0.00016, r_hat=78, n_u=78, n_g=23837, n_l=0\n",
      "# 43, avg_sample=514.9, tau=0.00016, r_hat=76, n_u=76, n_g=23839, n_l=0\n",
      "# 44, avg_sample=536.0, tau=0.00015, r_hat=71, n_u=71, n_g=23844, n_l=0\n",
      "# 45, avg_sample=557.6, tau=0.00014, r_hat=68, n_u=68, n_g=23847, n_l=0\n",
      "# 46, avg_sample=580.4, tau=0.00014, r_hat=66, n_u=66, n_g=23849, n_l=0\n",
      "# 47, avg_sample=604.7, tau=0.00014, r_hat=65, n_u=65, n_g=23850, n_l=0\n",
      "# 48, avg_sample=631.1, tau=0.00013, r_hat=64, n_u=64, n_g=23851, n_l=0\n",
      "# 49, avg_sample=659.7, tau=0.00013, r_hat=64, n_u=64, n_g=23851, n_l=0\n",
      "# 50, avg_sample=691.1, tau=0.00012, r_hat=56, n_u=56, n_g=23859, n_l=0\n",
      "# 51, avg_sample=721.3, tau=0.00012, r_hat=56, n_u=56, n_g=23859, n_l=0\n",
      "# 52, avg_sample=754.6, tau=0.00011, r_hat=55, n_u=55, n_g=23860, n_l=0\n",
      "# 53, avg_sample=790.5, tau=0.00011, r_hat=54, n_u=54, n_g=23861, n_l=0\n",
      "# 54, avg_sample=829.3, tau=0.00011, r_hat=53, n_u=53, n_g=23862, n_l=0\n",
      "# 55, avg_sample=871.2, tau=0.00011, r_hat=52, n_u=52, n_g=23863, n_l=0\n",
      "# 56, avg_sample=916.4, tau=0.00010, r_hat=50, n_u=50, n_g=23865, n_l=0\n",
      "# 57, avg_sample=962.9, tau=0.00005, r_hat=25, n_u=0, n_g=23890, n_l=25\n",
      "# AMT: avg. MC samples = 962.9, time=0.88s\n",
      "# D_AMT=25, D_overlap=25, D_fMC=25\n",
      "\n"
     ]
    }
   ],
   "source": [
    "start_time = time.time()\n",
    "p_hat_ub, p_hat, tau_hat, n_amt = md.amt(md.f_sample_dummy, temp_B, n_hypothesis,\n",
    "                                         alpha=0.05, n_fMC=n_fMC,\n",
    "                                         verbose=True, delta=0.001)\n",
    "h_amt = (p_hat_ub <= tau_hat)\n",
    "print('# AMT: avg. MC samples = %0.1f, time=%0.2fs'%(np.mean(n_amt),\n",
    "                                                     time.time()-start_time))\n",
    "print('# D_AMT=%d, D_overlap=%d, D_fMC=%d'%(md.result_compare(h_amt, h_fmc)))\n",
    "print('')"
   ]
  },
  {
   "cell_type": "markdown",
   "metadata": {},
   "source": [
    "# Directly run AMT "
   ]
  },
  {
   "cell_type": "code",
   "execution_count": 20,
   "metadata": {},
   "outputs": [],
   "source": [
    "temp_data = {'X':X[:,ind_small][:, ind_snp], 'y':y, \n",
    "             'Exp':Exp[:,ind_small][:, ind_snp],\n",
    "             'r_Exp':r_Exp[:,ind_small][:, ind_snp],\n",
    "             'chi2_obs':chi2_obs[ind_small][ind_snp]}"
   ]
  },
  {
   "cell_type": "code",
   "execution_count": 25,
   "metadata": {},
   "outputs": [
    {
     "name": "stdout",
     "output_type": "stream",
     "text": [
      "# Initialization parameters\n",
      "# n_hypothesis=23915, n_fMC=250000, alpha=0.05, increment=1.10\n",
      "# delta 0.001\n",
      "# delta_CI 3.3642314968430376e-09\n",
      "# r_hat=23915, tau_hat=0.0500\n",
      "# batch_size [  100   111   122   134   147   162   178   195   215   236   260   286\n",
      "   314   346   380   418   460   506   556   612   673   741   815   896\n",
      "   985  1084  1192  1311  1443  1587  1745  1920  2112  2323  2555  2811\n",
      "  3092  3401  3741  4115  4526  4979  5477  6025  6627  7290  8018  8820\n",
      "  9702 10672 11740 12913 14205 15625 17188 18906 20797 22210]\n",
      "# sum of batch size = 250000\n",
      "# Initialization completed: time=-0.006s\n",
      "# 0, avg_sample=100.0, tau=0.00719, r_hat=3438, n_u=3438, n_g=20477, n_l=0\n",
      "# 1, avg_sample=116.0, tau=0.00463, r_hat=2216, n_u=2216, n_g=21699, n_l=0\n",
      "# 2, avg_sample=127.3, tau=0.00340, r_hat=1628, n_u=1628, n_g=22287, n_l=0\n",
      "# 3, avg_sample=136.4, tau=0.00266, r_hat=1271, n_u=1271, n_g=22644, n_l=0\n",
      "# 4, avg_sample=144.2, tau=0.00229, r_hat=1096, n_u=1096, n_g=22819, n_l=0\n",
      "# 5, avg_sample=151.6, tau=0.00186, r_hat=888, n_u=888, n_g=23027, n_l=0\n",
      "# 6, avg_sample=158.2, tau=0.00166, r_hat=792, n_u=792, n_g=23123, n_l=0\n",
      "# 7, avg_sample=164.7, tau=0.00146, r_hat=697, n_u=697, n_g=23218, n_l=0\n",
      "# 8, avg_sample=171.0, tau=0.00132, r_hat=630, n_u=630, n_g=23285, n_l=0\n",
      "# 9, avg_sample=177.2, tau=0.00117, r_hat=560, n_u=560, n_g=23355, n_l=0\n",
      "# 10, avg_sample=183.3, tau=0.00103, r_hat=494, n_u=494, n_g=23421, n_l=0\n",
      "# 11, avg_sample=189.2, tau=0.00092, r_hat=442, n_u=442, n_g=23473, n_l=0\n",
      "# 12, avg_sample=195.0, tau=0.00085, r_hat=406, n_u=406, n_g=23509, n_l=0\n",
      "# 13, avg_sample=200.8, tau=0.00077, r_hat=366, n_u=366, n_g=23549, n_l=0\n",
      "# 14, avg_sample=206.7, tau=0.00070, r_hat=335, n_u=335, n_g=23580, n_l=0\n",
      "# 15, avg_sample=212.5, tau=0.00064, r_hat=306, n_u=306, n_g=23609, n_l=0\n",
      "# 16, avg_sample=218.4, tau=0.00058, r_hat=279, n_u=279, n_g=23636, n_l=0\n",
      "# 17, avg_sample=224.3, tau=0.00056, r_hat=268, n_u=268, n_g=23647, n_l=0\n",
      "# 18, avg_sample=230.5, tau=0.00053, r_hat=253, n_u=253, n_g=23662, n_l=0\n",
      "# 19, avg_sample=237.0, tau=0.00049, r_hat=234, n_u=234, n_g=23681, n_l=0\n",
      "# 20, avg_sample=243.6, tau=0.00047, r_hat=226, n_u=226, n_g=23689, n_l=0\n",
      "# 21, avg_sample=250.6, tau=0.00045, r_hat=214, n_u=214, n_g=23701, n_l=0\n",
      "# 22, avg_sample=257.9, tau=0.00044, r_hat=210, n_u=210, n_g=23705, n_l=0\n",
      "# 23, avg_sample=265.8, tau=0.00041, r_hat=196, n_u=196, n_g=23719, n_l=0\n",
      "# 24, avg_sample=273.8, tau=0.00037, r_hat=178, n_u=178, n_g=23737, n_l=0\n",
      "# 25, avg_sample=281.9, tau=0.00034, r_hat=164, n_u=164, n_g=23751, n_l=0\n",
      "# 26, avg_sample=290.1, tau=0.00033, r_hat=160, n_u=160, n_g=23755, n_l=0\n",
      "# 27, avg_sample=298.8, tau=0.00031, r_hat=147, n_u=147, n_g=23768, n_l=0\n",
      "# 28, avg_sample=307.7, tau=0.00029, r_hat=137, n_u=137, n_g=23778, n_l=0\n",
      "# 29, avg_sample=316.8, tau=0.00028, r_hat=133, n_u=133, n_g=23782, n_l=0\n",
      "# 30, avg_sample=326.5, tau=0.00027, r_hat=128, n_u=128, n_g=23787, n_l=0\n",
      "# 31, avg_sample=336.8, tau=0.00026, r_hat=126, n_u=126, n_g=23789, n_l=0\n",
      "# 32, avg_sample=347.9, tau=0.00024, r_hat=115, n_u=115, n_g=23800, n_l=0\n",
      "# 33, avg_sample=359.1, tau=0.00023, r_hat=111, n_u=111, n_g=23804, n_l=0\n",
      "# 34, avg_sample=370.9, tau=0.00022, r_hat=103, n_u=103, n_g=23812, n_l=0\n",
      "# 35, avg_sample=383.1, tau=0.00021, r_hat=100, n_u=100, n_g=23815, n_l=0\n",
      "# 36, avg_sample=396.0, tau=0.00020, r_hat=98, n_u=98, n_g=23817, n_l=0\n",
      "# 37, avg_sample=409.9, tau=0.00019, r_hat=91, n_u=91, n_g=23824, n_l=0\n",
      "# 38, avg_sample=424.2, tau=0.00019, r_hat=89, n_u=89, n_g=23826, n_l=0\n",
      "# 39, avg_sample=439.5, tau=0.00018, r_hat=88, n_u=88, n_g=23827, n_l=0\n",
      "# 40, avg_sample=456.1, tau=0.00017, r_hat=82, n_u=82, n_g=23833, n_l=0\n",
      "# 41, avg_sample=473.2, tau=0.00016, r_hat=78, n_u=78, n_g=23837, n_l=0\n",
      "# 42, avg_sample=491.1, tau=0.00016, r_hat=77, n_u=77, n_g=23838, n_l=0\n",
      "# 43, avg_sample=510.5, tau=0.00016, r_hat=76, n_u=76, n_g=23839, n_l=0\n",
      "# 44, avg_sample=531.5, tau=0.00015, r_hat=74, n_u=74, n_g=23841, n_l=0\n",
      "# 45, avg_sample=554.1, tau=0.00014, r_hat=68, n_u=68, n_g=23847, n_l=0\n",
      "# 46, avg_sample=576.9, tau=0.00013, r_hat=60, n_u=60, n_g=23855, n_l=0\n",
      "# 47, avg_sample=599.0, tau=0.00013, r_hat=60, n_u=60, n_g=23855, n_l=0\n",
      "# 48, avg_sample=623.3, tau=0.00012, r_hat=59, n_u=59, n_g=23856, n_l=0\n",
      "# 49, avg_sample=649.7, tau=0.00012, r_hat=58, n_u=58, n_g=23857, n_l=0\n",
      "# 50, avg_sample=678.1, tau=0.00012, r_hat=58, n_u=58, n_g=23857, n_l=0\n",
      "# 51, avg_sample=709.5, tau=0.00012, r_hat=58, n_u=58, n_g=23857, n_l=0\n",
      "# 52, avg_sample=743.9, tau=0.00011, r_hat=54, n_u=54, n_g=23861, n_l=0\n",
      "# 53, avg_sample=779.2, tau=0.00011, r_hat=53, n_u=53, n_g=23862, n_l=0\n",
      "# 54, avg_sample=817.3, tau=0.00011, r_hat=51, n_u=51, n_g=23864, n_l=0\n",
      "# 55, avg_sample=857.6, tau=0.00010, r_hat=47, n_u=47, n_g=23868, n_l=0\n",
      "# 56, avg_sample=898.5, tau=0.00010, r_hat=46, n_u=46, n_g=23869, n_l=0\n",
      "# 57, avg_sample=941.2, tau=0.00004, r_hat=18, n_u=0, n_g=23897, n_l=18\n",
      "# AMT: avg. MC samples = 941.2, time=76.89s\n",
      "# D_AMT=18, D_overlap=18, D_fMC=25\n",
      "\n"
     ]
    }
   ],
   "source": [
    "start_time = time.time()\n",
    "p_hat_ub, p_hat, tau_hat, n_amt = md.amt(md.f_sample_chi2, temp_data, n_hypothesis,\n",
    "                                         alpha=0.05, n_fMC=n_fMC,\n",
    "                                         verbose=True, delta=0.001,\n",
    "                                         random_state=0)\n",
    "h_amt = (p_hat_ub <= tau_hat)\n",
    "print('# AMT: avg. MC samples = %0.1f, time=%0.2fs'%(np.mean(n_amt),\n",
    "                                                     time.time()-start_time))\n",
    "print('# D_AMT=%d, D_overlap=%d, D_fMC=%d'%(md.result_compare(h_amt, h_fmc)))\n",
    "print('')"
   ]
  },
  {
   "cell_type": "code",
   "execution_count": null,
   "metadata": {},
   "outputs": [],
   "source": []
  },
  {
   "cell_type": "markdown",
   "metadata": {},
   "source": [
    "# Old code"
   ]
  },
  {
   "cell_type": "code",
   "execution_count": null,
   "metadata": {},
   "outputs": [],
   "source": [
    "permute_chi2_batch_ncore(y, X, Exp, r_Exp, chi2_obs, n_permute, random_state=0,\n",
    "                             verbose=False, n_core=32)"
   ]
  },
  {
   "cell_type": "code",
   "execution_count": null,
   "metadata": {},
   "outputs": [],
   "source": [
    "f_sample_chi2(data, ind_sample, n_new_sample, sample_start=None, n_core=32,\n",
    "        random_state=None):"
   ]
  },
  {
   "cell_type": "code",
   "execution_count": 7,
   "metadata": {
    "collapsed": true
   },
   "outputs": [
    {
     "name": "stdout",
     "output_type": "stream",
     "text": [
      "0/241930, time=0.2s\n",
      "1000/241930, time=143.0s\n",
      "2000/241930, time=286.5s\n",
      "3000/241930, time=430.7s\n",
      "4000/241930, time=581.5s\n",
      "5000/241930, time=728.4s\n",
      "6000/241930, time=865.7s\n",
      "7000/241930, time=1003.0s\n",
      "8000/241930, time=1140.0s\n",
      "9000/241930, time=1277.5s\n",
      "10000/241930, time=1417.8s\n",
      "11000/241930, time=1553.7s\n",
      "12000/241930, time=1703.7s\n",
      "13000/241930, time=1841.5s\n",
      "14000/241930, time=1993.8s\n",
      "15000/241930, time=2136.5s\n",
      "16000/241930, time=2277.4s\n",
      "17000/241930, time=2422.3s\n",
      "18000/241930, time=2558.3s\n",
      "19000/241930, time=2694.1s\n",
      "20000/241930, time=2828.3s\n",
      "21000/241930, time=2973.9s\n",
      "22000/241930, time=3109.6s\n",
      "23000/241930, time=3251.7s\n",
      "24000/241930, time=3391.4s\n",
      "25000/241930, time=3532.9s\n",
      "26000/241930, time=3671.8s\n",
      "27000/241930, time=3813.7s\n",
      "28000/241930, time=3950.0s\n",
      "29000/241930, time=4086.3s\n",
      "30000/241930, time=4225.5s\n",
      "31000/241930, time=4378.6s\n",
      "32000/241930, time=4519.0s\n",
      "33000/241930, time=4666.2s\n",
      "34000/241930, time=4814.0s\n",
      "35000/241930, time=4952.4s\n",
      "36000/241930, time=5093.6s\n",
      "37000/241930, time=5227.6s\n",
      "38000/241930, time=5374.6s\n",
      "39000/241930, time=5523.1s\n",
      "40000/241930, time=5655.5s\n",
      "41000/241930, time=5796.6s\n",
      "42000/241930, time=5944.7s\n",
      "43000/241930, time=6077.5s\n",
      "44000/241930, time=6216.5s\n",
      "45000/241930, time=6355.1s\n",
      "46000/241930, time=6498.5s\n",
      "47000/241930, time=6639.7s\n",
      "48000/241930, time=6777.3s\n",
      "49000/241930, time=6915.0s\n",
      "50000/241930, time=7059.7s\n",
      "51000/241930, time=7193.1s\n",
      "52000/241930, time=7333.2s\n",
      "53000/241930, time=7475.0s\n",
      "54000/241930, time=7611.5s\n",
      "55000/241930, time=7766.1s\n",
      "56000/241930, time=7910.9s\n",
      "57000/241930, time=8049.9s\n",
      "58000/241930, time=8193.4s\n",
      "59000/241930, time=8334.3s\n",
      "60000/241930, time=8483.0s\n",
      "61000/241930, time=8615.9s\n",
      "62000/241930, time=8763.3s\n",
      "63000/241930, time=8902.8s\n",
      "64000/241930, time=9061.4s\n",
      "65000/241930, time=9225.3s\n",
      "66000/241930, time=9383.8s\n",
      "67000/241930, time=9557.9s\n",
      "68000/241930, time=9727.5s\n",
      "69000/241930, time=9891.5s\n",
      "70000/241930, time=10063.1s\n",
      "71000/241930, time=10232.0s\n",
      "72000/241930, time=10411.6s\n",
      "73000/241930, time=10583.8s\n",
      "74000/241930, time=10759.8s\n",
      "75000/241930, time=10927.2s\n",
      "76000/241930, time=11100.5s\n",
      "77000/241930, time=11277.7s\n",
      "78000/241930, time=11449.0s\n",
      "79000/241930, time=11619.8s\n",
      "80000/241930, time=11781.2s\n",
      "81000/241930, time=11960.2s\n",
      "82000/241930, time=12122.3s\n",
      "83000/241930, time=12287.6s\n",
      "84000/241930, time=12461.0s\n",
      "85000/241930, time=12627.6s\n",
      "86000/241930, time=12796.0s\n",
      "87000/241930, time=12972.4s\n",
      "88000/241930, time=13149.1s\n",
      "89000/241930, time=13340.3s\n",
      "90000/241930, time=13526.6s\n",
      "91000/241930, time=13705.4s\n",
      "92000/241930, time=13876.2s\n",
      "93000/241930, time=14043.3s\n",
      "94000/241930, time=14211.5s\n",
      "95000/241930, time=14373.0s\n",
      "96000/241930, time=14533.2s\n",
      "97000/241930, time=14690.5s\n",
      "98000/241930, time=14853.7s\n",
      "99000/241930, time=15003.5s\n",
      "100000/241930, time=15137.6s\n",
      "101000/241930, time=15270.0s\n",
      "102000/241930, time=15402.4s\n",
      "103000/241930, time=15535.1s\n",
      "104000/241930, time=15667.6s\n",
      "105000/241930, time=15800.3s\n",
      "106000/241930, time=15933.1s\n",
      "107000/241930, time=16066.3s\n",
      "108000/241930, time=16199.0s\n",
      "109000/241930, time=16331.5s\n",
      "110000/241930, time=16464.5s\n",
      "111000/241930, time=16597.0s\n",
      "112000/241930, time=16730.0s\n",
      "113000/241930, time=16863.4s\n",
      "114000/241930, time=16997.3s\n",
      "115000/241930, time=17130.0s\n",
      "116000/241930, time=17262.9s\n",
      "117000/241930, time=17395.5s\n",
      "118000/241930, time=17530.3s\n",
      "119000/241930, time=17663.3s\n",
      "120000/241930, time=17796.2s\n",
      "121000/241930, time=17929.5s\n",
      "122000/241930, time=18063.1s\n",
      "123000/241930, time=18195.7s\n",
      "124000/241930, time=18328.3s\n",
      "125000/241930, time=18461.2s\n",
      "126000/241930, time=18593.7s\n",
      "127000/241930, time=18726.7s\n",
      "128000/241930, time=18863.1s\n",
      "129000/241930, time=18995.3s\n",
      "130000/241930, time=19127.5s\n",
      "131000/241930, time=19259.5s\n",
      "132000/241930, time=19391.6s\n",
      "133000/241930, time=19523.7s\n",
      "134000/241930, time=19655.6s\n",
      "135000/241930, time=19791.5s\n",
      "136000/241930, time=19928.1s\n",
      "137000/241930, time=20066.2s\n",
      "138000/241930, time=20198.4s\n",
      "139000/241930, time=20330.4s\n",
      "140000/241930, time=20462.4s\n",
      "141000/241930, time=20594.3s\n",
      "142000/241930, time=20726.3s\n",
      "143000/241930, time=20858.4s\n",
      "144000/241930, time=20990.7s\n",
      "145000/241930, time=21123.0s\n",
      "146000/241930, time=21255.4s\n",
      "147000/241930, time=21387.5s\n",
      "148000/241930, time=21519.6s\n",
      "149000/241930, time=21651.8s\n",
      "150000/241930, time=21783.6s\n",
      "151000/241930, time=21915.8s\n",
      "152000/241930, time=22048.1s\n",
      "153000/241930, time=22180.2s\n",
      "154000/241930, time=22312.2s\n",
      "155000/241930, time=22444.3s\n",
      "156000/241930, time=22576.8s\n",
      "157000/241930, time=22712.4s\n",
      "158000/241930, time=22846.0s\n",
      "159000/241930, time=22978.2s\n",
      "160000/241930, time=23110.3s\n",
      "161000/241930, time=23244.0s\n",
      "162000/241930, time=23377.2s\n",
      "163000/241930, time=23509.9s\n",
      "164000/241930, time=23642.3s\n",
      "165000/241930, time=23774.6s\n",
      "166000/241930, time=23906.6s\n",
      "167000/241930, time=24038.6s\n",
      "168000/241930, time=24170.4s\n",
      "169000/241930, time=24302.6s\n",
      "170000/241930, time=24434.7s\n",
      "171000/241930, time=24566.6s\n",
      "172000/241930, time=24699.0s\n",
      "173000/241930, time=24831.5s\n",
      "174000/241930, time=24964.0s\n",
      "175000/241930, time=25096.0s\n",
      "176000/241930, time=25228.6s\n",
      "177000/241930, time=25361.1s\n",
      "178000/241930, time=25493.4s\n",
      "179000/241930, time=25625.9s\n",
      "180000/241930, time=25758.3s\n",
      "181000/241930, time=25891.8s\n",
      "182000/241930, time=26024.0s\n",
      "183000/241930, time=26155.9s\n",
      "184000/241930, time=26287.8s\n",
      "185000/241930, time=26420.5s\n",
      "186000/241930, time=26552.8s\n",
      "187000/241930, time=26685.0s\n",
      "188000/241930, time=26817.1s\n",
      "189000/241930, time=26949.3s\n",
      "190000/241930, time=27081.8s\n",
      "191000/241930, time=27214.1s\n",
      "192000/241930, time=27346.8s\n",
      "193000/241930, time=27479.8s\n",
      "194000/241930, time=27613.1s\n",
      "195000/241930, time=27746.0s\n",
      "196000/241930, time=27880.7s\n",
      "197000/241930, time=28012.5s\n",
      "198000/241930, time=28144.9s\n",
      "199000/241930, time=28278.3s\n",
      "200000/241930, time=28411.6s\n",
      "201000/241930, time=28544.3s\n",
      "202000/241930, time=28677.0s\n",
      "203000/241930, time=28810.7s\n",
      "204000/241930, time=28943.6s\n",
      "205000/241930, time=29079.1s\n",
      "206000/241930, time=29211.4s\n",
      "207000/241930, time=29343.6s\n",
      "208000/241930, time=29489.5s\n",
      "209000/241930, time=29630.1s\n",
      "210000/241930, time=29770.0s\n",
      "211000/241930, time=29912.0s\n",
      "212000/241930, time=30046.1s\n",
      "213000/241930, time=30178.0s\n",
      "214000/241930, time=30310.3s\n",
      "215000/241930, time=30442.7s\n",
      "216000/241930, time=30574.9s\n",
      "217000/241930, time=30707.0s\n",
      "218000/241930, time=30839.0s\n",
      "219000/241930, time=30971.9s\n",
      "220000/241930, time=31104.1s\n",
      "221000/241930, time=31237.1s\n",
      "222000/241930, time=31373.6s\n",
      "223000/241930, time=31509.1s\n",
      "224000/241930, time=31641.5s\n",
      "225000/241930, time=31774.2s\n",
      "226000/241930, time=31906.4s\n",
      "227000/241930, time=32038.7s\n",
      "228000/241930, time=32171.0s\n",
      "229000/241930, time=32303.3s\n",
      "230000/241930, time=32435.4s\n",
      "231000/241930, time=32567.5s\n",
      "232000/241930, time=32699.6s\n",
      "233000/241930, time=32831.8s\n",
      "234000/241930, time=32964.2s\n",
      "235000/241930, time=33097.6s\n",
      "236000/241930, time=33230.8s\n",
      "237000/241930, time=33364.1s\n",
      "238000/241930, time=33497.2s\n",
      "239000/241930, time=33630.3s\n",
      "240000/241930, time=33773.6s\n",
      "241000/241930, time=33905.8s\n",
      "# fMC: avg. MC samples = 241930, time=34037.05s, discoveries=282\n"
     ]
    },
    {
     "ename": "OverflowError",
     "evalue": "cannot serialize a bytes object larger than 4 GiB",
     "output_type": "error",
     "traceback": [
      "\u001b[0;31m---------------------------------------------------------------------------\u001b[0m",
      "\u001b[0;31mOverflowError\u001b[0m                             Traceback (most recent call last)",
      "\u001b[0;32m<ipython-input-7-70d5378b952a>\u001b[0m in \u001b[0;36m<module>\u001b[0;34m()\u001b[0m\n\u001b[1;32m     17\u001b[0m            'B':B}\n\u001b[1;32m     18\u001b[0m \u001b[0;32mwith\u001b[0m \u001b[0mopen\u001b[0m\u001b[0;34m(\u001b[0m\u001b[0moutput_file\u001b[0m\u001b[0;34m,\u001b[0m \u001b[0;34m\"wb\"\u001b[0m\u001b[0;34m)\u001b[0m \u001b[0;32mas\u001b[0m \u001b[0mf\u001b[0m\u001b[0;34m:\u001b[0m\u001b[0;34m\u001b[0m\u001b[0m\n\u001b[0;32m---> 19\u001b[0;31m     \u001b[0mpickle\u001b[0m\u001b[0;34m.\u001b[0m\u001b[0mdump\u001b[0m\u001b[0;34m(\u001b[0m\u001b[0mres_fMC\u001b[0m\u001b[0;34m,\u001b[0m \u001b[0mf\u001b[0m\u001b[0;34m)\u001b[0m\u001b[0;34m\u001b[0m\u001b[0m\n\u001b[0m",
      "\u001b[0;31mOverflowError\u001b[0m: cannot serialize a bytes object larger than 4 GiB"
     ]
    }
   ],
   "source": [
    "start_time = time.time()\n",
    "B = md.permute_chi2_batch(data_gwas_small['y'],\n",
    "                          data_gwas_small['X'],\n",
    "                          data_gwas_small['Exp'],\n",
    "                          data_gwas_small['r_Exp'],\n",
    "                          data_gwas_small['chi2_obs'], n_fMC,\n",
    "                          verbose=True)\n",
    "p_fmc = (np.sum(B, axis=0)+1)/(n_fMC+1)\n",
    "tau_fmc = md.bh(p_fmc, alpha=alpha)\n",
    "h_fmc = (p_fmc <= tau_fmc)\n",
    "print('# fMC: avg. MC samples = %d, time=%0.2fs, discoveries=%d'%(np.mean(n_fMC),\n",
    "                                                                  time.time()-start_time,\n",
    "                                                                  np.sum(h_fmc)))\n",
    "time_fMC = time.time()-start_time\n",
    "res_fMC = {'time':time.time()-start_time,\n",
    "           'p_fmc': p_fmc,\n",
    "           'B':B}\n",
    "with open(output_file, \"wb\") as f:\n",
    "    pickle.dump(res_fMC, f)    "
   ]
  },
  {
   "cell_type": "code",
   "execution_count": 16,
   "metadata": {},
   "outputs": [],
   "source": [
    "res_fMC = {'time':time.time()-start_time,\n",
    "           'p_fmc': p_fmc,\n",
    "           'B1':B[0:100000,:],\n",
    "           'B2':B[100000:,:]}\n",
    "with open(output_file, \"wb\") as f:\n",
    "    pickle.dump(res_fMC, f) "
   ]
  },
  {
   "cell_type": "code",
   "execution_count": 17,
   "metadata": {},
   "outputs": [],
   "source": [
    "with open(output_file, 'rb')as f:\n",
    "    res_dic = pickle.load(f)\n",
    "B = np.concatenate([res_fMC['B1'], res_fMC['B2']], axis=0)"
   ]
  },
  {
   "cell_type": "code",
   "execution_count": 70,
   "metadata": {},
   "outputs": [
    {
     "data": {
      "text/plain": [
       "23915"
      ]
     },
     "execution_count": 70,
     "metadata": {},
     "output_type": "execute_result"
    }
   ],
   "source": [
    "np.sum(ind_sample)"
   ]
  },
  {
   "cell_type": "code",
   "execution_count": null,
   "metadata": {},
   "outputs": [],
   "source": []
  },
  {
   "cell_type": "code",
   "execution_count": 69,
   "metadata": {},
   "outputs": [
    {
     "name": "stdout",
     "output_type": "stream",
     "text": [
      "44\n",
      "       chromosome        snp  start       end\n",
      "100847          4  rs2242330      0  68276015 [ True] [4.13340994e-06]\n",
      "       chromosome        snp  start       end\n",
      "100837          4  rs6826751      0  68262621 [ True] [1.24002298e-05]\n",
      "       chromosome        snp  start        end\n",
      "115749          4  rs4862792      0  188576499 [ True] [4.13340994e-06]\n",
      "       chromosome        snp  start       end\n",
      "100842          4  rs3775866      0  68272946 [ True] [4.13340994e-05]\n",
      "       chromosome       snp  start       end\n",
      "100830          4  rs355477      0  68225291 [ True] [0.00010334]\n",
      "       chromosome       snp  start       end\n",
      "100828          4  rs355461      0  68209490 [ True] [9.50684286e-05]\n",
      "       chromosome       snp  start       end\n",
      "100829          4  rs355506      0  68214848 [ True] [9.50684286e-05]\n",
      "       chromosome       snp  start       end\n",
      "100825          4  rs355464      0  68207890 [ True] [0.00013227]\n",
      "       chromosome        snp  start       end\n",
      "100821          4  rs1497430      0  68186580 [ True] [8.68016087e-05]\n",
      "       chromosome         snp  start       end\n",
      "100819          4  rs11946612      0  68164737 [ True] [7.0267969e-05]\n"
     ]
    }
   ],
   "source": [
    "ind_sample = (miss_prop[ind_small]<0.05)\n",
    "tau_fmc = md.bh(p_fmc[ind_sample], alpha=0.1)\n",
    "h_fmc = (p_fmc[ind_sample] <= tau_fmc)\n",
    "print(np.sum(h_fmc))\n",
    "df_map_c4 = df_map.loc[df_map['chromosome']==4]\n",
    "df_map_c4 = df_map_c4.loc[ind_sample]\n",
    "for snp in snp_list:\n",
    "    if np.sum(df_map_c4['snp']==snp)>0:\n",
    "        print(df_map_c4.loc[df_map_c4['snp']==snp], h_fmc[df_map_c4['snp']==snp],\n",
    "              p_fmc[ind_sample][df_map_c4['snp']==snp])"
   ]
  },
  {
   "cell_type": "code",
   "execution_count": null,
   "metadata": {},
   "outputs": [],
   "source": []
  },
  {
   "cell_type": "code",
   "execution_count": 45,
   "metadata": {
    "collapsed": true
   },
   "outputs": [
    {
     "name": "stdout",
     "output_type": "stream",
     "text": [
      "# Initialization parameters\n",
      "# n_hypothesis=24193, n_fMC=241930, alpha=0.05, increment=1.10\n",
      "# delta 0.001\n",
      "# delta_CI 3.334375938385421e-09\n",
      "# r_hat=24193, tau_hat=0.0500\n",
      "# batch_size [  100   111   122   134   147   162   178   195   215   236   260   286\n",
      "   314   346   380   418   460   506   556   612   673   741   815   896\n",
      "   985  1084  1192  1311  1443  1587  1745  1920  2112  2323  2555  2811\n",
      "  3092  3401  3741  4115  4526  4979  5477  6025  6627  7290  8018  8820\n",
      "  9702 10672 11740 12913 14205 15625 17188 18906 20797 14140]\n",
      "# sum of batch size = 241930\n",
      "# Initialization completed: time=-0.005s\n",
      "# 0, avg_sample=100.0, tau=0.00729, r_hat=3526, n_u=3526, n_g=20667, n_l=0\n",
      "# 1, avg_sample=116.2, tau=0.00490, r_hat=2373, n_u=2373, n_g=21820, n_l=0\n",
      "# 2, avg_sample=128.1, tau=0.00367, r_hat=1778, n_u=1778, n_g=22415, n_l=0\n",
      "# 3, avg_sample=138.0, tau=0.00311, r_hat=1505, n_u=1505, n_g=22688, n_l=0\n",
      "# 4, avg_sample=147.1, tau=0.00255, r_hat=1236, n_u=1236, n_g=22957, n_l=0\n",
      "# 5, avg_sample=155.4, tau=0.00224, r_hat=1084, n_u=1084, n_g=23109, n_l=0\n",
      "# 6, avg_sample=163.4, tau=0.00202, r_hat=978, n_u=978, n_g=23215, n_l=0\n",
      "# 7, avg_sample=171.3, tau=0.00178, r_hat=863, n_u=863, n_g=23330, n_l=0\n",
      "# 8, avg_sample=178.9, tau=0.00159, r_hat=768, n_u=768, n_g=23425, n_l=0\n",
      "# 9, avg_sample=186.4, tau=0.00150, r_hat=726, n_u=726, n_g=23467, n_l=0\n",
      "# 10, avg_sample=194.2, tau=0.00135, r_hat=651, n_u=651, n_g=23542, n_l=0\n",
      "# 11, avg_sample=201.9, tau=0.00125, r_hat=606, n_u=606, n_g=23587, n_l=0\n",
      "# 12, avg_sample=209.8, tau=0.00114, r_hat=553, n_u=553, n_g=23640, n_l=0\n",
      "# 13, avg_sample=217.7, tau=0.00106, r_hat=515, n_u=515, n_g=23678, n_l=0\n",
      "# 14, avg_sample=225.8, tau=0.00102, r_hat=492, n_u=492, n_g=23701, n_l=0\n",
      "# 15, avg_sample=234.3, tau=0.00095, r_hat=459, n_u=459, n_g=23734, n_l=0\n",
      "# 16, avg_sample=243.0, tau=0.00091, r_hat=441, n_u=441, n_g=23752, n_l=0\n",
      "# 17, avg_sample=252.2, tau=0.00086, r_hat=416, n_u=416, n_g=23777, n_l=0\n",
      "# 18, avg_sample=261.8, tau=0.00083, r_hat=403, n_u=403, n_g=23790, n_l=0\n",
      "# 19, avg_sample=272.0, tau=0.00079, r_hat=380, n_u=380, n_g=23813, n_l=0\n",
      "# 20, avg_sample=282.6, tau=0.00077, r_hat=373, n_u=373, n_g=23820, n_l=0\n",
      "# 21, avg_sample=294.0, tau=0.00073, r_hat=351, n_u=351, n_g=23842, n_l=0\n",
      "# 22, avg_sample=305.8, tau=0.00070, r_hat=337, n_u=337, n_g=23856, n_l=0\n",
      "# 23, avg_sample=318.3, tau=0.00068, r_hat=327, n_u=327, n_g=23866, n_l=0\n",
      "# 24, avg_sample=331.6, tau=0.00065, r_hat=313, n_u=313, n_g=23880, n_l=0\n",
      "# 25, avg_sample=345.6, tau=0.00062, r_hat=302, n_u=302, n_g=23891, n_l=0\n",
      "# 26, avg_sample=360.5, tau=0.00060, r_hat=289, n_u=289, n_g=23904, n_l=0\n",
      "# 27, avg_sample=376.2, tau=0.00058, r_hat=281, n_u=281, n_g=23912, n_l=0\n",
      "# 28, avg_sample=392.9, tau=0.00056, r_hat=271, n_u=271, n_g=23922, n_l=0\n",
      "# 29, avg_sample=410.7, tau=0.00054, r_hat=263, n_u=263, n_g=23930, n_l=0\n",
      "# 30, avg_sample=429.7, tau=0.00054, r_hat=259, n_u=259, n_g=23934, n_l=0\n",
      "# 31, avg_sample=450.2, tau=0.00052, r_hat=252, n_u=252, n_g=23941, n_l=0\n",
      "# 32, avg_sample=472.2, tau=0.00051, r_hat=245, n_u=245, n_g=23948, n_l=0\n",
      "# 33, avg_sample=495.8, tau=0.00050, r_hat=240, n_u=240, n_g=23953, n_l=0\n",
      "# 34, avg_sample=521.1, tau=0.00049, r_hat=238, n_u=238, n_g=23955, n_l=0\n",
      "# 35, avg_sample=548.8, tau=0.00048, r_hat=231, n_u=231, n_g=23962, n_l=0\n",
      "# 36, avg_sample=578.3, tau=0.00047, r_hat=225, n_u=225, n_g=23968, n_l=0\n",
      "# 37, avg_sample=609.9, tau=0.00046, r_hat=223, n_u=223, n_g=23970, n_l=0\n",
      "# 38, avg_sample=644.4, tau=0.00045, r_hat=220, n_u=220, n_g=23973, n_l=0\n",
      "# 39, avg_sample=681.8, tau=0.00045, r_hat=217, n_u=217, n_g=23976, n_l=0\n",
      "# 40, avg_sample=722.4, tau=0.00044, r_hat=215, n_u=215, n_g=23978, n_l=0\n",
      "# 41, avg_sample=766.7, tau=0.00043, r_hat=208, n_u=208, n_g=23985, n_l=0\n",
      "# 42, avg_sample=813.8, tau=0.00043, r_hat=207, n_u=207, n_g=23986, n_l=0\n",
      "# 43, avg_sample=865.3, tau=0.00042, r_hat=205, n_u=205, n_g=23988, n_l=0\n",
      "# 44, avg_sample=921.5, tau=0.00042, r_hat=203, n_u=203, n_g=23990, n_l=0\n",
      "# 45, avg_sample=982.6, tau=0.00042, r_hat=202, n_u=202, n_g=23991, n_l=0\n",
      "# 46, avg_sample=1049.6, tau=0.00041, r_hat=199, n_u=199, n_g=23994, n_l=0\n",
      "# 47, avg_sample=1122.1, tau=0.00040, r_hat=195, n_u=195, n_g=23998, n_l=0\n",
      "# 48, avg_sample=1200.3, tau=0.00040, r_hat=195, n_u=125, n_g=23998, n_l=70\n",
      "# 49, avg_sample=1255.5, tau=0.00040, r_hat=194, n_u=110, n_g=23999, n_l=84\n",
      "# 50, avg_sample=1308.8, tau=0.00039, r_hat=189, n_u=170, n_g=24004, n_l=19\n",
      "# 51, avg_sample=1392.9, tau=0.00038, r_hat=186, n_u=88, n_g=24007, n_l=98\n",
      "# 52, avg_sample=1444.6, tau=0.00038, r_hat=182, n_u=101, n_g=24011, n_l=81\n",
      "# 53, avg_sample=1507.2, tau=0.00037, r_hat=180, n_u=73, n_g=24013, n_l=107\n",
      "# 54, avg_sample=1559.1, tau=0.00037, r_hat=180, n_u=69, n_g=24013, n_l=111\n",
      "# 55, avg_sample=1613.0, tau=0.00037, r_hat=177, n_u=71, n_g=24016, n_l=106\n",
      "# 56, avg_sample=1671.6, tau=0.00036, r_hat=176, n_u=56, n_g=24017, n_l=120\n",
      "# 57, avg_sample=1704.5, tau=0.00030, r_hat=146, n_u=121, n_g=24047, n_l=25\n",
      "# 58, avg_sample=1772.2, tau=0.00030, r_hat=146, n_u=118, n_g=24047, n_l=28\n",
      "# 59, avg_sample=1841.5, tau=0.00030, r_hat=146, n_u=11, n_g=24047, n_l=135\n",
      "# 60, avg_sample=1848.7, tau=0.00030, r_hat=146, n_u=0, n_g=24047, n_l=146\n",
      "# AMT: avg. MC samples = 1848.7, time=1.15s\n",
      "# D_AMT=146, D_overlap=146, D_fMC=146\n",
      "\n"
     ]
    }
   ],
   "source": [
    "# with open(output_file, 'rb')as f:\n",
    "#     res_dic = pickle.load(f)\n",
    "# B = np.concatenate([res_fMC['B1'], res_fMC['B2']], axis=0)\n",
    "alpha=0.05\n",
    "start_time = time.time()\n",
    "p_hat_ub, p_hat, tau_hat, n_amt = md.amt(md.f_sample_dummy, B, n_hypothesis,\n",
    "                                         alpha=alpha, n_fMC=n_fMC,\n",
    "                                         verbose=True, delta=0.001)\n",
    "h_amt = (p_hat_ub <= tau_hat)\n",
    "print('# AMT: avg. MC samples = %0.1f, time=%0.2fs'%(np.mean(n_amt),\n",
    "                                                     time.time()-start_time))\n",
    "print('# D_AMT=%d, D_overlap=%d, D_fMC=%d'%(md.result_compare(h_amt, h_fmc)))\n",
    "print('')"
   ]
  },
  {
   "cell_type": "code",
   "execution_count": 67,
   "metadata": {},
   "outputs": [
    {
     "name": "stdout",
     "output_type": "stream",
     "text": [
      "44\n"
     ]
    }
   ],
   "source": [
    "ind_sample = (miss_prop[ind_small]<0.05)\n",
    "tau_fmc = md.bh(p_fmc[ind_sample], alpha=0.1)\n",
    "h_fmc = (p_fmc[ind_sample] <= tau_fmc)\n",
    "print(np.sum(h_fmc))\n",
    "# h_fmc = (p_fmc <= tau_fmc)"
   ]
  },
  {
   "cell_type": "code",
   "execution_count": 68,
   "metadata": {},
   "outputs": [
    {
     "name": "stdout",
     "output_type": "stream",
     "text": [
      "       chromosome        snp  start       end\n",
      "100847          4  rs2242330      0  68276015 [ True] [4.13340994e-06]\n",
      "       chromosome        snp  start       end\n",
      "100837          4  rs6826751      0  68262621 [ True] [1.24002298e-05]\n",
      "       chromosome        snp  start        end\n",
      "115749          4  rs4862792      0  188576499 [ True] [4.13340994e-06]\n",
      "       chromosome        snp  start       end\n",
      "100842          4  rs3775866      0  68272946 [ True] [4.13340994e-05]\n",
      "       chromosome       snp  start       end\n",
      "100830          4  rs355477      0  68225291 [ True] [0.00010334]\n",
      "       chromosome       snp  start       end\n",
      "100828          4  rs355461      0  68209490 [ True] [9.50684286e-05]\n",
      "       chromosome       snp  start       end\n",
      "100829          4  rs355506      0  68214848 [ True] [9.50684286e-05]\n",
      "       chromosome       snp  start       end\n",
      "100825          4  rs355464      0  68207890 [ True] [0.00013227]\n",
      "       chromosome        snp  start       end\n",
      "100821          4  rs1497430      0  68186580 [ True] [8.68016087e-05]\n",
      "       chromosome         snp  start       end\n",
      "100819          4  rs11946612      0  68164737 [ True] [7.0267969e-05]\n"
     ]
    }
   ],
   "source": [
    "df_map_c4 = df_map.loc[df_map['chromosome']==4]\n",
    "df_map_c4 = df_map_c4.loc[ind_sample]\n",
    "for snp in snp_list:\n",
    "    if np.sum(df_map_c4['snp']==snp)>0:\n",
    "        print(df_map_c4.loc[df_map_c4['snp']==snp], h_fmc[df_map_c4['snp']==snp],\n",
    "              p_fmc[ind_sample][df_map_c4['snp']==snp])"
   ]
  },
  {
   "cell_type": "code",
   "execution_count": 55,
   "metadata": {},
   "outputs": [
    {
     "ename": "IndexError",
     "evalue": "boolean index did not match indexed array along dimension 0; dimension is 23915 but corresponding boolean dimension is 24193",
     "output_type": "error",
     "traceback": [
      "\u001b[0;31m---------------------------------------------------------------------------\u001b[0m",
      "\u001b[0;31mIndexError\u001b[0m                                Traceback (most recent call last)",
      "\u001b[0;32m<ipython-input-55-db7213edfe13>\u001b[0m in \u001b[0;36m<module>\u001b[0;34m()\u001b[0m\n\u001b[1;32m      2\u001b[0m \u001b[0;32mfor\u001b[0m \u001b[0msnp\u001b[0m \u001b[0;32min\u001b[0m \u001b[0msnp_list\u001b[0m\u001b[0;34m:\u001b[0m\u001b[0;34m\u001b[0m\u001b[0m\n\u001b[1;32m      3\u001b[0m     \u001b[0;32mif\u001b[0m \u001b[0mnp\u001b[0m\u001b[0;34m.\u001b[0m\u001b[0msum\u001b[0m\u001b[0;34m(\u001b[0m\u001b[0mdf_map_c4\u001b[0m\u001b[0;34m[\u001b[0m\u001b[0;34m'snp'\u001b[0m\u001b[0;34m]\u001b[0m\u001b[0;34m==\u001b[0m\u001b[0msnp\u001b[0m\u001b[0;34m)\u001b[0m\u001b[0;34m>\u001b[0m\u001b[0;36m0\u001b[0m\u001b[0;34m:\u001b[0m\u001b[0;34m\u001b[0m\u001b[0m\n\u001b[0;32m----> 4\u001b[0;31m         print(df_map_c4.loc[df_map_c4['snp']==snp], h_fmc[df_map_c4['snp']==snp],\n\u001b[0m\u001b[1;32m      5\u001b[0m               p_fmc[df_map_c4['snp']==snp])\n",
      "\u001b[0;31mIndexError\u001b[0m: boolean index did not match indexed array along dimension 0; dimension is 23915 but corresponding boolean dimension is 24193"
     ]
    }
   ],
   "source": [
    "df_map_c4 = df_map.loc[df_map['chromosome']==4]\n",
    "for snp in snp_list:\n",
    "    if np.sum(df_map_c4['snp']==snp)>0:\n",
    "        print(df_map_c4.loc[df_map_c4['snp']==snp], h_fmc[df_map_c4['snp']==snp],\n",
    "              p_fmc[df_map_c4['snp']==snp])"
   ]
  },
  {
   "cell_type": "code",
   "execution_count": null,
   "metadata": {},
   "outputs": [],
   "source": []
  },
  {
   "cell_type": "markdown",
   "metadata": {},
   "source": [
    "# Full GWAS"
   ]
  },
  {
   "cell_type": "code",
   "execution_count": 25,
   "metadata": {},
   "outputs": [],
   "source": [
    "snp_list = ['rs10501570', 'rs281357', 'rs2242330', 'rs1480597', 'rs6826751', 'rs4888984',\n",
    "            'rs4862792', 'rs3775866', 'rs2235617', 'rs988421', 'rs7097094', 'rs999473',\n",
    "            'rs1912373', 'rs1887279', 'rs2986574', 'rs11090762', 'rs6125829', 'rs7796855',\n",
    "            'rs355477', 'rs3010040', 'rs2296713', 'rs355461', 'rs355506', 'rs355464',\n",
    "            'rs1497430', 'rs11946612']"
   ]
  },
  {
   "cell_type": "code",
   "execution_count": 38,
   "metadata": {},
   "outputs": [
    {
     "name": "stdout",
     "output_type": "stream",
     "text": [
      "       chromosome         snp  start       end\n",
      "262094         11  rs10501570      0  84095494\n",
      "       chromosome       snp  start       end\n",
      "343235         17  rs281357      0  19683106\n",
      "       chromosome        snp  start       end\n",
      "100847          4  rs2242330      0  68276015\n",
      "       chromosome        snp  start       end\n",
      "237247         10  rs1480597      0  44481115\n",
      "       chromosome        snp  start       end\n",
      "100837          4  rs6826751      0  68262621\n",
      "       chromosome        snp  start       end\n",
      "337424         16  rs4888984      0  78066835\n",
      "       chromosome        snp  start        end\n",
      "115749          4  rs4862792      0  188576499\n",
      "       chromosome        snp  start       end\n",
      "100842          4  rs3775866      0  68272946\n",
      "       chromosome        snp  start       end\n",
      "380211         20  rs2235617      0  47988384\n",
      "      chromosome       snp  start       end\n",
      "10385          1  rs988421      0  72261857\n",
      "       chromosome        snp  start       end\n",
      "237252         10  rs7097094      0  44530696\n",
      "       chromosome       snp  start       end\n",
      "237250         10  rs999473      0  44502322\n",
      "       chromosome        snp  start       end\n",
      "258213         11  rs1912373      0  56240441\n",
      "      chromosome        snp  start        end\n",
      "22113          1  rs1887279      0  180641817\n",
      "      chromosome        snp  start        end\n",
      "22108          1  rs2986574      0  180638271\n",
      "       chromosome         snp  start       end\n",
      "407979         22  rs11090762      0  46075844\n",
      "       chromosome        snp  start       end\n",
      "380213         20  rs6125829      0  48002336\n",
      "       chromosome        snp  start       end\n",
      "175197          7  rs7796855      0  49434707\n",
      "       chromosome       snp  start       end\n",
      "100830          4  rs355477      0  68225291\n",
      "      chromosome        snp  start        end\n",
      "22111          1  rs3010040      0  180639879\n",
      "      chromosome        snp  start        end\n",
      "22112          1  rs2296713      0  180641374\n",
      "       chromosome       snp  start       end\n",
      "100828          4  rs355461      0  68209490\n",
      "       chromosome       snp  start       end\n",
      "100829          4  rs355506      0  68214848\n",
      "       chromosome       snp  start       end\n",
      "100825          4  rs355464      0  68207890\n",
      "       chromosome        snp  start       end\n",
      "100821          4  rs1497430      0  68186580\n",
      "       chromosome         snp  start       end\n",
      "100819          4  rs11946612      0  68164737\n"
     ]
    }
   ],
   "source": [
    "for snp in snp_list:\n",
    "    if np.sum(df_map['snp']==snp)>0:\n",
    "        print(df_map.loc[df_map['snp']==snp])\n",
    "    else:\n",
    "        print('not found %s'%snp)"
   ]
  },
  {
   "cell_type": "code",
   "execution_count": null,
   "metadata": {},
   "outputs": [],
   "source": []
  },
  {
   "cell_type": "code",
   "execution_count": null,
   "metadata": {},
   "outputs": [],
   "source": []
  },
  {
   "cell_type": "code",
   "execution_count": null,
   "metadata": {},
   "outputs": [],
   "source": []
  },
  {
   "cell_type": "code",
   "execution_count": null,
   "metadata": {},
   "outputs": [],
   "source": []
  },
  {
   "cell_type": "code",
   "execution_count": null,
   "metadata": {},
   "outputs": [],
   "source": []
  },
  {
   "cell_type": "code",
   "execution_count": 5,
   "metadata": {},
   "outputs": [
    {
     "data": {
      "text/plain": [
       "1000"
      ]
     },
     "execution_count": 5,
     "metadata": {},
     "output_type": "execute_result"
    }
   ],
   "source": [
    "np.sum(data_gwas_small['chi2_obs']==md.compute_chi2(data_gwas_small['y'],\n",
    "                                                    data_gwas_small['X'],\n",
    "                                                    data_gwas_small['Exp'],\n",
    "                                                    data_gwas_small['r_Exp']))"
   ]
  },
  {
   "cell_type": "code",
   "execution_count": null,
   "metadata": {},
   "outputs": [],
   "source": []
  },
  {
   "cell_type": "code",
   "execution_count": null,
   "metadata": {},
   "outputs": [],
   "source": []
  },
  {
   "cell_type": "code",
   "execution_count": null,
   "metadata": {},
   "outputs": [],
   "source": []
  },
  {
   "cell_type": "code",
   "execution_count": 6,
   "metadata": {},
   "outputs": [],
   "source": [
    "B = md.permute_chi2_batch(data_gwas_small['y'],\n",
    "                          data_gwas_small['X'],\n",
    "                          data_gwas_small['Exp'],\n",
    "                          data_gwas_small['r_Exp'],\n",
    "                          data_gwas_small['chi2_obs'], 5000)"
   ]
  },
  {
   "cell_type": "code",
   "execution_count": 7,
   "metadata": {},
   "outputs": [
    {
     "data": {
      "text/plain": [
       "array([0.0582, 0.1778, 0.4416, 0.4678, 1.    ])"
      ]
     },
     "execution_count": 7,
     "metadata": {},
     "output_type": "execute_result"
    }
   ],
   "source": [
    "np.mean(B, axis=0)[0:5]"
   ]
  },
  {
   "cell_type": "code",
   "execution_count": null,
   "metadata": {},
   "outputs": [],
   "source": []
  },
  {
   "cell_type": "code",
   "execution_count": null,
   "metadata": {},
   "outputs": [],
   "source": []
  },
  {
   "cell_type": "code",
   "execution_count": 14,
   "metadata": {},
   "outputs": [],
   "source": [
    "ind_sample = np.zeros([1000], dtype=bool)\n",
    "ind_sample[0:5] = True\n",
    "n_new_sample = np.ones([5], dtype=int)*5000\n",
    "n_success = md.f_sample_chi2(data_gwas_small, ind_sample, n_new_sample, sample_start=None)"
   ]
  },
  {
   "cell_type": "code",
   "execution_count": 15,
   "metadata": {},
   "outputs": [
    {
     "data": {
      "text/plain": [
       "array([0.0656, 0.172 , 0.4394, 0.4764, 1.    ])"
      ]
     },
     "execution_count": 15,
     "metadata": {},
     "output_type": "execute_result"
    }
   ],
   "source": [
    "n_success/5000"
   ]
  },
  {
   "cell_type": "code",
   "execution_count": 12,
   "metadata": {},
   "outputs": [
    {
     "data": {
      "text/plain": [
       "array([5000, 5000, 5000, 5000, 5000])"
      ]
     },
     "execution_count": 12,
     "metadata": {},
     "output_type": "execute_result"
    }
   ],
   "source": [
    "n_new_sample"
   ]
  },
  {
   "cell_type": "code",
   "execution_count": 13,
   "metadata": {},
   "outputs": [
    {
     "data": {
      "text/plain": [
       "array([10840, 10840, 10840, 10840, 10840])"
      ]
     },
     "execution_count": 13,
     "metadata": {},
     "output_type": "execute_result"
    }
   ],
   "source": [
    "n_success"
   ]
  },
  {
   "cell_type": "code",
   "execution_count": null,
   "metadata": {},
   "outputs": [],
   "source": []
  },
  {
   "cell_type": "code",
   "execution_count": null,
   "metadata": {},
   "outputs": [],
   "source": []
  }
 ],
 "metadata": {
  "kernelspec": {
   "display_name": "Python 3",
   "language": "python",
   "name": "python3"
  },
  "language_info": {
   "codemirror_mode": {
    "name": "ipython",
    "version": 3
   },
   "file_extension": ".py",
   "mimetype": "text/x-python",
   "name": "python",
   "nbconvert_exporter": "python",
   "pygments_lexer": "ipython3",
   "version": "3.6.3"
  }
 },
 "nbformat": 4,
 "nbformat_minor": 2
}
