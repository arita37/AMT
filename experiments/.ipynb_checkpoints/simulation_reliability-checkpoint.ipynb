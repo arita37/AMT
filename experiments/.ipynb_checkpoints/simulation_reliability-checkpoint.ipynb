{
 "cells": [
  {
   "cell_type": "code",
   "execution_count": 1,
   "metadata": {},
   "outputs": [],
   "source": [
    "import numpy as np\n",
    "import scipy as sp\n",
    "from scipy import stats\n",
    "import matplotlib.pyplot as plt\n",
    "import time\n",
    "import amt.method as md\n",
    "import amt.data_loader as dl\n",
    "import pickle\n",
    "\n",
    "%matplotlib inline\n",
    "%load_ext autoreload\n",
    "%autoreload 2"
   ]
  },
  {
   "cell_type": "code",
   "execution_count": 2,
   "metadata": {},
   "outputs": [],
   "source": [
    "output_folder = '/home/martin/adapative_MC_test/results/simulation'\n",
    "output_figure_folder = '/home/martin/adapative_MC_test/figures/figure_simu'\n",
    "output_file = output_folder + '/simulation_reliability.pickle'\n",
    "n_hypothesis = 1000\n",
    "n_rep = 10000\n",
    "alpha = 0.1\n",
    "n_fMC = 10000\n",
    "delta_list = [0.001, 0.01, 0.1]\n",
    "# delta_list = [1]\n",
    "n_param = len(delta_list)\n",
    "method_list = ['fmc', 'amt']"
   ]
  },
  {
   "cell_type": "markdown",
   "metadata": {},
   "source": [
    "# Simulation"
   ]
  },
  {
   "cell_type": "code",
   "execution_count": 6,
   "metadata": {
    "scrolled": true
   },
   "outputs": [
    {
     "name": "stdout",
     "output_type": "stream",
     "text": [
      "delta=0.001, i_rep=0, time=0.000\n",
      "delta=0.001, i_rep=500, time=0.087\n",
      "delta=0.001, i_rep=1000, time=0.094\n",
      "delta=0.001, i_rep=1500, time=0.091\n",
      "delta=0.001, i_rep=2000, time=0.087\n",
      "delta=0.001, i_rep=2500, time=0.076\n",
      "delta=0.001, i_rep=3000, time=0.061\n",
      "delta=0.001, i_rep=3500, time=0.086\n",
      "delta=0.001, i_rep=4000, time=0.086\n",
      "delta=0.001, i_rep=4500, time=0.105\n",
      "delta=0.001, i_rep=5000, time=0.079\n",
      "delta=0.001, i_rep=5500, time=0.072\n",
      "delta=0.001, i_rep=6000, time=0.108\n",
      "delta=0.001, i_rep=6500, time=0.103\n",
      "delta=0.001, i_rep=7000, time=0.096\n",
      "delta=0.001, i_rep=7500, time=0.060\n",
      "delta=0.001, i_rep=8000, time=0.069\n",
      "delta=0.001, i_rep=8500, time=0.079\n",
      "delta=0.001, i_rep=9000, time=0.073\n",
      "delta=0.001, i_rep=9500, time=0.066\n",
      "delta=0.010, i_rep=0, time=0.070\n",
      "delta=0.010, i_rep=500, time=0.065\n",
      "delta=0.010, i_rep=1000, time=0.068\n",
      "delta=0.010, i_rep=1500, time=0.058\n",
      "delta=0.010, i_rep=2000, time=0.062\n",
      "delta=0.010, i_rep=2500, time=0.061\n",
      "delta=0.010, i_rep=3000, time=0.059\n",
      "delta=0.010, i_rep=3500, time=0.063\n",
      "delta=0.010, i_rep=4000, time=0.068\n",
      "delta=0.010, i_rep=4500, time=0.077\n",
      "delta=0.010, i_rep=5000, time=0.066\n",
      "delta=0.010, i_rep=5500, time=0.055\n",
      "delta=0.010, i_rep=6000, time=0.063\n",
      "delta=0.010, i_rep=6500, time=0.071\n",
      "delta=0.010, i_rep=7000, time=0.062\n",
      "delta=0.010, i_rep=7500, time=0.058\n",
      "delta=0.010, i_rep=8000, time=0.056\n",
      "delta=0.010, i_rep=8500, time=0.066\n",
      "delta=0.010, i_rep=9000, time=0.061\n",
      "delta=0.010, i_rep=9500, time=0.056\n",
      "delta=0.100, i_rep=0, time=0.056\n",
      "delta=0.100, i_rep=500, time=0.053\n",
      "delta=0.100, i_rep=1000, time=0.053\n",
      "delta=0.100, i_rep=1500, time=0.054\n",
      "delta=0.100, i_rep=2000, time=0.058\n",
      "delta=0.100, i_rep=2500, time=0.064\n",
      "delta=0.100, i_rep=3000, time=0.085\n",
      "delta=0.100, i_rep=3500, time=0.076\n",
      "delta=0.100, i_rep=4000, time=0.092\n",
      "delta=0.100, i_rep=4500, time=0.069\n",
      "delta=0.100, i_rep=5000, time=0.078\n",
      "delta=0.100, i_rep=5500, time=0.088\n",
      "delta=0.100, i_rep=6000, time=0.062\n",
      "delta=0.100, i_rep=6500, time=0.082\n",
      "delta=0.100, i_rep=7000, time=0.064\n",
      "delta=0.100, i_rep=7500, time=0.052\n",
      "delta=0.100, i_rep=8000, time=0.061\n",
      "delta=0.100, i_rep=8500, time=0.057\n",
      "delta=0.100, i_rep=9000, time=0.059\n",
      "delta=0.100, i_rep=9500, time=0.062\n"
     ]
    }
   ],
   "source": [
    "res_dic = {}\n",
    "for method in method_list:\n",
    "    res_dic[method] = {}\n",
    "    res_dic[method]['n_MC_avg'] = np.zeros([n_param, n_rep], dtype=float)\n",
    "    res_dic[method]['error'] = np.zeros([n_param, n_rep], dtype=bool)\n",
    "\n",
    "start_time = time.time()\n",
    "for i_delta,delta in enumerate(delta_list):\n",
    "    for i_rep in range(n_rep):\n",
    "        if i_rep%500==0:\n",
    "            print('delta=%0.3f, i_rep=%d, time=%0.3f'%(delta,i_rep,\n",
    "                                                       time.time()-start_time))\n",
    "        # Generate ground truth\n",
    "        p_exact, h = dl.load_demo_data(n_hypothesis=n_hypothesis, pi1=0.2, \n",
    "                                       effect_size=2.5, random_state=i_rep)\n",
    "        tau_exact = md.bh(p_exact, alpha=alpha)\n",
    "        h_exact = (p_exact <= tau_exact)\n",
    "        # fMC\n",
    "        B, p_fmc, t_fmc = md.get_monte_carlo_sample(p_exact, n_permutation=n_fMC)\n",
    "        tau_fmc = md.bh(p_fmc, alpha=alpha)\n",
    "        h_fmc = (p_fmc <= tau_fmc)\n",
    "        res_dic['fmc']['n_MC_avg'][i_delta,i_rep] = n_fMC\n",
    "        # AMT \n",
    "        p_hat_ub, p_hat, tau_hat, n_amt = md.amt(md.f_sample_dummy, B, n_hypothesis,\n",
    "                                                 alpha=alpha, n_fMC=n_fMC,\n",
    "                                                 verbose=False, delta=delta)\n",
    "        h_amt = (p_hat_ub <= tau_hat)\n",
    "        res_dic['amt']['n_MC_avg'][i_delta,i_rep] = np.mean(n_amt)\n",
    "        res_dic['amt']['error'][i_delta,i_rep] = (np.sum(h_amt!=h_fmc)>0)\n",
    "with open(output_file, \"wb\") as f:\n",
    "    pickle.dump(res_dic, f)"
   ]
  },
  {
   "cell_type": "markdown",
   "metadata": {},
   "source": [
    "# Generate figures"
   ]
  },
  {
   "cell_type": "code",
   "execution_count": 3,
   "metadata": {},
   "outputs": [
    {
     "name": "stdout",
     "output_type": "stream",
     "text": [
      "delta=0.00, error=0.000, n_avg=1127.6\n",
      "delta=0.01, error=0.000, n_avg=1032.7\n",
      "delta=0.10, error=0.000, n_avg=929.8\n"
     ]
    }
   ],
   "source": [
    "with open(output_file, 'rb')as f:\n",
    "    res_dic = pickle.load(f)\n",
    "for i_delta,delta in enumerate(delta_list):\n",
    "    print('delta=%0.2f, error=%0.3f, n_avg=%0.1f, std=%0.1f'%\n",
    "          (delta, np.mean(res_dic['amt']['error'][i_delta,:]),\n",
    "           np.mean(res_dic['amt']['n_MC_avg'][i_delta,:]),\n",
    "           np.std(res_dic['amt']['n_MC_avg'][i_delta,:])))"
   ]
  },
  {
   "cell_type": "code",
   "execution_count": null,
   "metadata": {},
   "outputs": [],
   "source": []
  },
  {
   "cell_type": "markdown",
   "metadata": {},
   "source": [
    "# Old code"
   ]
  },
  {
   "cell_type": "code",
   "execution_count": null,
   "metadata": {},
   "outputs": [],
   "source": [
    "with open(output_file, 'rb')as f:\n",
    "    res_dic = pickle.load(f)"
   ]
  },
  {
   "cell_type": "code",
   "execution_count": 16,
   "metadata": {},
   "outputs": [
    {
     "data": {
      "image/png": "[encoded data removed]",
      "text/plain": [
       "<Figure size 432x288 with 1 Axes>"
      ]
     },
     "metadata": {},
     "output_type": "display_data"
    }
   ],
   "source": [
    "# Generate the figures\n",
    "output_fig_file = output_figure_folder+'/figure_reliability'\n",
    "method_dic = {'fmc':'fMC', 'smc':'sMC', 'amt':'AMT'}\n",
    "marker_list = ['o', 'v', '^', '*', 'h', 'd']\n",
    "color_list = ['C1', 'C2', 'C3', 'C0', 'C5', 'C8']\n",
    "plt.figure()\n",
    "for i_method,method in enumerate(method_list):\n",
    "    y_val = np.mean(res_dic[method]['n_MC_avg'], axis=1)\n",
    "    temp = np.std(res_dic[method]['n_MC_avg'], axis=1) / np.sqrt(n_rep) * 1.96\n",
    "    y_err = np.zeros([2, n_param], dtype=float) \n",
    "    y_err[0,:] = np.log10(y_val) - np.log10(y_val-temp) \n",
    "    y_err[1,:] = np.log10(y_val+temp) - np.log10(y_val)\n",
    "    plt.errorbar(np.log10(delta_list), np.log10(y_val), yerr=y_err, label=method_dic[method],\\\n",
    "                 capsize=4, elinewidth = 1.5, linewidth=1.5,\\\n",
    "                 color = color_list[i_method], marker = marker_list[i_method],\\\n",
    "                 markersize = 6, alpha=0.8)\n",
    "y_val = np.mean(res_dic['amt']['error'], axis=1)\n",
    "y_val_mean = np.log10(np.mean(res_dic['amt']['n_MC_avg'], axis=1))\n",
    "for i_delta,delta in enumerate(delta_list):\n",
    "    plt.annotate('%0.2f'%(y_val[i_delta]), [np.log10(delta_list)[i_delta]+0.05,\n",
    "                                            y_val_mean[i_delta]+0.05], fontsize=12)\n",
    "# plt.yscale('log')\n",
    "plt.grid()\n",
    "plt.legend(fontsize=12)\n",
    "plt.xlabel('log10 failure probability $\\delta$', fontsize=12)\n",
    "plt.ylabel('log10 average MC samples', fontsize=12)\n",
    "plt.tight_layout()\n",
    "plt.savefig(output_fig_file+'.png')\n",
    "plt.savefig(output_fig_file+'.pdf')\n",
    "plt.show()"
   ]
  },
  {
   "cell_type": "code",
   "execution_count": null,
   "metadata": {},
   "outputs": [],
   "source": []
  }
 ],
 "metadata": {
  "kernelspec": {
   "display_name": "Python 3",
   "language": "python",
   "name": "python3"
  },
  "language_info": {
   "codemirror_mode": {
    "name": "ipython",
    "version": 3
   },
   "file_extension": ".py",
   "mimetype": "text/x-python",
   "name": "python",
   "nbconvert_exporter": "python",
   "pygments_lexer": "ipython3",
   "version": "3.6.3"
  }
 },
 "nbformat": 4,
 "nbformat_minor": 2
}
